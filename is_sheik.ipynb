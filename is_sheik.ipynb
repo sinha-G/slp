{
 "cells": [
  {
   "cell_type": "markdown",
   "metadata": {},
   "source": [
    "<h1> Detecting Whether the Inputs are a Sheik </h1>\n",
    "\n",
    "We want to train a binary classifier to accurately predict whether a multi-channel time series (representing a Super Smash Bros. Melee player's inputs) was produced by a Sheik player. We first load our required libraries."
   ]
  },
  {
   "cell_type": "code",
   "execution_count": 1,
   "metadata": {},
   "outputs": [],
   "source": [
    "import os as os\n",
    "import numpy as np\n",
    "import pandas as pd\n",
    "import torch\n",
    "import torch.nn as nn\n",
    "import torch.optim as optim\n",
    "from torch.utils.data import DataLoader, TensorDataset\n",
    "from sklearn.model_selection import train_test_split\n",
    "from sklearn.preprocessing import StandardScaler\n",
    "\n",
    "import tqdm\n",
    "\n",
    "import slippi as slp"
   ]
  },
  {
   "cell_type": "markdown",
   "metadata": {},
   "source": [
    "<h2> Preliminary Functions </h2>\n",
    "\n",
    "We use these functions to one-hot encode the button bitmask and get the frame data for a given port number and frames object."
   ]
  },
  {
   "cell_type": "code",
   "execution_count": null,
   "metadata": {},
   "outputs": [],
   "source": [
    "# Set the number of time steps in the model inputs\n",
    "frames_per_input = 60 * 12     # 12 seconds of gameplay\n",
    "\n",
    "def one_hot_encode(bitmask):\n",
    "    labels = ['DPAD_LEFT', 'DPAD_RIGHT', 'DPAD_DOWN', 'DPAD_UP', 'Z', 'R', 'L', 'A', 'B', 'X', 'Y', 'START']\n",
    "    encoded_values = [1, 2, 4, 8, 16, 32, 64, 256, 512, 1024, 2048, 4096]\n",
    "\n",
    "    # Create a dictionary mapping labels to their encoded values\n",
    "    label_to_value = dict(zip(labels, encoded_values))\n",
    "\n",
    "    # Initialize a list to store the one-hot encoded values\n",
    "    one_hot_encoded = [0] * len(labels)\n",
    "\n",
    "    # Iterate through labels and set the corresponding one-hot encoded value\n",
    "    for label, value in label_to_value.items():\n",
    "        if bitmask & value:\n",
    "            one_hot_encoded[labels.index(label)] = 1\n",
    "\n",
    "    return one_hot_encoded\n",
    "\n",
    "def get_frame_data(frames, port):\n",
    "    sheik_inputs = np.empty((0, 18))  # Initialize an empty NumPy array\n",
    "\n",
    "    for i, frame in enumerate(frames[300: 300 + frames_per_input]):   # Take frames_per_input frames. skips first 5 seconds.\n",
    "        buttons = one_hot_encode(frame.ports[port].leader.pre.buttons.physical.value)\n",
    "        j_x = frame.ports[port].leader.pre.joystick.x\n",
    "        j_y = frame.ports[port].leader.pre.joystick.y\n",
    "        c_x = frame.ports[port].leader.pre.cstick.x\n",
    "        c_y = frame.ports[port].leader.pre.cstick.y\n",
    "        t_l = frame.ports[port].leader.pre.triggers.physical.l\n",
    "        t_r = frame.ports[port].leader.pre.triggers.physical.r\n",
    "\n",
    "        frame_data = np.array(buttons + [j_x, j_y, c_x, c_y, t_l, t_r]).reshape(1, -1)\n",
    "        sheik_inputs = np.vstack((sheik_inputs, frame_data))\n",
    "\n",
    "    return sheik_inputs"
   ]
  },
  {
   "cell_type": "markdown",
   "metadata": {},
   "source": [
    "<h2> Data Loading </h2>\n",
    "\n",
    "We begin by iterating through the Slippi Public Dataset, extracting replays of Sheik-Fox games:"
   ]
  },
  {
   "cell_type": "code",
   "execution_count": null,
   "metadata": {},
   "outputs": [
    {
     "name": "stdout",
     "output_type": "stream",
     "text": [
      "2360\n"
     ]
    },
    {
     "name": "stderr",
     "output_type": "stream",
     "text": [
      "100%|██████████| 2360/2360 [35:44<00:00,  1.10it/s]"
     ]
    },
    {
     "name": "stdout",
     "output_type": "stream",
     "text": [
      "                                             TimeSeries  Label  \\\n",
      "0     [[0.0, 0.0, 0.0, 0.0, 0.0, 0.0, 0.0, 0.0, 0.0,...      0   \n",
      "1     [[0.0, 0.0, 0.0, 0.0, 0.0, 0.0, 0.0, 1.0, 0.0,...      0   \n",
      "2     [[0.0, 0.0, 0.0, 0.0, 0.0, 0.0, 0.0, 0.0, 0.0,...      0   \n",
      "3     [[0.0, 0.0, 0.0, 0.0, 0.0, 0.0, 0.0, 1.0, 0.0,...      0   \n",
      "4     [[0.0, 0.0, 0.0, 0.0, 0.0, 0.0, 0.0, 1.0, 0.0,...      0   \n",
      "...                                                 ...    ...   \n",
      "4447  [[0.0, 0.0, 0.0, 0.0, 0.0, 0.0, 0.0, 0.0, 0.0,...      1   \n",
      "4448  [[0.0, 0.0, 0.0, 0.0, 0.0, 0.0, 0.0, 1.0, 0.0,...      1   \n",
      "4449  [[0.0, 0.0, 0.0, 0.0, 0.0, 0.0, 0.0, 0.0, 0.0,...      1   \n",
      "4450  [[0.0, 0.0, 0.0, 0.0, 0.0, 0.0, 0.0, 1.0, 0.0,...      1   \n",
      "4451  [[0.0, 0.0, 0.0, 0.0, 0.0, 0.0, 0.0, 0.0, 0.0,...      1   \n",
      "\n",
      "                                                  FName  \n",
      "0             00_37_01.564Z [314] Fox + Sheik (FoD).slp  \n",
      "1             00_37_01.564Z [314] Fox + Sheik (FoD).slp  \n",
      "2              00_40_07.217Z [314] Fox + Sheik (DL).slp  \n",
      "3              00_40_07.217Z [314] Fox + Sheik (DL).slp  \n",
      "4      00_45_18.826Z [NELL] Fox + [LUST] Sheik (BF).slp  \n",
      "...                                                 ...  \n",
      "4447         Sheik vs Fox [YS] Game_20210222T125144.slp  \n",
      "4448  Sheik vs Fox [YS] Game_8C56C529AEAA_20200311T2...  \n",
      "4449  Sheik vs Fox [YS] Game_8C56C529AEAA_20200311T2...  \n",
      "4450  Sheik vs Fox [YS] Game_8C56C529AEAA_20200311T2...  \n",
      "4451  Sheik vs Fox [YS] Game_8C56C529AEAA_20200311T2...  \n",
      "\n",
      "[4452 rows x 3 columns]\n"
     ]
    },
    {
     "name": "stderr",
     "output_type": "stream",
     "text": [
      "\n"
     ]
    }
   ],
   "source": [
    "dataset_path = './Slippi_Public_Dataset_v3/'\n",
    "\n",
    "# List files in the dataset with Sheik\n",
    "slp_files = [file for file in os.listdir(dataset_path) if file.endswith('.slp') and 'Sheik' in file and 'Fox' in file]\n",
    "print(len(slp_files))\n",
    "\n",
    "time_series_list =[]\n",
    "label_list = []\n",
    "ids = []\n",
    "\n",
    "# Load the .slp files\n",
    "for i, slp_file in enumerate(tqdm.tqdm(slp_files)):\n",
    "    \n",
    "    # Get file path and store game variable\n",
    "    file_path = os.path.join(dataset_path, slp_file)\n",
    "    game = slp.Game(file_path)\n",
    "    frames = game.frames\n",
    "\n",
    "    if len(frames) < frames_per_input:          # Ignore games that are <3600 frames (i.e. <60 seconds)\n",
    "        continue\n",
    "    \n",
    "    # List occupied ports\n",
    "    occupied_ports = [i for i, port in enumerate(game.start.players) if port is not None]\n",
    "    port_1 = occupied_ports[0]\n",
    "    port_2 = occupied_ports[1]    \n",
    "\n",
    "    if (len(occupied_ports)) > 2:   # Ignore games that aren't singles\n",
    "            continue\n",
    "\n",
    "    # Determine characters playing\n",
    "    port_1_character = game.start.players[port_1].character.name\n",
    "    port_2_character = game.start.players[port_2].character.name\n",
    "\n",
    "    frame_data = get_frame_data(frames, port_1)\n",
    "    time_series_list.append(frame_data)\n",
    "    label_list.append(1 if port_1_character == 'SHEIK' else 0)\n",
    "    ids.append(slp_file)\n",
    "    frame_data = get_frame_data(frames, port_2)\n",
    "    time_series_list.append(frame_data)\n",
    "    label_list.append(1 if port_1_character == 'SHEIK' else 0)\n",
    "    ids.append(slp_file)\n",
    "    \n",
    "df = pd.DataFrame({\"TimeSeries\": time_series_list, \"Label\": label_list, \"FName\": ids})\n",
    "\n",
    "print(df)\n"
   ]
  },
  {
   "cell_type": "markdown",
   "metadata": {},
   "source": [
    "<h1> Data Visualization </h1>"
   ]
  },
  {
   "cell_type": "code",
   "execution_count": null,
   "metadata": {},
   "outputs": [
    {
     "data": {
      "text/plain": [
       "array([[<Axes: title={'center': 'Label'}>]], dtype=object)"
      ]
     },
     "execution_count": 15,
     "metadata": {},
     "output_type": "execute_result"
    },
    {
     "data": {
      "image/png": "[encoded data removed]",
      "text/plain": [
       "<Figure size 640x480 with 1 Axes>"
      ]
     },
     "metadata": {},
     "output_type": "display_data"
    }
   ],
   "source": [
    "df.hist()"
   ]
  },
  {
   "cell_type": "code",
   "execution_count": null,
   "metadata": {},
   "outputs": [],
   "source": [
    "df.info()"
   ]
  },
  {
   "cell_type": "code",
   "execution_count": null,
   "metadata": {},
   "outputs": [],
   "source": [
    "duplicate_rows = df[df.duplicated(subset = 'TimeSeries', keep = False)]\n",
    "\n",
    "print(duplicate_rows)"
   ]
  },
  {
   "cell_type": "markdown",
   "metadata": {},
   "source": [
    "<h1> Data Preprocessing </h1>"
   ]
  },
  {
   "cell_type": "code",
   "execution_count": null,
   "metadata": {},
   "outputs": [],
   "source": [
    "# Convert to PyTorch tensors\n",
    "time_series_tensor = torch.tensor(np.array(time_series_list), dtype=torch.float32)\n",
    "label_tensor = torch.tensor(label_list, dtype=torch.float32)\n",
    "\n",
    "# print(time_series_tensor.shape)\n",
    "# print(label_tensor.shape)\n",
    "\n",
    "channels = 18\n",
    "\n",
    "# Normalize each channel individually\n",
    "scaler = StandardScaler()\n",
    "time_series_normalized = torch.zeros(time_series_tensor.shape)\n",
    "\n",
    "# print(time_series_normalized.shape)\n",
    "# print(time_series_normalized[0,0,0])\n",
    "\n",
    "# Iterate over channels\n",
    "for i in range(channels):\n",
    "    time_series_normalized[:, :, i] = torch.tensor(scaler.fit_transform(time_series_tensor[:, :, i]))\n",
    "\n",
    "# print(time_series_normalized.shape)\n",
    "\n",
    "train_data, test_data, train_labels, test_labels = train_test_split(time_series_normalized, label_tensor, test_size = 0.2, shuffle = True, stratify = label_tensor)\n",
    "\n",
    "print(torch.isnan(time_series_normalized).any())\n",
    "print(torch.isnan(label_tensor).any())\n",
    "\n",
    "# print(train_labels)\n",
    "# print(test_labels)\n"
   ]
  },
  {
   "cell_type": "code",
   "execution_count": null,
   "metadata": {},
   "outputs": [],
   "source": [
    "\n"
   ]
  }
 ],
 "metadata": {
  "kernelspec": {
   "display_name": "slp",
   "language": "python",
   "name": "python3"
  },
  "language_info": {
   "codemirror_mode": {
    "name": "ipython",
    "version": 3
   },
   "file_extension": ".py",
   "mimetype": "text/x-python",
   "name": "python",
   "nbconvert_exporter": "python",
   "pygments_lexer": "ipython3",
   "version": "3.11.7"
  }
 },
 "nbformat": 4,
 "nbformat_minor": 2
}
