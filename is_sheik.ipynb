{
 "cells": [
  {
   "cell_type": "markdown",
   "metadata": {},
   "source": [
    "<h1> Detecting Whether the Inputs are a Sheik </h1>\n",
    "\n",
    "We want to train a binary classifier to accurately predict whether a multi-channel time series (representing a Super Smash Bros. Melee player's inputs) was produced by a Sheik player. We first load our required libraries."
   ]
  },
  {
   "cell_type": "code",
   "execution_count": 1,
   "metadata": {},
   "outputs": [],
   "source": [
    "import os as os\n",
    "\n",
    "import numpy as np\n",
    "import pandas as pd\n",
    "\n",
    "from sklearn.model_selection import train_test_split\n",
    "from sklearn.preprocessing import StandardScaler\n",
    "\n",
    "import torch\n",
    "import torch.nn as nn\n",
    "import torch.optim as optim\n",
    "\n",
    "import tqdm\n",
    "\n",
    "import slippi as slp"
   ]
  },
  {
   "cell_type": "markdown",
   "metadata": {},
   "source": [
    "<h2> Preliminary Functions </h2>\n",
    "\n",
    "We use these functions to one-hot encode the button bitmask and get the frame data for a given port number and frames object."
   ]
  },
  {
   "cell_type": "code",
   "execution_count": 2,
   "metadata": {},
   "outputs": [],
   "source": [
    "# Set the number of time steps in the model inputs\n",
    "frames_per_input = 60 * 12     # 12 seconds of gameplay\n",
    "\n",
    "def one_hot_encode(bitmask):\n",
    "    labels = ['DPAD_LEFT', 'DPAD_RIGHT', 'DPAD_DOWN', 'DPAD_UP', 'Z', 'R', 'L', 'A', 'B', 'X', 'Y', 'START']\n",
    "    encoded_values = [1, 2, 4, 8, 16, 32, 64, 256, 512, 1024, 2048, 4096]\n",
    "\n",
    "    # Create a dictionary mapping labels to their encoded values\n",
    "    label_to_value = dict(zip(labels, encoded_values))\n",
    "\n",
    "    # Initialize a list to store the one-hot encoded values\n",
    "    one_hot_encoded = [0] * len(labels)\n",
    "\n",
    "    # Iterate through labels and set the corresponding one-hot encoded value\n",
    "    for label, value in label_to_value.items():\n",
    "        if bitmask & value:\n",
    "            one_hot_encoded[labels.index(label)] = 1\n",
    "\n",
    "    return one_hot_encoded\n",
    "\n",
    "def get_frame_data(frames, port):\n",
    "    sheik_inputs = np.empty((0, 18))  # Initialize an empty NumPy array\n",
    "\n",
    "    for i, frame in enumerate(frames[300: 300 + frames_per_input]):   # Take frames_per_input frames. skips first 5 seconds.\n",
    "        buttons = one_hot_encode(frame.ports[port].leader.pre.buttons.physical.value)\n",
    "        j_x = frame.ports[port].leader.pre.joystick.x\n",
    "        j_y = frame.ports[port].leader.pre.joystick.y\n",
    "        c_x = frame.ports[port].leader.pre.cstick.x\n",
    "        c_y = frame.ports[port].leader.pre.cstick.y\n",
    "        t_l = frame.ports[port].leader.pre.triggers.physical.l\n",
    "        t_r = frame.ports[port].leader.pre.triggers.physical.r\n",
    "\n",
    "        frame_data = np.array(buttons + [j_x, j_y, c_x, c_y, t_l, t_r]).reshape(1, -1)\n",
    "        sheik_inputs = np.vstack((sheik_inputs, frame_data))\n",
    "\n",
    "    return sheik_inputs"
   ]
  },
  {
   "cell_type": "markdown",
   "metadata": {},
   "source": [
    "<h2> Data Loading </h2>\n",
    "\n",
    "We begin by iterating through the Slippi Public Dataset, extracting replays of Sheik-Fox games:"
   ]
  },
  {
   "cell_type": "code",
   "execution_count": 5,
   "metadata": {},
   "outputs": [
    {
     "name": "stdout",
     "output_type": "stream",
     "text": [
      "2362\n"
     ]
    },
    {
     "name": "stderr",
     "output_type": "stream",
     "text": [
      " 23%|██▎       | 537/2362 [02:02<06:55,  4.39it/s]\n"
     ]
    },
    {
     "ename": "KeyboardInterrupt",
     "evalue": "",
     "output_type": "error",
     "traceback": [
      "\u001b[1;31m---------------------------------------------------------------------------\u001b[0m",
      "\u001b[1;31mKeyboardInterrupt\u001b[0m                         Traceback (most recent call last)",
      "Cell \u001b[1;32mIn[5], line 38\u001b[0m\n\u001b[0;32m     36\u001b[0m label_list\u001b[38;5;241m.\u001b[39mappend(\u001b[38;5;241m1\u001b[39m \u001b[38;5;28;01mif\u001b[39;00m port_1_character \u001b[38;5;241m==\u001b[39m \u001b[38;5;124m'\u001b[39m\u001b[38;5;124mSHEIK\u001b[39m\u001b[38;5;124m'\u001b[39m \u001b[38;5;28;01melse\u001b[39;00m \u001b[38;5;241m0\u001b[39m)\n\u001b[0;32m     37\u001b[0m ids\u001b[38;5;241m.\u001b[39mappend(slp_file)\n\u001b[1;32m---> 38\u001b[0m frame_data \u001b[38;5;241m=\u001b[39m \u001b[43mget_frame_data\u001b[49m\u001b[43m(\u001b[49m\u001b[43mframes\u001b[49m\u001b[43m,\u001b[49m\u001b[43m \u001b[49m\u001b[43mport_2\u001b[49m\u001b[43m)\u001b[49m\n\u001b[0;32m     39\u001b[0m time_series_list\u001b[38;5;241m.\u001b[39mappend(frame_data)\n\u001b[0;32m     40\u001b[0m label_list\u001b[38;5;241m.\u001b[39mappend(\u001b[38;5;241m1\u001b[39m \u001b[38;5;28;01mif\u001b[39;00m port_2_character \u001b[38;5;241m==\u001b[39m \u001b[38;5;124m'\u001b[39m\u001b[38;5;124mSHEIK\u001b[39m\u001b[38;5;124m'\u001b[39m \u001b[38;5;28;01melse\u001b[39;00m \u001b[38;5;241m0\u001b[39m)\n",
      "Cell \u001b[1;32mIn[2], line 34\u001b[0m, in \u001b[0;36mget_frame_data\u001b[1;34m(frames, port)\u001b[0m\n\u001b[0;32m     31\u001b[0m     t_r \u001b[38;5;241m=\u001b[39m frame\u001b[38;5;241m.\u001b[39mports[port]\u001b[38;5;241m.\u001b[39mleader\u001b[38;5;241m.\u001b[39mpre\u001b[38;5;241m.\u001b[39mtriggers\u001b[38;5;241m.\u001b[39mphysical\u001b[38;5;241m.\u001b[39mr\n\u001b[0;32m     33\u001b[0m     frame_data \u001b[38;5;241m=\u001b[39m np\u001b[38;5;241m.\u001b[39marray(buttons \u001b[38;5;241m+\u001b[39m [j_x, j_y, c_x, c_y, t_l, t_r])\u001b[38;5;241m.\u001b[39mreshape(\u001b[38;5;241m1\u001b[39m, \u001b[38;5;241m-\u001b[39m\u001b[38;5;241m1\u001b[39m)\n\u001b[1;32m---> 34\u001b[0m     sheik_inputs \u001b[38;5;241m=\u001b[39m \u001b[43mnp\u001b[49m\u001b[38;5;241;43m.\u001b[39;49m\u001b[43mvstack\u001b[49m\u001b[43m(\u001b[49m\u001b[43m(\u001b[49m\u001b[43msheik_inputs\u001b[49m\u001b[43m,\u001b[49m\u001b[43m \u001b[49m\u001b[43mframe_data\u001b[49m\u001b[43m)\u001b[49m\u001b[43m)\u001b[49m\n\u001b[0;32m     36\u001b[0m \u001b[38;5;28;01mreturn\u001b[39;00m sheik_inputs\n",
      "File \u001b[1;32mc:\\Users\\jaspa\\.conda\\envs\\slp\\Lib\\site-packages\\numpy\\core\\shape_base.py:289\u001b[0m, in \u001b[0;36mvstack\u001b[1;34m(tup, dtype, casting)\u001b[0m\n\u001b[0;32m    287\u001b[0m \u001b[38;5;28;01mif\u001b[39;00m \u001b[38;5;129;01mnot\u001b[39;00m \u001b[38;5;28misinstance\u001b[39m(arrs, \u001b[38;5;28mlist\u001b[39m):\n\u001b[0;32m    288\u001b[0m     arrs \u001b[38;5;241m=\u001b[39m [arrs]\n\u001b[1;32m--> 289\u001b[0m \u001b[38;5;28;01mreturn\u001b[39;00m \u001b[43m_nx\u001b[49m\u001b[38;5;241;43m.\u001b[39;49m\u001b[43mconcatenate\u001b[49m\u001b[43m(\u001b[49m\u001b[43marrs\u001b[49m\u001b[43m,\u001b[49m\u001b[43m \u001b[49m\u001b[38;5;241;43m0\u001b[39;49m\u001b[43m,\u001b[49m\u001b[43m \u001b[49m\u001b[43mdtype\u001b[49m\u001b[38;5;241;43m=\u001b[39;49m\u001b[43mdtype\u001b[49m\u001b[43m,\u001b[49m\u001b[43m \u001b[49m\u001b[43mcasting\u001b[49m\u001b[38;5;241;43m=\u001b[39;49m\u001b[43mcasting\u001b[49m\u001b[43m)\u001b[49m\n",
      "\u001b[1;31mKeyboardInterrupt\u001b[0m: "
     ]
    }
   ],
   "source": [
    "dataset_path = './Slippi_Public_Dataset_v3/'\n",
    "\n",
    "# List files in the dataset with Sheik\n",
    "slp_files = [file for file in os.listdir(dataset_path) if file.endswith('.slp') and 'Sheik' in file and 'Fox' in file]\n",
    "print(len(slp_files))\n",
    "\n",
    "time_series_list =[]\n",
    "label_list = []\n",
    "ids = []\n",
    "\n",
    "# Load the .slp files\n",
    "for i, slp_file in enumerate(tqdm.tqdm(slp_files)):\n",
    "    \n",
    "    # Get file path and store game variable\n",
    "    file_path = os.path.join(dataset_path, slp_file)\n",
    "    game = slp.Game(file_path)\n",
    "    frames = game.frames\n",
    "\n",
    "    if len(frames) < 300 + frames_per_input:          # Ignore games that are <3600 frames (i.e. <60 seconds)\n",
    "        continue\n",
    "    \n",
    "    # List occupied ports\n",
    "    occupied_ports = [i for i, port in enumerate(game.start.players) if port is not None]\n",
    "    port_1 = occupied_ports[0]\n",
    "    port_2 = occupied_ports[1]    \n",
    "\n",
    "    if (len(occupied_ports)) > 2:   # Ignore games that aren't singles\n",
    "            continue\n",
    "\n",
    "    # Determine characters playing\n",
    "    port_1_character = game.start.players[port_1].character.name\n",
    "    port_2_character = game.start.players[port_2].character.name\n",
    "\n",
    "    frame_data = get_frame_data(frames, port_1)\n",
    "    time_series_list.append(frame_data)\n",
    "    label_list.append(1 if port_1_character == 'SHEIK' else 0)\n",
    "    ids.append(slp_file)\n",
    "    frame_data = get_frame_data(frames, port_2)\n",
    "    time_series_list.append(frame_data)\n",
    "    label_list.append(1 if port_2_character == 'SHEIK' else 0)\n",
    "    ids.append(slp_file)\n",
    "    \n",
    "df = pd.DataFrame({\"TimeSeries\": time_series_list, \"Label\": label_list, \"FName\": ids})\n",
    "\n",
    "print(df)\n"
   ]
  },
  {
   "cell_type": "markdown",
   "metadata": {},
   "source": [
    "<h1> Data Visualization </h1>"
   ]
  },
  {
   "cell_type": "code",
   "execution_count": 3,
   "metadata": {},
   "outputs": [
    {
     "name": "stdout",
     "output_type": "stream",
     "text": [
      "2362\n"
     ]
    },
    {
     "name": "stderr",
     "output_type": "stream",
     "text": [
      "  0%|          | 0/2362 [00:00<?, ?it/s]"
     ]
    }
   ],
   "source": [
    "# import os\n",
    "# import slp\n",
    "# import pandas as pd\n",
    "import multiprocessing\n",
    "\n",
    "# Function to process each slp file\n",
    "def process_slp_file(slp_file):\n",
    "    file_path = os.path.join(dataset_path, slp_file)\n",
    "    game = slp.Game(file_path)\n",
    "    frames = game.frames\n",
    "\n",
    "    if len(frames) < 300 + frames_per_input:          # Ignore games that are <3600 frames (i.e. <60 seconds)\n",
    "        print(f\"Ignoring {slp_file} - Game length is less than required.\")\n",
    "        return None\n",
    "    \n",
    "    # List occupied ports\n",
    "    occupied_ports = [i for i, port in enumerate(game.start.players) if port is not None]\n",
    "    port_1 = occupied_ports[0]\n",
    "    port_2 = occupied_ports[1]    \n",
    "\n",
    "    if len(occupied_ports) > 2:   # Ignore games that aren't singles\n",
    "        print(f\"Ignoring {slp_file} - Not a singles game.\")\n",
    "        return None\n",
    "\n",
    "    # Determine characters playing\n",
    "    port_1_character = game.start.players[port_1].character.name\n",
    "    port_2_character = game.start.players[port_2].character.name\n",
    "\n",
    "    frame_data1 = get_frame_data(frames, port_1)\n",
    "    frame_data2 = get_frame_data(frames, port_2)\n",
    "\n",
    "    print(f\"Processed {slp_file}\")\n",
    "    return frame_data1, port_1_character, frame_data2, port_2_character, slp_file\n",
    "\n",
    "if __name__ == '__main__':\n",
    "    dataset_path = './Slippi_Public_Dataset_v3/'\n",
    "    frames_per_input = 300  # You'll need to define this variable\n",
    "\n",
    "    slp_files = [file for file in os.listdir(dataset_path) if file.endswith('.slp') and 'Sheik' in file and 'Fox' in file]\n",
    "    print(f\"Total files to process: {len(slp_files)}\")\n",
    "\n",
    "    time_series_list = []\n",
    "    label_list = []\n",
    "    ids = []\n",
    "\n",
    "    # Create a pool of worker processes\n",
    "    pool = multiprocessing.Pool(processes=multiprocessing.cpu_count())\n",
    "\n",
    "    # Process slp files in parallel\n",
    "    results = pool.map(process_slp_file, slp_files)\n",
    "\n",
    "    # Close the pool of worker processes\n",
    "    pool.close()\n",
    "    pool.join()\n",
    "\n",
    "    # Filter out the None values from the results and extract the data\n",
    "    results = [result for result in results if result is not None]\n",
    "    for frame_data1, port_1_character, frame_data2, port_2_character, slp_file in results:\n",
    "        time_series_list.append(frame_data1)\n",
    "        label_list.append(1 if port_1_character == 'SHEIK' else 0)\n",
    "        ids.append(slp_file)\n",
    "        time_series_list.append(frame_data2)\n",
    "        label_list.append(1 if port_2_character == 'SHEIK' else 0)\n",
    "        ids.append(slp_file)\n",
    "\n",
    "    df = pd.DataFrame({\"TimeSeries\": time_series_list, \"Label\": label_list, \"FName\": ids})\n",
    "    print(df)\n"
   ]
  },
  {
   "cell_type": "code",
   "execution_count": null,
   "metadata": {},
   "outputs": [],
   "source": [
    "df.hist()"
   ]
  },
  {
   "cell_type": "code",
   "execution_count": null,
   "metadata": {},
   "outputs": [],
   "source": [
    "df.info()"
   ]
  },
  {
   "cell_type": "code",
   "execution_count": null,
   "metadata": {},
   "outputs": [],
   "source": [
    "duplicate_rows = df[df.duplicated(subset = 'TimeSeries', keep = False)]\n",
    "\n",
    "print(duplicate_rows)"
   ]
  },
  {
   "cell_type": "markdown",
   "metadata": {},
   "source": [
    "<h1> Data Preprocessing </h1>"
   ]
  },
  {
   "cell_type": "code",
   "execution_count": null,
   "metadata": {},
   "outputs": [],
   "source": [
    "# Convert to PyTorch tensors\n",
    "time_series_tensor = torch.tensor(np.array(time_series_list), dtype=torch.float32)\n",
    "label_tensor = torch.tensor(label_list, dtype=torch.float32)\n",
    "\n",
    "channels = 18\n",
    "\n",
    "# Normalize each channel individually\n",
    "scaler = StandardScaler()\n",
    "time_series_normalized = torch.zeros(time_series_tensor.shape)\n",
    "\n",
    "# Iterate over channels\n",
    "# for i in range(channels):\n",
    "#     time_series_normalized[:, :, i] = torch.tensor(scaler.fit_transform(time_series_tensor[:, :, i]))\n",
    "\n",
    "# print(time_series_sensor.shape)\n",
    "# print(time_series_normalized.shape)\n",
    "\n",
    "train_data, test_data, train_labels, test_labels = train_test_split(time_series_normalized, label_tensor, test_size = 0.2, shuffle = True, stratify = label_tensor)\n",
    "\n",
    "print(torch.isnan(time_series_normalized).any())\n",
    "print(torch.isnan(label_tensor).any())\n",
    "\n"
   ]
  }
 ],
 "metadata": {
  "kernelspec": {
   "display_name": "slp",
   "language": "python",
   "name": "python3"
  },
  "language_info": {
   "codemirror_mode": {
    "name": "ipython",
    "version": 3
   },
   "file_extension": ".py",
   "mimetype": "text/x-python",
   "name": "python",
   "nbconvert_exporter": "python",
   "pygments_lexer": "ipython3",
   "version": "3.11.7"
  }
 },
 "nbformat": 4,
 "nbformat_minor": 2
}
