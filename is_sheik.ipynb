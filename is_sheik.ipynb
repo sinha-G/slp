{
 "cells": [
  {
   "cell_type": "markdown",
   "metadata": {},
   "source": [
    "<h1> Detecting Whether the Inputs are a Sheik </h1>\n",
    "\n",
    "We want to train a binary classifier to accurately predict whether a multi-channel time series (representing a Super Smash Bros. Melee player's inputs) was produced by a Sheik player. We first load our required libraries."
   ]
  },
  {
   "cell_type": "code",
   "execution_count": 16,
   "metadata": {},
   "outputs": [],
   "source": [
    "import os as os\n",
    "\n",
    "import numpy as np\n",
    "import pandas as pd\n",
    "\n",
    "# from sklearn.model_selection import train_test_split\n",
    "# from sklearn.preprocessing import StandardScaler\n",
    "\n",
    "# import torch\n",
    "# import torch.nn as nn\n",
    "# import torch.optim as optim\n",
    "\n",
    "import tqdm\n",
    "\n",
    "import slippi as slp\n",
    "\n",
    "from joblib import Parallel, delayed\n"
   ]
  },
  {
   "cell_type": "markdown",
   "metadata": {},
   "source": [
    "<h2> Preliminary Functions </h2>\n",
    "\n",
    "We use these functions to one-hot encode the button bitmask and get the frame data for a given port number and frames object."
   ]
  },
  {
   "cell_type": "code",
   "execution_count": 17,
   "metadata": {},
   "outputs": [],
   "source": [
    "# Set the number of time steps in the model inputs\n",
    "frames_per_input = 60 * 12     # 12 seconds of gameplay\n",
    "\n",
    "\n",
    "def one_hot_encode(bitmask):\n",
    "    labels = ['DPAD_LEFT', 'DPAD_RIGHT', 'DPAD_DOWN', 'DPAD_UP', 'Z', 'R', 'L', 'A', 'B', 'X', 'Y', 'START']\n",
    "    encoded_values = [1, 2, 4, 8, 16, 32, 64, 256, 512, 1024, 2048, 4096]\n",
    "\n",
    "    # Create a dictionary mapping labels to their encoded values\n",
    "    label_to_value = dict(zip(labels, encoded_values))\n",
    "\n",
    "    # Initialize a list to store the one-hot encoded values\n",
    "    one_hot_encoded = [0] * len(labels)\n",
    "\n",
    "    # Iterate through labels and set the corresponding one-hot encoded value\n",
    "    for label, value in label_to_value.items():\n",
    "        if bitmask & value:\n",
    "            one_hot_encoded[labels.index(label)] = 1\n",
    "\n",
    "    return one_hot_encoded\n",
    "\n",
    "\n",
    "## Append a new row to a numpy list\n",
    "# def get_frame_data(frames, port):\n",
    "#     sheik_inputs = np.empty((0, 18))  # Initialize an empty NumPy array\n",
    "\n",
    "#     for i, frame in enumerate(frames[300: ]):   # Take frames_per_input frames. skips first 5 seconds.\n",
    "#         buttons = one_hot_encode(frame.ports[port].leader.pre.buttons.physical.value)\n",
    "#         j_x = frame.ports[port].leader.pre.joystick.x\n",
    "#         j_y = frame.ports[port].leader.pre.joystick.y\n",
    "#         c_x = frame.ports[port].leader.pre.cstick.x\n",
    "#         c_y = frame.ports[port].leader.pre.cstick.y\n",
    "#         t_l = frame.ports[port].leader.pre.triggers.physical.l\n",
    "#         t_r = frame.ports[port].leader.pre.triggers.physical.r\n",
    "\n",
    "#         frame_data = np.array(buttons + [j_x, j_y, c_x, c_y, t_l, t_r]).reshape(1, -1)\n",
    "#         sheik_inputs = np.vstack((sheik_inputs, frame_data))\n",
    "\n",
    "#     return sheik_inputs\n",
    "\n",
    "## Create a numpy list that is the correct size and fill it with a loop\n",
    "def get_frame_data(frames, port):\n",
    "    sheik_inputs = np.empty((len(frames)-300, 18))  # Initialize an empty NumPy array\n",
    "        \n",
    "    for i, frame in enumerate(frames[300:  ]):   # Take frames_per_input frames. skips first 5 seconds.\n",
    "        buttons = one_hot_encode(frame.ports[port].leader.pre.buttons.physical.value)\n",
    "        j_x = frame.ports[port].leader.pre.joystick.x\n",
    "        j_y = frame.ports[port].leader.pre.joystick.y\n",
    "        c_x = frame.ports[port].leader.pre.cstick.x\n",
    "        c_y = frame.ports[port].leader.pre.cstick.y\n",
    "        t_l = frame.ports[port].leader.pre.triggers.physical.l\n",
    "        t_r = frame.ports[port].leader.pre.triggers.physical.r\n",
    "\n",
    "        frame_data = buttons + [j_x, j_y, c_x, c_y, t_l, t_r]\n",
    "        sheik_inputs[i] = frame_data\n",
    "\n",
    "    return sheik_inputs\n",
    "\n",
    "## List comprehension\n",
    "# def get_frame_data(frames, port):\n",
    "#     return np.array([\n",
    "#         one_hot_encode(frame.ports[port].leader.pre.buttons.physical.value) +\n",
    "#         [frame.ports[port].leader.pre.joystick.x,\n",
    "#          frame.ports[port].leader.pre.joystick.y,\n",
    "#          frame.ports[port].leader.pre.cstick.x,\n",
    "#          frame.ports[port].leader.pre.cstick.y,\n",
    "#          frame.ports[port].leader.pre.triggers.physical.l,\n",
    "#          frame.ports[port].leader.pre.triggers.physical.r]\n",
    "#         # for frame in frames[300: 300 + frames_per_input]\n",
    "#         for frame in frames[300:]\n",
    "#     ])\n",
    "\n",
    "# Append to a numpy list is vastly slower than the other two.\n",
    "# Getting the frames in the second two algorithms take the same amount of time,\n",
    "# but the third option takes longer because it seems to have more to do after it is done to get the dataframe."
   ]
  },
  {
   "cell_type": "markdown",
   "metadata": {},
   "source": [
    "<h2> Data Loading </h2>\n",
    "\n",
    "We begin by iterating through the Slippi Public Dataset, extracting replays of Sheik-Fox games:"
   ]
  },
  {
   "cell_type": "code",
   "execution_count": 19,
   "metadata": {},
   "outputs": [
    {
     "name": "stdout",
     "output_type": "stream",
     "text": [
      "2362\n"
     ]
    },
    {
     "name": "stderr",
     "output_type": "stream",
     "text": [
      "[Parallel(n_jobs=-1)]: Using backend LokyBackend with 24 concurrent workers.\n",
      "[Parallel(n_jobs=-1)]: Done   2 tasks      | elapsed:    0.2s\n",
      "[Parallel(n_jobs=-1)]: Done  13 tasks      | elapsed:    0.5s\n",
      "[Parallel(n_jobs=-1)]: Done  24 tasks      | elapsed:    0.7s\n",
      "[Parallel(n_jobs=-1)]: Done  37 tasks      | elapsed:    1.0s\n",
      "[Parallel(n_jobs=-1)]: Done  50 tasks      | elapsed:    1.2s\n",
      "[Parallel(n_jobs=-1)]: Done  65 tasks      | elapsed:    1.6s\n",
      "[Parallel(n_jobs=-1)]: Done  80 tasks      | elapsed:    1.9s\n",
      "[Parallel(n_jobs=-1)]: Done  97 tasks      | elapsed:    2.4s\n",
      "[Parallel(n_jobs=-1)]: Done 114 tasks      | elapsed:    2.7s\n",
      "[Parallel(n_jobs=-1)]: Done 133 tasks      | elapsed:    3.2s\n",
      "[Parallel(n_jobs=-1)]: Done 152 tasks      | elapsed:    3.6s\n",
      "[Parallel(n_jobs=-1)]: Done 173 tasks      | elapsed:    4.2s\n",
      "[Parallel(n_jobs=-1)]: Done 194 tasks      | elapsed:    4.6s\n",
      "[Parallel(n_jobs=-1)]: Done 217 tasks      | elapsed:    5.3s\n",
      "[Parallel(n_jobs=-1)]: Done 240 tasks      | elapsed:    5.8s\n",
      "[Parallel(n_jobs=-1)]: Done 265 tasks      | elapsed:    6.4s\n",
      "[Parallel(n_jobs=-1)]: Done 290 tasks      | elapsed:    7.0s\n",
      "[Parallel(n_jobs=-1)]: Done 317 tasks      | elapsed:    7.6s\n",
      "[Parallel(n_jobs=-1)]: Done 344 tasks      | elapsed:    8.2s\n",
      "[Parallel(n_jobs=-1)]: Done 373 tasks      | elapsed:    8.9s\n",
      "[Parallel(n_jobs=-1)]: Done 402 tasks      | elapsed:    9.5s\n",
      "[Parallel(n_jobs=-1)]: Done 433 tasks      | elapsed:   10.4s\n",
      "[Parallel(n_jobs=-1)]: Done 464 tasks      | elapsed:   11.3s\n",
      "[Parallel(n_jobs=-1)]: Done 497 tasks      | elapsed:   12.3s\n",
      "[Parallel(n_jobs=-1)]: Done 530 tasks      | elapsed:   13.1s\n",
      "[Parallel(n_jobs=-1)]: Done 565 tasks      | elapsed:   14.0s\n",
      "[Parallel(n_jobs=-1)]: Done 600 tasks      | elapsed:   14.8s\n",
      "[Parallel(n_jobs=-1)]: Done 637 tasks      | elapsed:   15.8s\n",
      "[Parallel(n_jobs=-1)]: Done 674 tasks      | elapsed:   16.8s\n",
      "[Parallel(n_jobs=-1)]: Done 713 tasks      | elapsed:   17.8s\n",
      "[Parallel(n_jobs=-1)]: Done 752 tasks      | elapsed:   18.9s\n",
      "[Parallel(n_jobs=-1)]: Done 793 tasks      | elapsed:   19.9s\n",
      "[Parallel(n_jobs=-1)]: Done 834 tasks      | elapsed:   21.0s\n",
      "[Parallel(n_jobs=-1)]: Done 877 tasks      | elapsed:   22.1s\n",
      "[Parallel(n_jobs=-1)]: Done 920 tasks      | elapsed:   23.2s\n",
      "[Parallel(n_jobs=-1)]: Done 965 tasks      | elapsed:   24.5s\n",
      "[Parallel(n_jobs=-1)]: Done 1010 tasks      | elapsed:   25.7s\n",
      "[Parallel(n_jobs=-1)]: Done 1057 tasks      | elapsed:   27.0s\n",
      "[Parallel(n_jobs=-1)]: Done 1104 tasks      | elapsed:   28.1s\n",
      "[Parallel(n_jobs=-1)]: Done 1153 tasks      | elapsed:   29.3s\n",
      "[Parallel(n_jobs=-1)]: Done 1202 tasks      | elapsed:   30.6s\n",
      "[Parallel(n_jobs=-1)]: Done 1253 tasks      | elapsed:   32.0s\n",
      "[Parallel(n_jobs=-1)]: Done 1304 tasks      | elapsed:   33.2s\n",
      "[Parallel(n_jobs=-1)]: Done 1357 tasks      | elapsed:   34.5s\n",
      "[Parallel(n_jobs=-1)]: Done 1410 tasks      | elapsed:   35.8s\n",
      "[Parallel(n_jobs=-1)]: Done 1465 tasks      | elapsed:   37.2s\n",
      "[Parallel(n_jobs=-1)]: Done 1520 tasks      | elapsed:   38.7s\n",
      "[Parallel(n_jobs=-1)]: Done 1577 tasks      | elapsed:   40.3s\n",
      "[Parallel(n_jobs=-1)]: Done 1634 tasks      | elapsed:   41.8s\n",
      "[Parallel(n_jobs=-1)]: Done 1693 tasks      | elapsed:   43.5s\n",
      "[Parallel(n_jobs=-1)]: Done 1752 tasks      | elapsed:   45.1s\n",
      "[Parallel(n_jobs=-1)]: Done 1813 tasks      | elapsed:   46.9s\n",
      "[Parallel(n_jobs=-1)]: Done 1874 tasks      | elapsed:   48.6s\n",
      "[Parallel(n_jobs=-1)]: Done 1937 tasks      | elapsed:   50.3s\n",
      "[Parallel(n_jobs=-1)]: Done 2000 tasks      | elapsed:   52.0s\n",
      "[Parallel(n_jobs=-1)]: Done 2065 tasks      | elapsed:   53.8s\n",
      "[Parallel(n_jobs=-1)]: Done 2130 tasks      | elapsed:   55.4s\n",
      "[Parallel(n_jobs=-1)]: Done 2197 tasks      | elapsed:   57.0s\n",
      "[Parallel(n_jobs=-1)]: Done 2264 tasks      | elapsed:   59.0s\n",
      "100%|██████████| 2362/2362 [01:00<00:00, 39.16it/s]\n",
      "[Parallel(n_jobs=-1)]: Done 2362 out of 2362 | elapsed:  1.0min finished\n"
     ]
    },
    {
     "name": "stdout",
     "output_type": "stream",
     "text": [
      "                                             TimeSeries  Label  \\\n",
      "18    [[0.0, 0.0, 0.0, 0.0, 0.0, 0.0, 0.0, 0.0, 0.0,...      0   \n",
      "33    [[0.0, 0.0, 0.0, 0.0, 0.0, 0.0, 0.0, 0.0, 0.0,...      1   \n",
      "30    [[0.0, 0.0, 0.0, 0.0, 0.0, 0.0, 0.0, 0.0, 0.0,...      0   \n",
      "44    [[0.0, 0.0, 0.0, 0.0, 0.0, 0.0, 0.0, 0.0, 0.0,...      1   \n",
      "13    [[0.0, 0.0, 0.0, 0.0, 0.0, 0.0, 0.0, 0.0, 0.0,...      0   \n",
      "...                                                 ...    ...   \n",
      "4497  [[0.0, 0.0, 0.0, 0.0, 0.0, 0.0, 0.0, 0.0, 0.0,...      1   \n",
      "4508  [[0.0, 0.0, 0.0, 0.0, 0.0, 0.0, 0.0, 0.0, 0.0,...      0   \n",
      "4505  [[0.0, 0.0, 0.0, 0.0, 0.0, 1.0, 0.0, 0.0, 0.0,...      1   \n",
      "4510  [[0.0, 0.0, 0.0, 0.0, 0.0, 0.0, 0.0, 0.0, 0.0,...      0   \n",
      "4509  [[0.0, 0.0, 0.0, 0.0, 0.0, 0.0, 0.0, 0.0, 0.0,...      1   \n",
      "\n",
      "                                                  FName  \n",
      "18            00_37_01.564Z [314] Fox + Sheik (FoD).slp  \n",
      "33            00_37_01.564Z [314] Fox + Sheik (FoD).slp  \n",
      "30             00_40_07.217Z [314] Fox + Sheik (DL).slp  \n",
      "44             00_40_07.217Z [314] Fox + Sheik (DL).slp  \n",
      "13     00_45_18.826Z [NELL] Fox + [LUST] Sheik (BF).slp  \n",
      "...                                                 ...  \n",
      "4497         Sheik vs Fox [YS] Game_20210222T125144.slp  \n",
      "4508  Sheik vs Fox [YS] Game_8C56C529AEAA_20200311T2...  \n",
      "4505  Sheik vs Fox [YS] Game_8C56C529AEAA_20200311T2...  \n",
      "4510  Sheik vs Fox [YS] Game_8C56C529AEAA_20200311T2...  \n",
      "4509  Sheik vs Fox [YS] Game_8C56C529AEAA_20200311T2...  \n",
      "\n",
      "[4516 rows x 3 columns]\n"
     ]
    }
   ],
   "source": [
    "import os\n",
    "# import slp\n",
    "import tqdm\n",
    "import pandas as pd\n",
    "from joblib import Parallel, delayed\n",
    "from multiprocessing import Manager\n",
    "\n",
    "# Function to process a single SLP file and append to shared lists\n",
    "def process_slp_file(slp_file, dataset_path, time_series_list, label_list, ids):\n",
    "    try:\n",
    "        file_path = os.path.join(dataset_path, slp_file)\n",
    "        game = slp.Game(file_path)\n",
    "        frames = game.frames\n",
    "\n",
    "        if len(frames) < 300 + frames_per_input:  # Ignore games that are <3600 frames (i.e. <60 seconds)\n",
    "            return\n",
    "\n",
    "        # List occupied ports\n",
    "        occupied_ports = [i for i, port in enumerate(game.start.players) if port is not None]\n",
    "        port_1 = occupied_ports[0]\n",
    "        port_2 = occupied_ports[1]\n",
    "\n",
    "        if len(occupied_ports) > 2:  # Ignore games that aren't singles\n",
    "            return\n",
    "\n",
    "        # Determine characters playing\n",
    "        port_1_character = game.start.players[port_1].character.name\n",
    "        port_2_character = game.start.players[port_2].character.name\n",
    "\n",
    "        frame_data = get_frame_data(frames, port_1)\n",
    "        time_series_list.append(frame_data)\n",
    "        label_list.append(1 if port_1_character == 'SHEIK' else 0)\n",
    "        ids.append(slp_file)\n",
    "        frame_data = get_frame_data(frames, port_2)\n",
    "        time_series_list.append(frame_data)\n",
    "        label_list.append(1 if port_2_character == 'SHEIK' else 0)\n",
    "        ids.append(slp_file)\n",
    "    except Exception as e:\n",
    "        print(f\"Error processing {slp_file}: {str(e)}\")\n",
    "\n",
    "# Set your dataset_path and frames_per_input\n",
    "dataset_path = './Slippi_Public_Dataset_v3/'\n",
    "# frames_per_input = ...\n",
    "\n",
    "slp_files = [file for file in os.listdir(dataset_path) if file.endswith('.slp') and 'Sheik' in file and 'Fox' in file]\n",
    "print(len(slp_files))\n",
    "\n",
    "# Create shared lists to store results\n",
    "manager = Manager()\n",
    "time_series_list = manager.list()\n",
    "label_list = manager.list()\n",
    "ids = manager.list()\n",
    "\n",
    "# Use joblib to parallelize processing of SLP files\n",
    "Parallel(n_jobs=-1, verbose=10)(delayed(process_slp_file)(slp_file, dataset_path, time_series_list, label_list, ids) for slp_file in tqdm.tqdm(slp_files))\n",
    "\n",
    "# Create a DataFrame from the results\n",
    "df = pd.DataFrame({\"TimeSeries\": list(time_series_list), \"Label\": list(label_list), \"FName\": list(ids)})\n",
    "\n",
    "\n",
    "df.sort_values(by=['FName','Label'],inplace=True)\n",
    "df.reset_index(drop=True)\n",
    "print(df)\n"
   ]
  },
  {
   "cell_type": "code",
   "execution_count": 26,
   "metadata": {},
   "outputs": [
    {
     "name": "stdout",
     "output_type": "stream",
     "text": [
      "Total memory usage of the DataFrame: 1103462 bytes\n"
     ]
    }
   ],
   "source": [
    "# Get memory usage for each column in bytes\n",
    "memory_usage = df.memory_usage(deep=True)\n",
    "\n",
    "# Sum the memory usage values to get the total memory usage of the DataFrame\n",
    "total_memory_usage = memory_usage.sum()\n",
    "\n",
    "print(f\"Total memory usage of the DataFrame: {total_memory_usage} bytes\")"
   ]
  },
  {
   "cell_type": "code",
   "execution_count": 32,
   "metadata": {},
   "outputs": [
    {
     "name": "stdout",
     "output_type": "stream",
     "text": [
      "(4261, 18)\n",
      "(5702, 18)\n",
      "(7032, 18)\n",
      "(10314, 18)\n"
     ]
    }
   ],
   "source": [
    "\n"
   ]
  },
  {
   "cell_type": "code",
   "execution_count": 33,
   "metadata": {},
   "outputs": [],
   "source": [
    "import pandas as pd\n",
    "\n",
    "# Specify the file path where you want to save the pickle file\n",
    "pickle_file_path = './data/Sheik_vs_Fox_full_input_data.pkl'\n",
    "\n",
    "# Save the DataFrame as a pickle file\n",
    "df.to_pickle(pickle_file_path)\n"
   ]
  },
  {
   "cell_type": "markdown",
   "metadata": {},
   "source": [
    "<h1> Data Visualization </h1>"
   ]
  },
  {
   "cell_type": "code",
   "execution_count": 22,
   "metadata": {},
   "outputs": [],
   "source": [
    "# df.hist()"
   ]
  },
  {
   "cell_type": "code",
   "execution_count": 23,
   "metadata": {},
   "outputs": [],
   "source": [
    "# df.info()"
   ]
  },
  {
   "cell_type": "code",
   "execution_count": 24,
   "metadata": {},
   "outputs": [],
   "source": [
    "# duplicate_rows = df[df.duplicated(subset = 'TimeSeries', keep = False)]\n",
    "\n",
    "# print(duplicate_rows)"
   ]
  },
  {
   "cell_type": "markdown",
   "metadata": {},
   "source": [
    "<h1> Data Preprocessing </h1>"
   ]
  },
  {
   "cell_type": "code",
   "execution_count": 25,
   "metadata": {},
   "outputs": [],
   "source": [
    "# # Convert to PyTorch tensors\n",
    "# time_series_tensor = torch.tensor(np.array(time_series_list), dtype=torch.float32)\n",
    "# label_tensor = torch.tensor(label_list, dtype=torch.float32)\n",
    "\n",
    "# channels = 18\n",
    "\n",
    "# # Normalize each channel individually\n",
    "# scaler = StandardScaler()\n",
    "# time_series_normalized = torch.zeros(time_series_tensor.shape)\n",
    "\n",
    "# # Iterate over channels\n",
    "# # for i in range(channels):\n",
    "# #     time_series_normalized[:, :, i] = torch.tensor(scaler.fit_transform(time_series_tensor[:, :, i]))\n",
    "\n",
    "# # print(time_series_sensor.shape)\n",
    "# # print(time_series_normalized.shape)\n",
    "\n",
    "# train_data, test_data, train_labels, test_labels = train_test_split(time_series_normalized, label_tensor, test_size = 0.2, shuffle = True, stratify = label_tensor)\n",
    "\n",
    "# print(torch.isnan(time_series_normalized).any())\n",
    "# print(torch.isnan(label_tensor).any())\n",
    "\n"
   ]
  }
 ],
 "metadata": {
  "kernelspec": {
   "display_name": "slp",
   "language": "python",
   "name": "python3"
  },
  "language_info": {
   "codemirror_mode": {
    "name": "ipython",
    "version": 3
   },
   "file_extension": ".py",
   "mimetype": "text/x-python",
   "name": "python",
   "nbconvert_exporter": "python",
   "pygments_lexer": "ipython3",
   "version": "3.12.1"
  }
 },
 "nbformat": 4,
 "nbformat_minor": 2
}
