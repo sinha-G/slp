{
 "cells": [
  {
   "cell_type": "markdown",
   "metadata": {},
   "source": [
    "<h1> Slippi Data Exploration </h1>\n",
    "\n",
    "We load required libraries first. The goal at first will be to understand the content of the .slp files in order to identify and isolate relevant features for machine learning applications."
   ]
  },
  {
   "cell_type": "code",
   "execution_count": null,
   "metadata": {},
   "outputs": [],
   "source": [
    "import os as os\n",
    "import numpy as np\n",
    "import pandas as pd\n",
    "\n",
    "import slippi as slp"
   ]
  },
  {
   "cell_type": "markdown",
   "metadata": {},
   "source": [
    "<h3> Data Loading </h3>\n",
    "\n",
    "We load a handful of replays. We'll output the characters and winners of each game:"
   ]
  },
  {
   "cell_type": "code",
   "execution_count": null,
   "metadata": {},
   "outputs": [],
   "source": [
    "replay_batch = 1000\n",
    "dataset_path = './Slippi_Public_Dataset_v3/'\n",
    "\n",
    "# List of all files in the dataset\n",
    "slp_files = [file for file in os.listdir(dataset_path) if file.endswith('.slp')]\n",
    "\n",
    "# Load the first three .slp files\n",
    "for i, slp_file in enumerate(slp_files[:replay_batch]):\n",
    "    \n",
    "    # Get file path and store game variable\n",
    "    file_path = os.path.join(dataset_path, slp_file)\n",
    "    game = slp.Game(file_path)\n",
    "    final_frame = game.frames[-1]\n",
    "\n",
    "    # List occupied ports\n",
    "    occupied_ports = [i for i, port in enumerate(game.start.players) if port is not None]\n",
    "    port_1 = occupied_ports[0]\n",
    "    port_2 = occupied_ports[1]\n",
    "    \n",
    "    # Determine winner using final_frame stocks and percentage.\n",
    "    if (final_frame.ports[port_1].leader.post.stocks < final_frame.ports[port_2].leader.post.stocks or \n",
    "            (final_frame.ports[port_1].leader.post.stocks == final_frame.ports[port_2].leader.post.stocks and\n",
    "              final_frame.ports[port_1].leader.post.damage <= final_frame.ports[port_2].leader.post.stocks)):      # <-- Port priority in action\n",
    "        winner = port_1\n",
    "    else:\n",
    "        winner = port_2\n",
    "\n",
    "    # Determine characters playing\n",
    "    port_1_character = game.start.players[port_1].character.name\n",
    "    port_2_character = game.start.players[port_2].character.name\n",
    "\n",
    "    print(f\"Port {port_1} Character : {port_1_character}\")\n",
    "    print(f\"Port {port_2} Character : {port_2_character}\")\n",
    "\n",
    "    print(f'Winner: Port {winner} ({game.start.players[winner].character.name})')\n",
    "\n"
   ]
  },
  {
   "cell_type": "markdown",
   "metadata": {},
   "source": [
    "<h3> Frame Data Exploration </h3>\n",
    "\n",
    "We iterate through the frames of the games and print out the data on player inputs for each frame: "
   ]
  },
  {
   "cell_type": "code",
   "execution_count": null,
   "metadata": {},
   "outputs": [],
   "source": [
    "# Some preliminary functions for printing data and one-hot encoding the button bitmask\n",
    "\n",
    "def one_hot_encode(bitmask):\n",
    "    labels = ['DPAD_LEFT', 'DPAD_RIGHT', 'DPAD_DOWN', 'DPAD_UP', 'Z', 'R', 'L', 'A', 'B', 'X', 'Y', 'START']\n",
    "    encoded_values = [1, 2, 4, 8, 16, 32, 64, 256, 512, 1024, 2048, 4096]\n",
    "\n",
    "    # Create a dictionary mapping labels to their encoded values\n",
    "    label_to_value = dict(zip(labels, encoded_values))\n",
    "\n",
    "    # Initialize a list to store the one-hot encoded values\n",
    "    one_hot_encoded = [0] * len(labels)\n",
    "\n",
    "    # Iterate through labels and set the corresponding one-hot encoded value\n",
    "    for label, value in label_to_value.items():\n",
    "        if bitmask & value:\n",
    "            one_hot_encoded[labels.index(label)] = 1\n",
    "\n",
    "    return one_hot_encoded\n",
    "\n",
    "def print_player_frame_data(frame, port):\n",
    "    print(f\"\\n\\tPort {port} Inputs:\")\n",
    "    # print(f\"\\tLogical Buttons {frame.ports[port].leader.pre.buttons.logical.name}\")\n",
    "    print(f\"\\tPhysical Buttons {frame.ports[port].leader.pre.buttons.physical}\")\n",
    "    print(f\"\\tPhysical Buttons Values {frame.ports[port].leader.pre.buttons.physical.value}\")\n",
    "    print(f\"\\tPhysical Buttons Names {frame.ports[port].leader.pre.buttons.physical.name}\")\n",
    "    # print(f\"\\tLogical Triggers {frame.ports[port].leader.pre.triggers.logical}\")\n",
    "    # print(f\"\\tJoystick {frame.ports[port].leader.pre.joystick}\")\n",
    "    print(f\"\\tJoystick X {frame.ports[port].leader.pre.joystick.x}\")\n",
    "    print(f\"\\tJoystick Y {frame.ports[port].leader.pre.joystick.y}\")\n",
    "    # print(f\"\\tC-Stick {frame.ports[port].leader.pre.cstick}\")\n",
    "    print(f\"\\tC-Stick X {frame.ports[port].leader.pre.cstick.x}\")\n",
    "    print(f\"\\tC-Stick Y {frame.ports[port].leader.pre.cstick.y}\")\n",
    "    print(f\"\\tL Trigger {frame.ports[port].leader.pre.triggers.physical.l}\")\n",
    "    print(f\"\\tR Trigger {frame.ports[port].leader.pre.triggers.physical.r}\")"
   ]
  },
  {
   "cell_type": "code",
   "execution_count": null,
   "metadata": {},
   "outputs": [],
   "source": [
    "# Physical Buttons are an enumerated class. Note that 128 seems to be missing according to the docs. Will have to verify... (TODO)\n",
    "# Physical Buttons: (NONE 0, DPAD_LEFT 1, DPAD_RIGHT 2, DPAD_DOWN 4, DPAD_UP 8, Z 16, R 32, L 64, A 256, B 512, X 1024, Y 2048, START 4096)\n",
    "# Joystick X: [-1, 1]\n",
    "# Joystick Y: [-1, 1]\n",
    "# C-Stick X: [-1, 1]\n",
    "# C-Stick Y: [-1, 1]\n",
    "# L Trigger: [0, 1]\n",
    "# R Trigger: [0, 1]\n",
    "# A one-hot encoding of the physical buttons will give a total of 19 features (13 buttons, 2 joystick, 2 c-stick, 2 triggers)\n",
    "\n",
    "\n",
    "# unique_physical_buttons = set()\n",
    "\n",
    "for i, slp_file in enumerate(slp_files[:replay_batch]):\n",
    "    \n",
    "    # Get file path and store game variable\n",
    "    file_path = os.path.join(dataset_path, slp_file)\n",
    "    game = slp.Game(file_path)\n",
    "\n",
    "    # List occupied ports\n",
    "    occupied_ports = [i for i, port in enumerate(game.start.players) if port is not None]\n",
    "    port_1 = occupied_ports[0]\n",
    "    port_2 = occupied_ports[1]\n",
    "\n",
    "    # Get frame data for game\n",
    "    frames = game.frames\n",
    "\n",
    "    for i, frame in enumerate(frames):\n",
    "        print(f\"\\nFrame {i} Data:\")\n",
    "        print_player_frame_data(frame, port_1)\n",
    "        print_player_frame_data(frame, port_2)\n",
    "        # unique_physical_buttons.add(frame.ports[port_1].leader.pre.buttons.physical.value)\n",
    "        # unique_physical_buttons.add(frame.ports[port_2].leader.pre.buttons.physical.value)\n",
    "\n",
    "# print(unique_physical_buttons)"
   ]
  }
 ],
 "metadata": {
  "kernelspec": {
   "display_name": "slp",
   "language": "python",
   "name": "python3"
  },
  "language_info": {
   "codemirror_mode": {
    "name": "ipython",
    "version": 3
   },
   "file_extension": ".py",
   "mimetype": "text/x-python",
   "name": "python",
   "nbconvert_exporter": "python",
   "pygments_lexer": "ipython3",
   "version": "3.11.7"
  }
 },
 "nbformat": 4,
 "nbformat_minor": 2
}
