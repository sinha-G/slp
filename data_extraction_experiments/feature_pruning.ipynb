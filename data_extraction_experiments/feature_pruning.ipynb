{
 "cells": [
  {
   "cell_type": "code",
   "execution_count": null,
   "metadata": {},
   "outputs": [],
   "source": [
    "import pandas as pd\n",
    "import numpy as np\n",
    "import matplotlib.pyplot as plt\n",
    "from numba import njit"
   ]
  },
  {
   "cell_type": "code",
   "execution_count": null,
   "metadata": {},
   "outputs": [],
   "source": [
    "# Load the DataFrame from the pickle file\n",
    "df = pd.read_pickle('./data/Sheik_vs_Fox_full_input_data.pkl')\n",
    "labels = ['DPAD_LEFT', 'DPAD_RIGHT', 'DPAD_DOWN', 'DPAD_UP', 'Z', 'R', 'L', 'A', 'B', 'X', 'Y', 'START','J_X','J_Y','C_X','C_Y','T_L','T_R']\n",
    "\n",
    "# Now, 'loaded_df' contains the data from the pickle file as a DataFrame"
   ]
  },
  {
   "cell_type": "code",
   "execution_count": null,
   "metadata": {},
   "outputs": [],
   "source": [
    "# Assuming df is your DataFrame with 'TimeSeries' column containing 2D numpy arrays\n",
    "# Define the indices of the columns to be removed\n",
    "columns_to_remove = [0, 1, 2, 3, 6, 7, 11]\n",
    "\n",
    "# Use a list comprehension to create a new 'TimeSeries' column with modified arrays\n",
    "df['TimeSeries'] = [np.delete(array, columns_to_remove, axis=1) for array in df['TimeSeries']]\n"
   ]
  },
  {
   "cell_type": "code",
   "execution_count": null,
   "metadata": {},
   "outputs": [],
   "source": [
    "# Define the labels for the new columns\n",
    "new_column_labels = ['Z', 'A', 'B', 'X', 'Y', 'J_X', 'J_Y', 'C_X', 'C_Y', 'T_L', 'T_R']\n",
    "\n",
    "# Iterate through the new column labels and add them to the DataFrame\n",
    "for label in new_column_labels:\n",
    "    df[label] = df['TimeSeries'].apply(lambda arr: arr[:, new_column_labels.index(label)])\n"
   ]
  },
  {
   "cell_type": "code",
   "execution_count": null,
   "metadata": {},
   "outputs": [],
   "source": [
    "# Create a new column 'max_X_Y' with the maximum of 'X' and 'Y' numpy arrays\n",
    "df['max_X_Y'] = df.apply(lambda row: np.maximum(row['X'], row['Y']), axis=1)\n",
    "\n",
    "# Create a new column 'max_T' with the maximum of 'T_L' and 'T_Y' numpy arrays\n",
    "df['max_T'] = df.apply(lambda row: np.maximum(row['T_L'], row['T_R']), axis=1)\n",
    "\n",
    "# Convert 'J_X' and 'J_Y' to polar coordinates and create 'J_theta' and 'J_radius' columns\n",
    "df['J_theta'] = df.apply(lambda row: np.arctan2(row['J_Y'], row['J_X']), axis=1)\n",
    "df['J_radius'] = df.apply(lambda row: np.sqrt(row['J_X'] ** 2 + row['J_Y'] ** 2), axis=1)\n",
    "\n",
    "# Convert 'C_X' and 'C_Y' to polar coordinates and create 'C_theta' and 'C_radius' columns\n",
    "df['C_theta'] = df.apply(lambda row: np.arctan2(row['C_Y'], row['C_X']), axis=1)\n",
    "df['C_radius'] = df.apply(lambda row: np.sqrt(row['C_X'] ** 2 + row['C_Y'] ** 2), axis=1)\n",
    "\n",
    "\n",
    "\n",
    "# Display the resulting DataFrame\n",
    "print(df)"
   ]
  },
  {
   "cell_type": "code",
   "execution_count": null,
   "metadata": {},
   "outputs": [],
   "source": [
    "df.columns"
   ]
  },
  {
   "cell_type": "code",
   "execution_count": null,
   "metadata": {},
   "outputs": [],
   "source": [
    "\n",
    "\n",
    "def overlay_charts_from_columns(df, column_lists, row_index):\n",
    "    \"\"\"\n",
    "    Generate an overlaid chart from selected columns in a DataFrame row.\n",
    "\n",
    "    Parameters:\n",
    "    - df: DataFrame containing the data.\n",
    "    - column_lists: List of lists where each sublist contains column names to overlay.\n",
    "    - row_index: Row index in the DataFrame for the data to plot.\n",
    "\n",
    "    Example usage:\n",
    "    overlay_charts_from_columns(df, [['max_X_Y', 'max_T']], 0)\n",
    "    \"\"\"\n",
    "\n",
    "    # Get the row data for the specified index\n",
    "    row_data = df.iloc[row_index]\n",
    "\n",
    "    # Create a new figure for the chart\n",
    "    plt.figure(figsize=(100, 10))\n",
    "\n",
    "    # Flatten the list of column names within column_lists\n",
    "    flattened_column_names = [col for sublist in column_lists for col in sublist]\n",
    "\n",
    "    # Loop through the flattened column names and plot each column individually\n",
    "    for column_name in flattened_column_names:\n",
    "        plt.plot(row_data[column_name], label=f'{column_name}')\n",
    "\n",
    "    # Set chart title based on the selected column names\n",
    "    chart_title = ', '.join(flattened_column_names)\n",
    "    plt.title(chart_title)\n",
    "\n",
    "    # Add legend to distinguish different columns\n",
    "    plt.legend()\n",
    "\n",
    "    # Customize labels, axis titles, etc. as needed\n",
    "    plt.xlabel('X-axis Label')\n",
    "    plt.ylabel('Y-axis Label')\n",
    "\n",
    "    # Show the chart\n",
    "    plt.show()\n",
    "\n",
    "# Example usage:\n",
    "# overlay_charts_from_columns(df, [['max_X_Y', 'max_T']], 0)\n",
    "\n"
   ]
  },
  {
   "cell_type": "code",
   "execution_count": null,
   "metadata": {},
   "outputs": [],
   "source": [
    "n = 7\n",
    "\n",
    "row = 2*n\n",
    "# ['TimeSeries', 'Label', 'FName', 'Z', 'R', 'L', 'A', 'B', 'X', 'Y',\n",
    "#        'J_X', 'J_Y', 'C_X', 'C_Y', 'T_L', 'T_R', 'max_X_Y', 'max_T', 'J_theta',\n",
    "#        'J_radius', 'C_theta', 'C_radius'],\n",
    "# column_lists = [['max_X_Y','max_T']]\n",
    "column_lists = [['J_Y','B']]\n",
    "overlay_charts_from_columns(df, column_lists, row)\n",
    "\n",
    "row += 1 \n",
    "# ['TimeSeries', 'Label', 'FName', 'Z', 'R', 'L', 'A', 'B', 'X', 'Y',\n",
    "#        'J_X', 'J_Y', 'C_X', 'C_Y', 'T_L', 'T_R', 'max_X_Y', 'max_T', 'J_theta',\n",
    "#        'J_radius', 'C_theta', 'C_radius'],\n",
    "# column_lists = [['max_X_Y','max_T']]\n",
    "column_lists = [['J_Y','B']]\n",
    "overlay_charts_from_columns(df, column_lists, row)"
   ]
  },
  {
   "cell_type": "code",
   "execution_count": null,
   "metadata": {},
   "outputs": [],
   "source": [
    "# Add game lenght column\n",
    "df['game_length_sec'] = df['Z'].apply(len) / 60\n",
    "df['game_length_sec'].describe()\n"
   ]
  },
  {
   "cell_type": "code",
   "execution_count": null,
   "metadata": {},
   "outputs": [],
   "source": [
    "# Filter out games longer than 8 minutes\n",
    "filtered_df = df[df['game_length_sec'] <= 8*60]\n",
    "\n",
    "# Create a histogram plot of the 'game_length' column\n",
    "# bins are 4 seconds wide\n",
    "plt.hist(filtered_df['game_length_sec'] / 60, bins=8*15, color='blue', edgecolor='black')\n",
    "\n",
    "# Customize the plot with labels and title\n",
    "plt.xlabel('Game Length (minutes)')\n",
    "plt.ylabel('Frequency')\n",
    "plt.title('Histogram of Game Length')\n",
    "\n",
    "# Show the histogram\n",
    "plt.show()"
   ]
  },
  {
   "cell_type": "code",
   "execution_count": null,
   "metadata": {},
   "outputs": [],
   "source": [
    "# Function to count value switches in a numpy array\n",
    "@njit()\n",
    "def count_value_switches(arr):\n",
    "    if len(arr) < 2:\n",
    "        return 0\n",
    "\n",
    "    switches = 0\n",
    "    prev_value = arr[0]\n",
    "\n",
    "    for value in arr[1:]:\n",
    "        if value != prev_value:\n",
    "            switches += 1\n",
    "            prev_value = value\n",
    "\n",
    "    return switches\n",
    "\n",
    "df['num_B'] = df['B'].apply(count_value_switches)\n",
    "# Display the resulting DataFrame\n",
    "print(df['num_B'])\n",
    "\n",
    "df['B_per_sec'] = df['num_B'] / df['game_length_sec']"
   ]
  },
  {
   "cell_type": "code",
   "execution_count": null,
   "metadata": {},
   "outputs": [],
   "source": [
    "\n",
    "\n",
    "# Split the DataFrame into two based on 'Label' values\n",
    "label_1_data = df[df['Label'] == 1]\n",
    "label_0_data = df[df['Label'] == 0]\n",
    "\n",
    "# Create a figure with two subplots (side-by-side)\n",
    "fig, axs = plt.subplots(1, 2, figsize=(12, 6))\n",
    "\n",
    "# Calculate the common range for both histograms\n",
    "common_range = [min(df['B_per_sec']), max(df['B_per_sec'])]\n",
    "\n",
    "bins_count = 50\n",
    "\n",
    "# Plot the histograms for 'B_per_sec' for Label 1 and Label 0 with the same range\n",
    "axs[0].hist(label_1_data['B_per_sec'], bins=bins_count, color='blue', edgecolor='black', alpha=0.7, range=common_range)\n",
    "axs[1].hist(label_0_data['B_per_sec'], bins=bins_count, color='red', edgecolor='black', alpha=0.7, range=common_range)\n",
    "\n",
    "# Set the same Y-axis range for both subplots\n",
    "y_max = max(max(axs[0].get_ylim()), max(axs[1].get_ylim()))\n",
    "axs[0].set_ylim(0, y_max)\n",
    "axs[1].set_ylim(0, y_max)\n",
    "\n",
    "# Set titles and labels for the subplots\n",
    "axs[0].set_title('Histogram of B_per_sec (Shiek)')\n",
    "axs[1].set_title('Histogram of B_per_sec (Fox)')\n",
    "axs[0].set_xlabel('B_per_sec')\n",
    "axs[1].set_xlabel('B_per_sec')\n",
    "axs[0].set_ylabel('Frequency')\n",
    "axs[1].set_ylabel('Frequency')\n",
    "\n",
    "# Show the histograms\n",
    "plt.tight_layout()\n",
    "plt.show()"
   ]
  },
  {
   "cell_type": "code",
   "execution_count": null,
   "metadata": {},
   "outputs": [],
   "source": []
  }
 ],
 "metadata": {
  "kernelspec": {
   "display_name": "slp_3_12",
   "language": "python",
   "name": "python3"
  },
  "language_info": {
   "codemirror_mode": {
    "name": "ipython",
    "version": 3
   },
   "file_extension": ".py",
   "mimetype": "text/x-python",
   "name": "python",
   "nbconvert_exporter": "python",
   "pygments_lexer": "ipython3",
   "version": "3.11.7"
  }
 },
 "nbformat": 4,
 "nbformat_minor": 2
}
