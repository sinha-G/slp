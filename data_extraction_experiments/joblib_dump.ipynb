{
 "cells": [
  {
   "cell_type": "code",
   "execution_count": null,
   "metadata": {},
   "outputs": [],
   "source": [
    "import os as os\n",
    "import slippi as slp\n",
    "from joblib import Parallel, delayed, dump, load\n",
    "import time\n",
    "import pickle   \n",
    "# import _pickle as cpkl\n",
    "import gzip\n"
   ]
  },
  {
   "cell_type": "code",
   "execution_count": null,
   "metadata": {},
   "outputs": [],
   "source": [
    "dataset_path = '../Slippi_Public_Dataset_v3/'\n",
    "dump_folder = 'C:/Users/jaspa/Grant ML/game_dump'\n",
    "slp_files = [file for file in os.listdir(dataset_path) if file.endswith('.slp') and 'Sheik' in file and 'Fox' in file]\n"
   ]
  },
  {
   "cell_type": "code",
   "execution_count": null,
   "metadata": {},
   "outputs": [],
   "source": [
    "def process_file(slp_file, dataset_path):\n",
    "    file_path = os.path.join(dataset_path, slp_file)\n",
    "    load_t1 = time.time()\n",
    "    game = slp.Game(file_path)\n",
    "    load_time = time.time() - load_t1\n",
    "    \n",
    "    # Remove the '.slp' extension from the slp_file to get the base filename\n",
    "    base_filename = slp_file.rsplit('.', 1)[0]\n",
    "    \n",
    "    # Construct the full path for the dump file with the .pkl extension\n",
    "    dump_path = os.path.join(dump_folder, base_filename + '.pkl')\n",
    "\n",
    "    # Dumping data with pickle using a high protocol\n",
    "    # with gzip.open(dump_path, 'wb') as f:\n",
    "    with open(dump_path, 'wb') as f:\n",
    "        pickle.dump(game, f, protocol=pickle.HIGHEST_PROTOCOL)\n",
    "\n",
    "    return load_time"
   ]
  },
  {
   "cell_type": "code",
   "execution_count": null,
   "metadata": {},
   "outputs": [],
   "source": [
    "num_files = 10\n",
    "sum_load_time = 0.0\n",
    "\n",
    "\n",
    "for slp_file in slp_files[:num_files]:\n",
    "    sum_load_time += process_file(slp_file,dataset_path)\n",
    "\n",
    "print(sum_load_time)"
   ]
  },
  {
   "cell_type": "code",
   "execution_count": null,
   "metadata": {},
   "outputs": [],
   "source": [
    "dump_files = [file for file in os.listdir(dump_folder)]\n",
    "\n",
    "sum_dump_load_time = 0.0\n",
    "\n",
    "for dump_file in dump_files:\n",
    "    dump_path = os.path.join(dump_folder, dump_file)  # Change the extension to .joblib for the dump file\n",
    "    # Loading data with pickle\n",
    "    t1 = time.time()\n",
    "    # with gzip.open(dump_path, 'rb') as f:\n",
    "    with open(dump_path, 'rb') as f:\n",
    "        data = pickle.load(f)\n",
    "    sum_dump_load_time += time.time()-t1\n",
    "\n",
    "print(sum_dump_load_time)"
   ]
  },
  {
   "cell_type": "code",
   "execution_count": null,
   "metadata": {},
   "outputs": [],
   "source": [
    "# games = []\n",
    "\n",
    "\n",
    "# for slp_file in slp_files[:num_files]:\n",
    "#     file_path = os.path.join(dataset_path, slp_file)\n",
    "#     games.append(slp.Game(file_path))\n",
    "    \n",
    "# # Construct the full path for the dump file with the .pkl extension\n",
    "# dump_path = os.path.join(dump_folder, 'games_list' + '.pkl')\n",
    "\n",
    "# # Dumping data with pickle using a high protocol\n",
    "# with open(dump_path, 'wb') as f:\n",
    "#     pickle.dump(games, f, protocol=pickle.HIGHEST_PROTOCOL)\n",
    "    "
   ]
  },
  {
   "cell_type": "code",
   "execution_count": null,
   "metadata": {},
   "outputs": [],
   "source": [
    "# with open(dump_path, 'rb') as f:\n",
    "#     data = pickle.load(f)"
   ]
  },
  {
   "cell_type": "code",
   "execution_count": null,
   "metadata": {},
   "outputs": [],
   "source": [
    "file = 'C:/Users/jaspa/Grant ML/master-diamond-9a7a67e8349465790063d59c.slp'\n",
    "slp.Game(file)"
   ]
  },
  {
   "cell_type": "code",
   "execution_count": null,
   "metadata": {},
   "outputs": [],
   "source": [
    "from slippi.game import Game as BaseGame\n",
    "from slippi.parse import parse, ParseEvent\n",
    "\n",
    "class CustomGame(BaseGame):\n",
    "    def __init__(self, input, skip_frames: bool = False, parse_metadata: bool = True):\n",
    "        self.start = None\n",
    "        self.frames = []\n",
    "        self.end = None\n",
    "        self.metadata = None\n",
    "        self.metadata_raw = None\n",
    "\n",
    "        # Define custom parse events, excluding metadata events if parse_metadata is False\n",
    "        parse_events = {\n",
    "            ParseEvent.START: lambda x: setattr(self, 'start', x),\n",
    "            ParseEvent.FRAME: self._add_frame,\n",
    "            ParseEvent.END: lambda x: setattr(self, 'end', x)\n",
    "        }\n",
    "        \n",
    "        if parse_metadata:\n",
    "            parse_events[ParseEvent.METADATA] = lambda x: setattr(self, 'metadata', x)\n",
    "            parse_events[ParseEvent.METADATA_RAW] = lambda x: setattr(self, 'metadata_raw', x)\n",
    "\n",
    "        parse(input, parse_events, skip_frames)\n",
    "\n"
   ]
  },
  {
   "cell_type": "code",
   "execution_count": null,
   "metadata": {},
   "outputs": [],
   "source": []
  }
 ],
 "metadata": {
  "kernelspec": {
   "display_name": "slp",
   "language": "python",
   "name": "python3"
  },
  "language_info": {
   "codemirror_mode": {
    "name": "ipython",
    "version": 3
   },
   "file_extension": ".py",
   "mimetype": "text/x-python",
   "name": "python",
   "nbconvert_exporter": "python",
   "pygments_lexer": "ipython3",
   "version": "3.11.7"
  }
 },
 "nbformat": 4,
 "nbformat_minor": 2
}
