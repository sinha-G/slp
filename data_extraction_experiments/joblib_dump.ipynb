{
 "cells": [
  {
   "cell_type": "code",
   "execution_count": 25,
   "metadata": {},
   "outputs": [],
   "source": [
    "import os as os\n",
    "import slippi as slp\n",
    "from joblib import Parallel, delayed, dump, load\n",
    "import time\n",
    "import pickle   \n",
    "# import _pickle as cpkl\n",
    "import gzip\n"
   ]
  },
  {
   "cell_type": "code",
   "execution_count": 26,
   "metadata": {},
   "outputs": [],
   "source": [
    "dataset_path = '../Slippi_Public_Dataset_v3/'\n",
    "dump_folder = 'C:/Users/jaspa/Grant ML/game_dump'\n",
    "slp_files = [file for file in os.listdir(dataset_path) if file.endswith('.slp') and 'Sheik' in file and 'Fox' in file]\n"
   ]
  },
  {
   "cell_type": "code",
   "execution_count": 27,
   "metadata": {},
   "outputs": [],
   "source": [
    "def process_file(slp_file, dataset_path):\n",
    "    file_path = os.path.join(dataset_path, slp_file)\n",
    "    load_t1 = time.time()\n",
    "    game = slp.Game(file_path)\n",
    "    load_time = time.time() - load_t1\n",
    "    \n",
    "    # Remove the '.slp' extension from the slp_file to get the base filename\n",
    "    base_filename = slp_file.rsplit('.', 1)[0]\n",
    "    \n",
    "    # Construct the full path for the dump file with the .pkl extension\n",
    "    dump_path = os.path.join(dump_folder, base_filename + '.pkl')\n",
    "\n",
    "    # Dumping data with pickle using a high protocol\n",
    "    # with gzip.open(dump_path, 'wb') as f:\n",
    "    with open(dump_path, 'wb') as f:\n",
    "        pickle.dump(game, f, protocol=pickle.HIGHEST_PROTOCOL)\n",
    "\n",
    "    return load_time"
   ]
  },
  {
   "cell_type": "code",
   "execution_count": 28,
   "metadata": {},
   "outputs": [
    {
     "name": "stdout",
     "output_type": "stream",
     "text": [
      "1.6322851181030273\n"
     ]
    }
   ],
   "source": [
    "num_files = 10\n",
    "sum_load_time = 0.0\n",
    "\n",
    "\n",
    "for slp_file in slp_files[:num_files]:\n",
    "    sum_load_time += process_file(slp_file,dataset_path)\n",
    "\n",
    "print(sum_load_time)"
   ]
  },
  {
   "cell_type": "code",
   "execution_count": 29,
   "metadata": {},
   "outputs": [
    {
     "name": "stdout",
     "output_type": "stream",
     "text": [
      "1.018219232559204\n"
     ]
    }
   ],
   "source": [
    "dump_files = [file for file in os.listdir(dump_folder)]\n",
    "\n",
    "sum_dump_load_time = 0.0\n",
    "\n",
    "for dump_file in dump_files:\n",
    "    dump_path = os.path.join(dump_folder, dump_file)  # Change the extension to .joblib for the dump file\n",
    "    # Loading data with pickle\n",
    "    t1 = time.time()\n",
    "    # with gzip.open(dump_path, 'rb') as f:\n",
    "    with open(dump_path, 'rb') as f:\n",
    "        data = pickle.load(f)\n",
    "    sum_dump_load_time += time.time()-t1\n",
    "\n",
    "print(sum_dump_load_time)"
   ]
  },
  {
   "cell_type": "code",
   "execution_count": 30,
   "metadata": {},
   "outputs": [],
   "source": [
    "# games = []\n",
    "\n",
    "\n",
    "# for slp_file in slp_files[:num_files]:\n",
    "#     file_path = os.path.join(dataset_path, slp_file)\n",
    "#     games.append(slp.Game(file_path))\n",
    "    \n",
    "# # Construct the full path for the dump file with the .pkl extension\n",
    "# dump_path = os.path.join(dump_folder, 'games_list' + '.pkl')\n",
    "\n",
    "# # Dumping data with pickle using a high protocol\n",
    "# with open(dump_path, 'wb') as f:\n",
    "#     pickle.dump(games, f, protocol=pickle.HIGHEST_PROTOCOL)\n",
    "    "
   ]
  },
  {
   "cell_type": "code",
   "execution_count": 31,
   "metadata": {},
   "outputs": [],
   "source": [
    "# with open(dump_path, 'rb') as f:\n",
    "#     data = pickle.load(f)"
   ]
  },
  {
   "cell_type": "code",
   "execution_count": 34,
   "metadata": {},
   "outputs": [
    {
     "ename": "ParseError",
     "evalue": "Parse error (C:\\Users\\jaspa\\Grant ML\\master-diamond-9a7a67e8349465790063d59c.slp @0x1ee0760): [Errno None] None: 'C:\\\\Users\\\\jaspa\\\\Grant ML\\\\master-diamond-9a7a67e8349465790063d59c.slp'",
     "output_type": "error",
     "traceback": [
      "\u001b[1;31m---------------------------------------------------------------------------\u001b[0m",
      "\u001b[1;31mKeyError\u001b[0m                                  Traceback (most recent call last)",
      "File \u001b[1;32m~\\AppData\\Roaming\\Python\\Python311\\site-packages\\slippi\\parse.py:212\u001b[0m, in \u001b[0;36m_parse_try\u001b[1;34m(input, handlers)\u001b[0m\n\u001b[0;32m    211\u001b[0m \u001b[38;5;28;01mtry\u001b[39;00m:\n\u001b[1;32m--> 212\u001b[0m     \u001b[43m_parse\u001b[49m\u001b[43m(\u001b[49m\u001b[38;5;28;43minput\u001b[39;49m\u001b[43m,\u001b[49m\u001b[43m \u001b[49m\u001b[43mhandlers\u001b[49m\u001b[43m)\u001b[49m\n\u001b[0;32m    213\u001b[0m \u001b[38;5;28;01mexcept\u001b[39;00m \u001b[38;5;167;01mException\u001b[39;00m \u001b[38;5;28;01mas\u001b[39;00m e:\n",
      "File \u001b[1;32m~\\AppData\\Roaming\\Python\\Python311\\site-packages\\slippi\\parse.py:200\u001b[0m, in \u001b[0;36m_parse\u001b[1;34m(stream, handlers)\u001b[0m\n\u001b[0;32m    198\u001b[0m     raw_handler(json)\n\u001b[1;32m--> 200\u001b[0m metadata \u001b[38;5;241m=\u001b[39m \u001b[43mMetadata\u001b[49m\u001b[38;5;241;43m.\u001b[39;49m\u001b[43m_parse\u001b[49m\u001b[43m(\u001b[49m\u001b[43mjson\u001b[49m\u001b[43m)\u001b[49m\n\u001b[0;32m    201\u001b[0m handler \u001b[38;5;241m=\u001b[39m handlers\u001b[38;5;241m.\u001b[39mget(ParseEvent\u001b[38;5;241m.\u001b[39mMETADATA)\n",
      "File \u001b[1;32m~\\AppData\\Roaming\\Python\\Python311\\site-packages\\slippi\\metadata.py:30\u001b[0m, in \u001b[0;36mMetadata._parse\u001b[1;34m(cls, json)\u001b[0m\n\u001b[0;32m     28\u001b[0m \u001b[38;5;129m@classmethod\u001b[39m\n\u001b[0;32m     29\u001b[0m \u001b[38;5;28;01mdef\u001b[39;00m \u001b[38;5;21m_parse\u001b[39m(\u001b[38;5;28mcls\u001b[39m, json):\n\u001b[1;32m---> 30\u001b[0m     d \u001b[38;5;241m=\u001b[39m \u001b[43mjson\u001b[49m\u001b[43m[\u001b[49m\u001b[38;5;124;43m'\u001b[39;49m\u001b[38;5;124;43mstartAt\u001b[39;49m\u001b[38;5;124;43m'\u001b[39;49m\u001b[43m]\u001b[49m\u001b[38;5;241m.\u001b[39mrstrip(\u001b[38;5;124m'\u001b[39m\u001b[38;5;130;01m\\x00\u001b[39;00m\u001b[38;5;124m'\u001b[39m) \u001b[38;5;66;03m# workaround for Nintendont/Slippi<1.5 bug\u001b[39;00m\n\u001b[0;32m     31\u001b[0m     \u001b[38;5;66;03m# timezone & fractional seconds aren't always provided, so parse the date manually (strptime lacks support for optional components)\u001b[39;00m\n",
      "\u001b[1;31mKeyError\u001b[0m: 'startAt'",
      "\nDuring handling of the above exception, another exception occurred:\n",
      "\u001b[1;31mParseError\u001b[0m                                Traceback (most recent call last)",
      "Cell \u001b[1;32mIn[34], line 2\u001b[0m\n\u001b[0;32m      1\u001b[0m file \u001b[38;5;241m=\u001b[39m \u001b[38;5;124m'\u001b[39m\u001b[38;5;124mC:/Users/jaspa/Grant ML/master-diamond-9a7a67e8349465790063d59c.slp\u001b[39m\u001b[38;5;124m'\u001b[39m\n\u001b[1;32m----> 2\u001b[0m \u001b[43mslp\u001b[49m\u001b[38;5;241;43m.\u001b[39;49m\u001b[43mGame\u001b[49m\u001b[43m(\u001b[49m\u001b[43mfile\u001b[49m\u001b[43m)\u001b[49m\n",
      "File \u001b[1;32m~\\AppData\\Roaming\\Python\\Python311\\site-packages\\slippi\\game.py:31\u001b[0m, in \u001b[0;36mGame.__init__\u001b[1;34m(self, input)\u001b[0m\n\u001b[0;32m     28\u001b[0m \u001b[38;5;28mself\u001b[39m\u001b[38;5;241m.\u001b[39mmetadata \u001b[38;5;241m=\u001b[39m \u001b[38;5;28;01mNone\u001b[39;00m\n\u001b[0;32m     29\u001b[0m \u001b[38;5;28mself\u001b[39m\u001b[38;5;241m.\u001b[39mmetadata_raw \u001b[38;5;241m=\u001b[39m \u001b[38;5;28;01mNone\u001b[39;00m\n\u001b[1;32m---> 31\u001b[0m \u001b[43mparse\u001b[49m\u001b[43m(\u001b[49m\u001b[38;5;28;43minput\u001b[39;49m\u001b[43m,\u001b[49m\u001b[43m \u001b[49m\u001b[43m{\u001b[49m\n\u001b[0;32m     32\u001b[0m \u001b[43m    \u001b[49m\u001b[43mParseEvent\u001b[49m\u001b[38;5;241;43m.\u001b[39;49m\u001b[43mSTART\u001b[49m\u001b[43m:\u001b[49m\u001b[43m \u001b[49m\u001b[38;5;28;43;01mlambda\u001b[39;49;00m\u001b[43m \u001b[49m\u001b[43mx\u001b[49m\u001b[43m:\u001b[49m\u001b[43m \u001b[49m\u001b[38;5;28;43msetattr\u001b[39;49m\u001b[43m(\u001b[49m\u001b[38;5;28;43mself\u001b[39;49m\u001b[43m,\u001b[49m\u001b[43m \u001b[49m\u001b[38;5;124;43m'\u001b[39;49m\u001b[38;5;124;43mstart\u001b[39;49m\u001b[38;5;124;43m'\u001b[39;49m\u001b[43m,\u001b[49m\u001b[43m \u001b[49m\u001b[43mx\u001b[49m\u001b[43m)\u001b[49m\u001b[43m,\u001b[49m\n\u001b[0;32m     33\u001b[0m \u001b[43m    \u001b[49m\u001b[43mParseEvent\u001b[49m\u001b[38;5;241;43m.\u001b[39;49m\u001b[43mFRAME\u001b[49m\u001b[43m:\u001b[49m\u001b[43m \u001b[49m\u001b[38;5;28;43mself\u001b[39;49m\u001b[38;5;241;43m.\u001b[39;49m\u001b[43m_add_frame\u001b[49m\u001b[43m,\u001b[49m\n\u001b[0;32m     34\u001b[0m \u001b[43m    \u001b[49m\u001b[43mParseEvent\u001b[49m\u001b[38;5;241;43m.\u001b[39;49m\u001b[43mEND\u001b[49m\u001b[43m:\u001b[49m\u001b[43m \u001b[49m\u001b[38;5;28;43;01mlambda\u001b[39;49;00m\u001b[43m \u001b[49m\u001b[43mx\u001b[49m\u001b[43m:\u001b[49m\u001b[43m \u001b[49m\u001b[38;5;28;43msetattr\u001b[39;49m\u001b[43m(\u001b[49m\u001b[38;5;28;43mself\u001b[39;49m\u001b[43m,\u001b[49m\u001b[43m \u001b[49m\u001b[38;5;124;43m'\u001b[39;49m\u001b[38;5;124;43mend\u001b[39;49m\u001b[38;5;124;43m'\u001b[39;49m\u001b[43m,\u001b[49m\u001b[43m \u001b[49m\u001b[43mx\u001b[49m\u001b[43m)\u001b[49m\u001b[43m,\u001b[49m\n\u001b[0;32m     35\u001b[0m \u001b[43m    \u001b[49m\u001b[43mParseEvent\u001b[49m\u001b[38;5;241;43m.\u001b[39;49m\u001b[43mMETADATA\u001b[49m\u001b[43m:\u001b[49m\u001b[43m \u001b[49m\u001b[38;5;28;43;01mlambda\u001b[39;49;00m\u001b[43m \u001b[49m\u001b[43mx\u001b[49m\u001b[43m:\u001b[49m\u001b[43m \u001b[49m\u001b[38;5;28;43msetattr\u001b[39;49m\u001b[43m(\u001b[49m\u001b[38;5;28;43mself\u001b[39;49m\u001b[43m,\u001b[49m\u001b[43m \u001b[49m\u001b[38;5;124;43m'\u001b[39;49m\u001b[38;5;124;43mmetadata\u001b[39;49m\u001b[38;5;124;43m'\u001b[39;49m\u001b[43m,\u001b[49m\u001b[43m \u001b[49m\u001b[43mx\u001b[49m\u001b[43m)\u001b[49m\u001b[43m,\u001b[49m\n\u001b[0;32m     36\u001b[0m \u001b[43m    \u001b[49m\u001b[43mParseEvent\u001b[49m\u001b[38;5;241;43m.\u001b[39;49m\u001b[43mMETADATA_RAW\u001b[49m\u001b[43m:\u001b[49m\u001b[43m \u001b[49m\u001b[38;5;28;43;01mlambda\u001b[39;49;00m\u001b[43m \u001b[49m\u001b[43mx\u001b[49m\u001b[43m:\u001b[49m\u001b[43m \u001b[49m\u001b[38;5;28;43msetattr\u001b[39;49m\u001b[43m(\u001b[49m\u001b[38;5;28;43mself\u001b[39;49m\u001b[43m,\u001b[49m\u001b[43m \u001b[49m\u001b[38;5;124;43m'\u001b[39;49m\u001b[38;5;124;43mmetadata_raw\u001b[39;49m\u001b[38;5;124;43m'\u001b[39;49m\u001b[43m,\u001b[49m\u001b[43m \u001b[49m\u001b[43mx\u001b[49m\u001b[43m)\u001b[49m\u001b[43m}\u001b[49m\u001b[43m)\u001b[49m\n",
      "File \u001b[1;32m~\\AppData\\Roaming\\Python\\Python311\\site-packages\\slippi\\parse.py:241\u001b[0m, in \u001b[0;36mparse\u001b[1;34m(input, handlers)\u001b[0m\n\u001b[0;32m    235\u001b[0m \u001b[38;5;250m\u001b[39m\u001b[38;5;124;03m\"\"\"Parse a Slippi replay.\u001b[39;00m\n\u001b[0;32m    236\u001b[0m \n\u001b[0;32m    237\u001b[0m \u001b[38;5;124;03m:param input: replay file object or path\u001b[39;00m\n\u001b[0;32m    238\u001b[0m \u001b[38;5;124;03m:param handlers: dict of parse event keys to handler functions. Each event will be passed to the corresponding handler as it occurs.\"\"\"\u001b[39;00m\n\u001b[0;32m    240\u001b[0m \u001b[38;5;28;01mif\u001b[39;00m \u001b[38;5;28misinstance\u001b[39m(\u001b[38;5;28minput\u001b[39m, \u001b[38;5;28mstr\u001b[39m):\n\u001b[1;32m--> 241\u001b[0m     \u001b[43m_parse_open\u001b[49m\u001b[43m(\u001b[49m\u001b[43mpathlib\u001b[49m\u001b[38;5;241;43m.\u001b[39;49m\u001b[43mPath\u001b[49m\u001b[43m(\u001b[49m\u001b[38;5;28;43minput\u001b[39;49m\u001b[43m)\u001b[49m\u001b[43m,\u001b[49m\u001b[43m \u001b[49m\u001b[43mhandlers\u001b[49m\u001b[43m)\u001b[49m\n\u001b[0;32m    242\u001b[0m \u001b[38;5;28;01melif\u001b[39;00m \u001b[38;5;28misinstance\u001b[39m(\u001b[38;5;28minput\u001b[39m, os\u001b[38;5;241m.\u001b[39mPathLike):\n\u001b[0;32m    243\u001b[0m     _parse_open(\u001b[38;5;28minput\u001b[39m, handlers)\n",
      "File \u001b[1;32m~\\AppData\\Roaming\\Python\\Python311\\site-packages\\slippi\\parse.py:231\u001b[0m, in \u001b[0;36m_parse_open\u001b[1;34m(input, handlers)\u001b[0m\n\u001b[0;32m    229\u001b[0m \u001b[38;5;28;01mdef\u001b[39;00m \u001b[38;5;21m_parse_open\u001b[39m(\u001b[38;5;28minput\u001b[39m: os\u001b[38;5;241m.\u001b[39mPathLike, handlers) \u001b[38;5;241m-\u001b[39m\u001b[38;5;241m>\u001b[39m \u001b[38;5;28;01mNone\u001b[39;00m:\n\u001b[0;32m    230\u001b[0m     \u001b[38;5;28;01mwith\u001b[39;00m \u001b[38;5;28mopen\u001b[39m(\u001b[38;5;28minput\u001b[39m, \u001b[38;5;124m'\u001b[39m\u001b[38;5;124mrb\u001b[39m\u001b[38;5;124m'\u001b[39m) \u001b[38;5;28;01mas\u001b[39;00m f:\n\u001b[1;32m--> 231\u001b[0m         \u001b[43m_parse_try\u001b[49m\u001b[43m(\u001b[49m\u001b[43mf\u001b[49m\u001b[43m,\u001b[49m\u001b[43m \u001b[49m\u001b[43mhandlers\u001b[49m\u001b[43m)\u001b[49m\n",
      "File \u001b[1;32m~\\AppData\\Roaming\\Python\\Python311\\site-packages\\slippi\\parse.py:226\u001b[0m, in \u001b[0;36m_parse_try\u001b[1;34m(input, handlers)\u001b[0m\n\u001b[0;32m    223\u001b[0m \u001b[38;5;66;03m# not all stream-like objects support `seekable` (e.g. HTTP requests)\u001b[39;00m\n\u001b[0;32m    224\u001b[0m \u001b[38;5;28;01mexcept\u001b[39;00m \u001b[38;5;167;01mAttributeError\u001b[39;00m: \u001b[38;5;28;01mpass\u001b[39;00m\n\u001b[1;32m--> 226\u001b[0m \u001b[38;5;28;01mraise\u001b[39;00m e\n",
      "\u001b[1;31mParseError\u001b[0m: Parse error (C:\\Users\\jaspa\\Grant ML\\master-diamond-9a7a67e8349465790063d59c.slp @0x1ee0760): [Errno None] None: 'C:\\\\Users\\\\jaspa\\\\Grant ML\\\\master-diamond-9a7a67e8349465790063d59c.slp'"
     ]
    }
   ],
   "source": [
    "file = 'C:/Users/jaspa/Grant ML/master-diamond-9a7a67e8349465790063d59c.slp'\n",
    "slp.Game(file)"
   ]
  },
  {
   "cell_type": "code",
   "execution_count": 35,
   "metadata": {},
   "outputs": [],
   "source": [
    "from slippi.game import Game as BaseGame\n",
    "from slippi.parse import parse, ParseEvent\n",
    "\n",
    "class CustomGame(BaseGame):\n",
    "    def __init__(self, input, skip_frames: bool = False, parse_metadata: bool = True):\n",
    "        self.start = None\n",
    "        self.frames = []\n",
    "        self.end = None\n",
    "        self.metadata = None\n",
    "        self.metadata_raw = None\n",
    "\n",
    "        # Define custom parse events, excluding metadata events if parse_metadata is False\n",
    "        parse_events = {\n",
    "            ParseEvent.START: lambda x: setattr(self, 'start', x),\n",
    "            ParseEvent.FRAME: self._add_frame,\n",
    "            ParseEvent.END: lambda x: setattr(self, 'end', x)\n",
    "        }\n",
    "        \n",
    "        if parse_metadata:\n",
    "            parse_events[ParseEvent.METADATA] = lambda x: setattr(self, 'metadata', x)\n",
    "            parse_events[ParseEvent.METADATA_RAW] = lambda x: setattr(self, 'metadata_raw', x)\n",
    "\n",
    "        parse(input, parse_events, skip_frames)\n",
    "\n"
   ]
  },
  {
   "cell_type": "code",
   "execution_count": null,
   "metadata": {},
   "outputs": [],
   "source": []
  }
 ],
 "metadata": {
  "kernelspec": {
   "display_name": "slp",
   "language": "python",
   "name": "python3"
  },
  "language_info": {
   "codemirror_mode": {
    "name": "ipython",
    "version": 3
   },
   "file_extension": ".py",
   "mimetype": "text/x-python",
   "name": "python",
   "nbconvert_exporter": "python",
   "pygments_lexer": "ipython3",
   "version": "3.11.7"
  }
 },
 "nbformat": 4,
 "nbformat_minor": 2
}
