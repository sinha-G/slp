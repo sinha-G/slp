{
 "cells": [
  {
   "cell_type": "markdown",
   "metadata": {},
   "source": [
    "-Create a subfolder for each character under C:\\Users\\jaspa\\Grant ML\\slp\\data\\segment_2_player_game_inputs\\.\n",
    "\n",
    "-Calculate n, the number of subfolders for each character, based on the ceiling of the square root of the number of files for that character.\n",
    "\n",
    "-Suggest names for these n subfolders. A simple approach could be to name these subfolders batch_1, batch_2, ..., batch_n, which should make managing files easier for further processing.\n",
    "\n",
    "-Distribute the files for each character among the n subfolders, ensuring they are divided roughly equally."
   ]
  },
  {
   "cell_type": "code",
   "execution_count": null,
   "metadata": {},
   "outputs": [],
   "source": [
    "import os\n",
    "import math\n",
    "import shutil\n",
    "from collections import defaultdict\n",
    "\n",
    "# Define the base directory where all character folders will be created\n",
    "base_dir = \"C:/Users/jaspa/Grant ML/slp/data/segment_2_player_game_inputs\"\n",
    "new_dir = 'C:\\\\Users\\\\jaspa\\\\Grant ML\\\\slp\\\\data\\\\segment_2_p_inputs_subfolders'\n",
    "\n",
    "# List of all playable characters\n",
    "characters = [\n",
    "    \"CAPTAIN_FALCON\", \"DONKEY_KONG\", \"FOX\", \"GAME_AND_WATCH\", \"KIRBY\", \"BOWSER\",\n",
    "    \"LINK\", \"LUIGI\", \"MARIO\", \"MARTH\", \"MEWTWO\", \"NESS\", \"PEACH\", \"PIKACHU\",\n",
    "    \"ICE_CLIMBERS\", \"JIGGLYPUFF\", \"SAMUS\", \"YOSHI\", \"ZELDA\", \"SHEIK\", \"FALCO\",\n",
    "    \"YOUNG_LINK\", \"DR_MARIO\", \"ROY\", \"PICHU\", \"GANONDORF\"\n",
    "]\n",
    "\n",
    "# Function to create necessary directories\n",
    "def create_directories(path):\n",
    "    if not os.path.exists(path):\n",
    "        os.makedirs(path)\n",
    "\n",
    "# Initialize a dictionary to hold file paths for each character\n",
    "character_files = defaultdict(list)\n",
    "\n",
    "# Walk through the directory and categorize files by their starting character name\n",
    "for file in os.listdir(base_dir):\n",
    "    for character in characters:\n",
    "        if file.startswith(character) and file.endswith('.npy.gz'):\n",
    "            character_files[character].append(file)\n",
    "            break\n",
    "\n",
    "# Function to rename the file with an incremental counter\n",
    "def rename_file(original_name, counter):\n",
    "    parts = original_name.split('_')\n",
    "    # Assuming the format is consistent, insert the counter after the character name\n",
    "    new_name = f\"{parts[0]}_{counter}.npy.gz\"\n",
    "    return new_name\n",
    "\n",
    "# Process each character's files\n",
    "for character, files in character_files.items():\n",
    "    character_dir = os.path.join(new_dir, character)\n",
    "    create_directories(character_dir)  # Create character directory\n",
    "    \n",
    "    # Calculate `n` and create subdirectories\n",
    "    num_batches = math.ceil(math.sqrt(len(files)))\n",
    "    file_counter = 1  # Initialize file counter for unique naming within each character category\n",
    "    files_per_batch = len(files) // num_batches\n",
    "    for i in range(n):\n",
    "        sub_dir_name = f\"batch_{i+1}\"\n",
    "        sub_dir_path = os.path.join(character_dir, sub_dir_name)\n",
    "        create_directories(sub_dir_path)\n",
    "        \n",
    "        # Distribute files into subdirectories\n",
    "        start_index = i * files_per_batch\n",
    "        end_index = start_index + (len(files) // n) + (1 if i < len(files) % n else 0)\n",
    "        end_index = min(start_index + files_per_batch, len(files))\n",
    "        for file in files[start_index:end_index]:\n",
    "            new_file_name = rename_file(file, file_counter)\n",
    "            # try:\n",
    "            os.rename(os.path.join(base_dir, file), os.path.join(sub_dir_path, new_file_name))\n",
    "            # except Exception as e:\n",
    "            #     print(f\"Error moving {file} to {os.path.join(sub_dir_path, new_file_name)}: {e}\")\n",
    "            file_counter += 1  # Increment the counter after each file\n",
    "\n",
    "print(\"Files have been organized into character subfolders and batches with unique file names and moved.\")\n"
   ]
  },
  {
   "cell_type": "code",
   "execution_count": null,
   "metadata": {},
   "outputs": [],
   "source": [
    "dataset_path = 'C:/Users/jaspa/Grant ML/slp/Slippi_Public_Dataset_v3/'\n",
    "dataset_path = 'C:/Users/jaspa/Grant ML/slp/data/full_2_player_game_inputs_long'\n",
    "print(len(dataset_path)+len('_1024_frames_segment_11_of_11'))\n",
    "\n",
    "slp_files = [file for file in os.listdir(dataset_path)] \n",
    "max = 0\n",
    "for file in slp_files:\n",
    "    if len(file) > max:\n",
    "        max = len(file)\n",
    "print(max)"
   ]
  },
  {
   "cell_type": "code",
   "execution_count": null,
   "metadata": {},
   "outputs": [],
   "source": []
  }
 ],
 "metadata": {
  "kernelspec": {
   "display_name": "Python 3",
   "language": "python",
   "name": "python3"
  },
  "language_info": {
   "codemirror_mode": {
    "name": "ipython",
    "version": 3
   },
   "file_extension": ".py",
   "mimetype": "text/x-python",
   "name": "python",
   "nbconvert_exporter": "python",
   "pygments_lexer": "ipython3",
   "version": "3.12.0"
  }
 },
 "nbformat": 4,
 "nbformat_minor": 2
}
