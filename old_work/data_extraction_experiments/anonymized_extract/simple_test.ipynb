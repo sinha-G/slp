{
 "cells": [
  {
   "cell_type": "code",
   "execution_count": null,
   "metadata": {},
   "outputs": [],
   "source": [
    "import slippi as slp\n",
    "import os as os\n",
    "import sys\n",
    "import numpy as np\n",
    "import pandas as pd\n",
    "import tqdm\n",
    "import slippi as slp\n",
    "import gzip\n",
    "from joblib import Parallel, delayed\n",
    "from multiprocessing import Manager"
   ]
  },
  {
   "cell_type": "code",
   "execution_count": null,
   "metadata": {},
   "outputs": [],
   "source": [
    "dataset_path = 'C:/Users/jaspa/Grant ML/slp/Slippi_Public_Dataset_v3'\n",
    "slp_files = [file for file in os.listdir(dataset_path) if file.endswith('.slp')] \n",
    "slp_file = slp_files[0]\n",
    "file_path = os.path.join(dataset_path, slp_file)"
   ]
  },
  {
   "cell_type": "code",
   "execution_count": null,
   "metadata": {},
   "outputs": [],
   "source": [
    "game = slp.Game(file_path)\n",
    "print(game.start)"
   ]
  },
  {
   "cell_type": "code",
   "execution_count": null,
   "metadata": {},
   "outputs": [],
   "source": [
    "broken_file_path = \"C:\\\\Users\\\\jaspa\\\\Grant ML\\\\master-diamond-9a7a67e8349465790063d59c.slp\"\n",
    "game = slp.Game(broken_file_path)\n",
    "frames = game.frames\n",
    "print(game.start)"
   ]
  },
  {
   "cell_type": "code",
   "execution_count": null,
   "metadata": {},
   "outputs": [],
   "source": [
    "# print(game.event.frames[200])"
   ]
  },
  {
   "cell_type": "code",
   "execution_count": null,
   "metadata": {},
   "outputs": [],
   "source": [
    "broken_file_path = \"C:\\\\Users\\\\jaspa\\\\Grant ML\\\\slp\\\\data\\\\diamond-diamond-351f2ab78a6cbc3170af66fc.slp\"\n",
    "game = slp.Game(broken_file_path)\n",
    "frames = game.frames\n",
    "print(game.start)\n",
    "print(len(frames))\n",
    "# print(frames[0])"
   ]
  },
  {
   "cell_type": "code",
   "execution_count": null,
   "metadata": {},
   "outputs": [],
   "source": [
    "broken_file_path = \"C:\\\\Users\\\\jaspa\\\\Grant ML\\\\slp\\\\data\\\\master-diamond-9a7a67e8349465790063d59c.slp\"\n",
    "game = slp.Game(broken_file_path)\n",
    "frames = game.frames\n",
    "print(game.start)\n",
    "print(len(frames))\n"
   ]
  },
  {
   "cell_type": "code",
   "execution_count": null,
   "metadata": {},
   "outputs": [],
   "source": [
    "def one_hot_encode(bitmask):\n",
    "    labels = ['DPAD_LEFT', 'DPAD_RIGHT', 'DPAD_DOWN', 'DPAD_UP', 'Z', 'R', 'L', 'A', 'B', 'X', 'Y', 'START']\n",
    "    encoded_values = [1, 2, 4, 8, 16, 32, 64, 256, 512, 1024, 2048, 4096]\n",
    "\n",
    "    # Create a dictionary mapping labels to their encoded values\n",
    "    label_to_value = dict(zip(labels, encoded_values))\n",
    "\n",
    "    # Initialize a list to store the one-hot encoded values\n",
    "    one_hot_encoded = [0] * len(labels)\n",
    "\n",
    "    # Iterate through labels and set the corresponding one-hot encoded value\n",
    "    for label, value in label_to_value.items():\n",
    "        if bitmask & value:\n",
    "            one_hot_encoded[labels.index(label)] = 1\n",
    "\n",
    "    return one_hot_encoded\n",
    "\n",
    "def print_player_frame_data(frame, port):\n",
    "    print(f\"\\n\\tPort {port} Inputs:\")\n",
    "    # print(f\"\\tLogical Buttons {frame.ports[port].leader.pre.buttons.logical.name}\")\n",
    "    print(f\"\\tPhysical Buttons {frame.ports[port].leader.pre.buttons.physical}\")\n",
    "    print(f\"\\tPhysical Buttons Values {frame.ports[port].leader.pre.buttons.physical.value}\")\n",
    "    print(f\"\\tPhysical Buttons Names {frame.ports[port].leader.pre.buttons.physical.name}\")\n",
    "    # print(f\"\\tLogical Triggers {frame.ports[port].leader.pre.triggers.logical}\")\n",
    "    # print(f\"\\tJoystick {frame.ports[port].leader.pre.joystick}\")\n",
    "    print(f\"\\tJoystick X {frame.ports[port].leader.pre.joystick.x}\")\n",
    "    print(f\"\\tJoystick Y {frame.ports[port].leader.pre.joystick.y}\")\n",
    "    # print(f\"\\tC-Stick {frame.ports[port].leader.pre.cstick}\")\n",
    "    print(f\"\\tC-Stick X {frame.ports[port].leader.pre.cstick.x}\")\n",
    "    print(f\"\\tC-Stick Y {frame.ports[port].leader.pre.cstick.y}\")\n",
    "    print(f\"\\tL Trigger {frame.ports[port].leader.pre.triggers.physical.l}\")\n",
    "    print(f\"\\tR Trigger {frame.ports[port].leader.pre.triggers.physical.r}\")"
   ]
  },
  {
   "cell_type": "code",
   "execution_count": null,
   "metadata": {},
   "outputs": [],
   "source": [
    "occupied_ports = [i for i, port in enumerate(game.start.players) if port is not None]\n",
    "port_1 = occupied_ports[0]\n",
    "port_2 = occupied_ports[1]\n",
    "for i, frame in enumerate(frames[123:124]):\n",
    "    print(f\"\\nFrame {i} Data:\")\n",
    "    print_player_frame_data(frame, port_1)\n",
    "    print_player_frame_data(frame, port_2)\n",
    "    "
   ]
  },
  {
   "cell_type": "code",
   "execution_count": null,
   "metadata": {},
   "outputs": [],
   "source": [
    "print(frame.ports[port_1].leader.pre.triggers)"
   ]
  },
  {
   "cell_type": "code",
   "execution_count": null,
   "metadata": {},
   "outputs": [],
   "source": []
  }
 ],
 "metadata": {
  "kernelspec": {
   "display_name": "local_slp",
   "language": "python",
   "name": "python3"
  },
  "language_info": {
   "codemirror_mode": {
    "name": "ipython",
    "version": 3
   },
   "file_extension": ".py",
   "mimetype": "text/x-python",
   "name": "python",
   "nbconvert_exporter": "python",
   "pygments_lexer": "ipython3",
   "version": "3.12.2"
  }
 },
 "nbformat": 4,
 "nbformat_minor": 2
}
