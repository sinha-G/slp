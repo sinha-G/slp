{
 "cells": [
  {
   "cell_type": "code",
   "execution_count": null,
   "metadata": {},
   "outputs": [],
   "source": [
    "import pandas as pd\n",
    "import numpy as np"
   ]
  },
  {
   "cell_type": "code",
   "execution_count": null,
   "metadata": {},
   "outputs": [],
   "source": [
    "# Load the DataFrame from the pickle file\n",
    "df = pd.read_pickle('./data/example.pkl')\n",
    "labels = ['DPAD_LEFT', 'DPAD_RIGHT', 'DPAD_DOWN', 'DPAD_UP', 'Z', 'R', 'L', 'A', 'B', 'X', 'Y', 'START']\n",
    "\n",
    "# Now, 'loaded_df' contains the data from the pickle file as a DataFrame\n"
   ]
  },
  {
   "cell_type": "code",
   "execution_count": null,
   "metadata": {},
   "outputs": [],
   "source": [
    "print(df.head())\n",
    "print(df.shape)"
   ]
  },
  {
   "cell_type": "code",
   "execution_count": null,
   "metadata": {},
   "outputs": [],
   "source": [
    "df.sort_values(by=['FName','Label'],inplace=True)\n",
    "df.reset_index(drop=True)"
   ]
  },
  {
   "cell_type": "code",
   "execution_count": null,
   "metadata": {},
   "outputs": [],
   "source": [
    "df['TimeSeries'][0].shape"
   ]
  },
  {
   "cell_type": "code",
   "execution_count": null,
   "metadata": {},
   "outputs": [],
   "source": [
    "import matplotlib.pyplot as plt\n",
    "\n",
    "# Create a random (720, 18) numpy array for demonstration\n",
    "data = df['TimeSeries'][100]\n",
    "chart_titles = ['DPAD_LEFT', 'DPAD_RIGHT', 'DPAD_DOWN', 'DPAD_UP', 'Z', 'R', 'L', 'A', 'B', 'X', 'Y', 'START','J_X','J_Y','C_X','C_Y','T_L','T_R']\n",
    "# Create 18 line plots, one for each column\n",
    "num_cols = data.shape[1]\n",
    "\n",
    "# Set up subplots in a grid layout\n",
    "num_rows = (num_cols + 1) // 2  # Calculate the number of rows needed\n",
    "fig, axes = plt.subplots(num_rows, 2, figsize=(12, 18))\n",
    "\n",
    "# Flatten the axes array if there's only one row\n",
    "if num_rows == 1:\n",
    "    axes = axes.ravel()\n",
    "\n",
    "# Loop through each column and create a line plot\n",
    "for i in range(num_cols):\n",
    "    row_idx = i // 2  # Calculate the row index\n",
    "    col_idx = i % 2   # Calculate the column index\n",
    "    ax = axes[row_idx, col_idx]\n",
    "    \n",
    "    ax.plot(data[:, i])\n",
    "    ax.set_title(f'Column {i + 1}')\n",
    "    ax.set_xlabel('Index')\n",
    "    ax.set_ylabel('Value')\n",
    "\n",
    "# Remove any empty subplots (if num_cols is odd)\n",
    "if num_cols % 2 != 0:\n",
    "    fig.delaxes(axes[num_rows - 1, 1])\n",
    "\n",
    "# Adjust layout\n",
    "plt.tight_layout()\n",
    "\n",
    "# Show the plots\n",
    "plt.show()"
   ]
  },
  {
   "cell_type": "code",
   "execution_count": null,
   "metadata": {},
   "outputs": [],
   "source": [
    "import matplotlib.pyplot as plt\n",
    "\n",
    "# Create a random (720, 18) numpy array for demonstration\n",
    "data = df['TimeSeries'][100]\n",
    "chart_titles = ['DPAD_LEFT', 'DPAD_RIGHT', 'DPAD_DOWN', 'DPAD_UP', 'Z', 'R', 'L', 'A', 'B', 'X', 'Y', 'START','J_X','J_Y','C_X','C_Y','T_L','T_R']\n",
    "\n",
    "# Create 18 line plots, one for each column\n",
    "num_cols = data.shape[1]\n",
    "\n",
    "# Set up subplots in a grid layout\n",
    "num_rows = (num_cols + 1) // 2  # Calculate the number of rows needed\n",
    "fig, axes = plt.subplots(num_rows, 2, figsize=(12, 18))\n",
    "\n",
    "# Flatten the axes array if there's only one row\n",
    "if num_rows == 1:\n",
    "    axes = axes.ravel()\n",
    "\n",
    "# Loop through each column and create a line plot with chart title\n",
    "for i in range(num_cols):\n",
    "    row_idx = i // 2  # Calculate the row index\n",
    "    col_idx = i % 2   # Calculate the column index\n",
    "    ax = axes[row_idx, col_idx]\n",
    "    \n",
    "    ax.plot(data[:, i])\n",
    "    ax.set_title(chart_titles[i])  # Set chart title from the chart_titles list\n",
    "    ax.set_xlabel('Index')\n",
    "    ax.set_ylabel('Value')\n",
    "\n",
    "# Remove any empty subplots (if num_cols is odd)\n",
    "if num_cols % 2 != 0:\n",
    "    fig.delaxes(axes[num_rows - 1, 1])\n",
    "\n",
    "# Adjust layout\n",
    "plt.tight_layout()\n",
    "\n",
    "# Show the plots\n",
    "plt.show()\n"
   ]
  },
  {
   "cell_type": "code",
   "execution_count": null,
   "metadata": {},
   "outputs": [],
   "source": [
    "# Get memory usage for each column in bytes\n",
    "memory_usage = df.memory_usage(deep=True)\n",
    "\n",
    "# Sum the memory usage values to get the total memory usage of the DataFrame\n",
    "total_memory_usage = memory_usage.sum()\n",
    "\n",
    "print(f\"Total memory usage of the DataFrame: {total_memory_usage} bytes\")"
   ]
  },
  {
   "cell_type": "code",
   "execution_count": null,
   "metadata": {},
   "outputs": [],
   "source": [
    "print(df['TimeSeries'])"
   ]
  },
  {
   "cell_type": "code",
   "execution_count": null,
   "metadata": {},
   "outputs": [],
   "source": [
    "# df['TimeSeries'] = df['TimeSeries'].apply(lambda x: np.array(x, dtype=np.float16))"
   ]
  },
  {
   "cell_type": "code",
   "execution_count": null,
   "metadata": {},
   "outputs": [],
   "source": [
    "print(df['TimeSeries'][0])"
   ]
  },
  {
   "cell_type": "code",
   "execution_count": null,
   "metadata": {},
   "outputs": [],
   "source": [
    "Y,X,B,A,L,R,Z,DPAD_UP,DPAD_DOWN,DPAD_RIGHT,DPAD_LEFT,NONE,pressed()"
   ]
  },
  {
   "cell_type": "code",
   "execution_count": null,
   "metadata": {},
   "outputs": [],
   "source": []
  }
 ],
 "metadata": {
  "kernelspec": {
   "display_name": "slp",
   "language": "python",
   "name": "python3"
  },
  "language_info": {
   "codemirror_mode": {
    "name": "ipython",
    "version": 3
   },
   "file_extension": ".py",
   "mimetype": "text/x-python",
   "name": "python",
   "nbconvert_exporter": "python",
   "pygments_lexer": "ipython3",
   "version": "3.11.7"
  }
 },
 "nbformat": 4,
 "nbformat_minor": 2
}
