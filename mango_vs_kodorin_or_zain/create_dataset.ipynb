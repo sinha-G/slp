{
 "cells": [
  {
   "cell_type": "markdown",
   "metadata": {},
   "source": [
    "<h1>Imports</h1>"
   ]
  },
  {
   "cell_type": "code",
   "execution_count": null,
   "metadata": {},
   "outputs": [],
   "source": [
    "import os\n",
    "import sys\n",
    "import gzip\n",
    "\n",
    "import pandas as pd\n",
    "import numpy as np\n",
    "\n",
    "from sklearn.utils import shuffle\n",
    "\n",
    "sys.path.append('..')\n",
    "from slp_package import slp_functions"
   ]
  },
  {
   "cell_type": "markdown",
   "metadata": {},
   "source": [
    "<h1> Load data </h1>\n",
    "\n",
    "**Note**: We use a label 1 for Mango vs Zain and 0 for Mango vs Kodorin.\n",
    "\n",
    "We filter the DataFrame to contain Mango vs Kodorin and Mango vs Zain games. We then iterate through it to get all file paths and corresponding labels."
   ]
  },
  {
   "cell_type": "code",
   "execution_count": null,
   "metadata": {},
   "outputs": [],
   "source": [
    "# Load game data df containing only mango's data\n",
    "df = slp_functions.create_merged_game_data_df(['mango'])\n",
    "df = df[(((df['player_1_netplay_code'] == 'MANG#0') & (df['player_2_netplay_code'] == 'KOD#0'))) |\n",
    "        (((df['player_2_netplay_code'] == 'MANG#0') & (df['player_1_netplay_code'] == 'KOD#0'))) |\n",
    "         (((df['player_1_netplay_code'] == 'MANG#0') & (df['player_2_netplay_code'] == 'ZAIN#0'))) |\n",
    "         (((df['player_2_netplay_code'] == 'MANG#0') & (df['player_1_netplay_code'] == 'ZAIN#0')))]\n",
    "df = df[df['length'] >= 1024]\n",
    "\n",
    "X = []\n",
    "y = []\n",
    "netcodes = ['KOD#0', 'ZAIN#0']\n",
    "\n",
    "# Get minimum number of segments\n",
    "min_segments = -1\n",
    "for netcode in netcodes:\n",
    "    segments = 0\n",
    "    segments += len(df.loc[df['player_1_netplay_code'] == netcode, 'player_2_inputs_np_save_path'].tolist()) \n",
    "    segments += len(df.loc[df['player_2_netplay_code'] == netcode, 'player_1_inputs_np_save_path'].tolist()) \n",
    "    print(f'{segments} segments for {netcode}')\n",
    "    if segments < min_segments or min_segments == -1:\n",
    "        min_segments = segments\n",
    "\n",
    "# Get file names for desired rows\n",
    "for netcode in netcodes:\n",
    "    # Get's mang0's inputs when he's playing the desired netcode\n",
    "    paths_1 = df.loc[df['player_1_netplay_code'] == netcode, 'player_2_inputs_np_save_path'].tolist()\n",
    "    paths_2 = df.loc[df['player_2_netplay_code'] == netcode, 'player_1_inputs_np_save_path'].tolist()\n",
    "    paths = paths_1 + paths_2\n",
    "    paths = paths[:min_segments]\n",
    "    X.extend(paths)\n",
    "    y.extend([1 if netcode == 'ZAIN#0' else 0] * len(paths))\n",
    "    print(f'{len(paths)} rows added for {netcode}')\n"
   ]
  },
  {
   "cell_type": "markdown",
   "metadata": {},
   "source": [
    "<h1> Shuffle and Save Data </h1>"
   ]
  },
  {
   "cell_type": "code",
   "execution_count": null,
   "metadata": {},
   "outputs": [],
   "source": [
    "# Shuffle the dataset to mix up the order of characters\n",
    "X, y = shuffle(np.array(X), np.array(y), random_state=42)\n",
    "\n",
    "# At this point, X and y are your balanced dataset ready for further processing\n",
    "print('Total number of data points: ', X.shape[0])\n",
    "\n",
    "# Save data lists\n",
    "save_path = 'C:/Users/jaspa/Grant ML/slp/data/'\n",
    "\n",
    "with gzip.open(os.path.join(save_path,'mango_vs_zain_or_kodorin.npy.gz'), 'wb') as f:\n",
    "    np.save(f, X)\n",
    "\n",
    "with gzip.open(os.path.join(save_path,'mango_vs_zain_or_kodorin.npy.gz'), 'wb') as f:\n",
    "    np.save(f, y)"
   ]
  }
 ],
 "metadata": {
  "kernelspec": {
   "display_name": "Python 3",
   "language": "python",
   "name": "python3"
  },
  "language_info": {
   "codemirror_mode": {
    "name": "ipython",
    "version": 3
   },
   "file_extension": ".py",
   "mimetype": "text/x-python",
   "name": "python",
   "nbconvert_exporter": "python",
   "pygments_lexer": "ipython3",
   "version": "3.12.0"
  }
 },
 "nbformat": 4,
 "nbformat_minor": 2
}
