{
 "cells": [
  {
   "cell_type": "code",
   "execution_count": 1,
   "metadata": {},
   "outputs": [
    {
     "data": {
      "text/plain": [
       "True"
      ]
     },
     "execution_count": 1,
     "metadata": {},
     "output_type": "execute_result"
    }
   ],
   "source": [
    "import torch\n",
    "import torch.nn as nn\n",
    "import torch.nn.functional as F\n",
    "from torch.utils.data import Dataset, DataLoader\n",
    "from torch.optim import Adam, SGD\n",
    "from torchsummary import summary\n",
    "from torch.cuda.amp import autocast, GradScaler\n",
    "\n",
    "import numpy as np\n",
    "import gzip\n",
    "import pickle\n",
    "import os\n",
    "from sklearn.model_selection import train_test_split\n",
    "from sklearn.metrics import accuracy_score, cohen_kappa_score, ConfusionMatrixDisplay\n",
    "import matplotlib.pyplot as plt\n",
    "\n",
    "from tqdm import tqdm\n",
    "import gc\n",
    "import time\n",
    "import random\n",
    "\n",
    "\n",
    "\n",
    "import sys\n",
    "sys.path.append('..')\n",
    "# from slp_package.slp_functions import create_merged_game_data_df\n",
    "from slp_package.input_dataset import InputDataSet\n",
    "import slp_package.pytorch_functions as slp_pytorch_functions\n",
    "from slp_package.slp_functions import create_merged_game_data_df\n",
    "\n",
    "def set_seed(seed=42):\n",
    "    torch.manual_seed(seed)\n",
    "    torch.cuda.manual_seed_all(seed)  # if you are using CUDA\n",
    "    np.random.seed(seed)\n",
    "    random.seed(seed)\n",
    "    torch.backends.cudnn.deterministic = True\n",
    "    torch.backends.cudnn.benchmark = False\n",
    "\n",
    "set_seed(42)\n",
    "torch.cuda.is_available()"
   ]
  },
  {
   "cell_type": "code",
   "execution_count": 2,
   "metadata": {},
   "outputs": [],
   "source": [
    "df = create_merged_game_data_df(['ranked','mango','public'])"
   ]
  },
  {
   "cell_type": "code",
   "execution_count": 3,
   "metadata": {},
   "outputs": [
    {
     "data": {
      "text/plain": [
       "Index(['source', 'source_path_prefix', 'source_path_suffix', 'length',\n",
       "       'num_players', 'is_teams', 'player_1_port', 'player_1_character_name',\n",
       "       'player_1_type_name', 'player_1_stocks', 'player_1_costume',\n",
       "       'player_1_team_value', 'player_1_ucf_shield_drop_name', 'player_1_tag',\n",
       "       'player_1_display_name', 'player_2_port', 'player_2_character_name',\n",
       "       'player_2_type_name', 'player_2_stocks', 'player_2_costume',\n",
       "       'player_2_team_value', 'player_2_ucf_shield_drop_name', 'player_2_tag',\n",
       "       'player_2_display_name', 'random_seed', 'slippi', 'stage_name',\n",
       "       'is_pal', 'is_frozen_ps', 'end_method_name', 'lras_initiator',\n",
       "       'conclusive', 'winning_player', 'date', 'duration', 'platform',\n",
       "       'player_1_netplay_code', 'player_1_netplay_name',\n",
       "       'player_2_netplay_code', 'player_2_netplay_name', 'console_name',\n",
       "       'all_data_df_common_path', 'inputs_df_common_path',\n",
       "       'inputs_np_common_path', 'player_1_all_data_df_sub_path',\n",
       "       'player_1_all_data_df_save_path', 'player_1_inputs_df_sub_path',\n",
       "       'player_1_inputs_df_save_path', 'player_1_inputs_np_sub_path',\n",
       "       'player_1_inputs_np_save_path', 'player_2_all_data_df_sub_path',\n",
       "       'player_2_all_data_df_save_path', 'player_2_inputs_df_sub_path',\n",
       "       'player_2_inputs_df_save_path', 'player_2_inputs_np_sub_path',\n",
       "       'player_2_inputs_np_save_path', 'player_1_win', 'player_2_win'],\n",
       "      dtype='object')"
      ]
     },
     "execution_count": 3,
     "metadata": {},
     "output_type": "execute_result"
    }
   ],
   "source": [
    "df.columns\n"
   ]
  },
  {
   "cell_type": "code",
   "execution_count": 4,
   "metadata": {},
   "outputs": [
    {
     "data": {
      "text/plain": [
       "                   99186\n",
       "Platinum Player    47335\n",
       "Master Player      39195\n",
       "Diamond Player     29613\n",
       "mang               14142\n",
       "                   ...  \n",
       "AV                     1\n",
       "Zuppy                  1\n",
       "tk                     1\n",
       "DawsonTruu             1\n",
       "Bink                   1\n",
       "Name: player_1_display_name, Length: 257, dtype: int64"
      ]
     },
     "execution_count": 4,
     "metadata": {},
     "output_type": "execute_result"
    }
   ],
   "source": [
    "df['player_1_display_name'].value_counts()"
   ]
  },
  {
   "cell_type": "code",
   "execution_count": 5,
   "metadata": {},
   "outputs": [
    {
     "data": {
      "text/plain": [
       "41459841.06666667"
      ]
     },
     "execution_count": 5,
     "metadata": {},
     "output_type": "execute_result"
    }
   ],
   "source": [
    "df['length'].sum() / (60)"
   ]
  },
  {
   "cell_type": "code",
   "execution_count": 6,
   "metadata": {},
   "outputs": [],
   "source": [
    "def asses_model(model_name, y_pred, y_test, labels_order):\n",
    "    print()\n",
    "    # Calculate metrics\n",
    "    accuracy = accuracy_score(y_test, y_pred)\n",
    "    kappa = cohen_kappa_score(y_pred, y_test)\n",
    "\n",
    "    # Print accuracy and Cohen Kappa score with explanations\n",
    "    print(f'Accuracy of {model_name}: {accuracy:.4f}')\n",
    "    print(f'Cohen Kappa Score of {model_name}: {kappa:.4f}')\n",
    "\n",
    "    # Calculate the normalized predicted label count\n",
    "    unique_pred, counts_pred = np.unique(y_pred, return_counts=True)\n",
    "    unique_test, counts_test = np.unique(y_test, return_counts=True)\n",
    "    normalized_counts_pred = {k: v / counts_test[np.where(unique_test == k)[0][0]] for k, v in zip(unique_pred, counts_pred)}\n",
    "    \n",
    "    # Calculate the percent the model over or under predicted the labels using the specified label order\n",
    "    sorted_values = [normalized_counts_pred[k] - 1 if k in normalized_counts_pred else 0 for k in labels_order]\n",
    "\n",
    "    # Plotting the percent the model over or under predicted the labels\n",
    "    plt.figure(figsize=(2*len(labels_order), 4))\n",
    "    plt.bar(labels_order, sorted_values, color=['green' if x > 0 else 'blue' for x in sorted_values])\n",
    "    plt.title(f'Percent Model {model_name} Over or Under Predicted Labels')\n",
    "    plt.xlabel('Labels')\n",
    "    plt.ylabel('Percent Over/Under Prediction')\n",
    "    \n",
    "    # Center y-axis and set equal extension above and below\n",
    "    max_extent = max(abs(min(sorted_values)), abs(max(sorted_values))) * 1.05\n",
    "    plt.ylim(-max_extent, max_extent)\n",
    "    plt.axhline(y=0, color='gray', linewidth=0.8)\n",
    "    plt.show()\n",
    "\n",
    "    # Display each confusion matrix on its own row\n",
    "    for norm in [None, 'true', 'pred']:\n",
    "        plt.figure(figsize=(len(labels_order)+5, len(labels_order)+5))\n",
    "        ax = plt.gca()\n",
    "        ConfusionMatrixDisplay.from_predictions(\n",
    "            y_test, y_pred, normalize=norm, ax=ax,\n",
    "            xticks_rotation='vertical', labels=labels_order\n",
    "        )\n",
    "        ax.title.set_text(f'{model_name} Confusion Matrix ({\"Not Normalized\" if norm is None else \"Normalized by \" + norm})')\n",
    "        plt.tight_layout()\n",
    "        plt.show()\n",
    "        \n",
    "\n"
   ]
  },
  {
   "cell_type": "code",
   "execution_count": 7,
   "metadata": {},
   "outputs": [],
   "source": [
    "source_data = ['ranked','public','mango']\n",
    "\n",
    "general_features = {\n",
    "    'stage_name': ['FOUNTAIN_OF_DREAMS','FINAL_DESTINATION','BATTLEFIELD','YOSHIS_STORY','POKEMON_STADIUM','DREAMLAND'],\n",
    "    'num_players': [2],\n",
    "    'conclusive': [True]\n",
    "}\n",
    "player_features = {\n",
    "    # 'netplay_code': ['MANG#0'],\n",
    "    # 'character_name': ['FALCO'],\n",
    "    # 'character_name': ['FOX', 'FALCO', 'MARTH', 'CAPTAIN_FALCON', 'SHEIK'],\n",
    "    'character_name': ['FOX', 'CAPTAIN_FALCON', 'SHEIK', 'FALCO', 'GAME_AND_WATCH', 'MARTH', 'LINK', 'ICE_CLIMBERS', 'SAMUS', 'GANONDORF', 'BOWSER', 'MEWTWO', 'YOSHI', 'PIKACHU', 'JIGGLYPUFF', 'NESS', 'DR_MARIO', 'MARIO', 'PEACH', 'ROY', 'LUIGI', 'YOUNG_LINK', 'DONKEY_KONG', 'PICHU', 'KIRBY'],\n",
    "    # 'character_name': ['FOX', 'CAPTAIN_FALCON', 'SHEIK', 'FALCO', 'GAME_AND_WATCH', 'MARTH', 'LINK', 'ICE_CLIMBERS', 'SAMUS', 'GANONDORF', 'BOWSER', 'MEWTWO', 'YOSHI', 'PIKACHU', 'JIGGLYPUFF', 'NESS', 'DR_MARIO', 'PEACH', 'LUIGI', 'DONKEY_KONG'],\n",
    "    'type_name': ['HUMAN']\n",
    "    \n",
    "}\n",
    "opposing_player_features = {\n",
    "    # 'character_name': ['MARTH'],\n",
    "    # 'netplay_code': ['KOD#0', 'ZAIN#0']\n",
    "    'type_name': ['HUMAN']\n",
    "}\n",
    "label_info = {\n",
    "    'source': ['player'], # Can be 'general', 'player\n",
    "    # 'feature': ['netplay_code']\n",
    "    'feature': ['character_name']\n",
    "}"
   ]
  },
  {
   "cell_type": "code",
   "execution_count": 8,
   "metadata": {},
   "outputs": [],
   "source": [
    "# source_data = ['ranked','public']\n",
    "\n",
    "# general_features = {\n",
    "#     'stage_name': ['FOUNTAIN_OF_DREAMS','FINAL_DESTINATION','BATTLEFIELD','YOSHIS_STORY','POKEMON_STADIUM','DREAMLAND'],\n",
    "#     'num_players': [2],\n",
    "#     'conclusive': [True]\n",
    "# }\n",
    "# player_features = {\n",
    "#     # 'netplay_code': ['MANG#0'],\n",
    "#     # 'character_name': ['PICHU'],\n",
    "#     # 'character_name': ['PIKACHU'],\n",
    "#     # 'character_name': ['PIKACHU','PICHU'],\n",
    "#     # 'character_name': ['FOX','FALCO'],\n",
    "#     'character_name': ['FOX','FALCO','PIKACHU','PICHU'],\n",
    "#     # 'display_name': ['Platinum Player','Master Player', 'Diamond Player']\n",
    "\n",
    "    \n",
    "# }\n",
    "# opposing_player_features = {\n",
    "#     # 'character_name': ['MARTH'],\n",
    "#     # 'netplay_code': ['KOD#0', 'ZAIN#0']\n",
    "#     'type_name': ['HUMAN']\n",
    "# }\n",
    "# label_info = {\n",
    "#     'source': ['player'], # Can be 'general', 'player\n",
    "#     # 'feature': ['netplay_code']\n",
    "#     'feature': ['character_name']\n",
    "# }"
   ]
  },
  {
   "cell_type": "code",
   "execution_count": 9,
   "metadata": {},
   "outputs": [],
   "source": [
    "# # We classify opponent's characters on competitive stages\n",
    "\n",
    "# source_data = ['ranked']\n",
    "\n",
    "# general_features = {\n",
    "#     'stage_name': ['FOUNTAIN_OF_DREAMS','FINAL_DESTINATION','BATTLEFIELD','YOSHIS_STORY','POKEMON_STADIUM','DREAMLAND'],\n",
    "#     'num_players': [2],\n",
    "#     'conclusive': [True]\n",
    "# }\n",
    "# player_features = {\n",
    "#     # 'netplay_code': ['MANG#0'],\n",
    "#     'character_name': ['FOX'],\n",
    "#     'type_name': ['HUMAN']\n",
    "    \n",
    "# }\n",
    "# opposing_player_features = {\n",
    "#     'character_name': ['FOX', 'FALCO', 'MARTH', 'CAPTAIN_FALCON', 'SHEIK'],\n",
    "#     # 'netplay_code': ['KOD#0', 'ZAIN#0'],\n",
    "#     'type_name': ['HUMAN']\n",
    "# }\n",
    "# label_info = {\n",
    "#     'source': ['opposing_player'], # Can be 'general', 'player', 'opposing_player'\n",
    "#     # 'feature': ['netplay_code']\n",
    "#     'feature': ['character_name']\n",
    "# }\n",
    "    "
   ]
  },
  {
   "cell_type": "code",
   "execution_count": 10,
   "metadata": {},
   "outputs": [
    {
     "name": "stderr",
     "output_type": "stream",
     "text": [
      "/workspace/slp_jaspar/autoencoder/../slp_package/input_dataset.py:95: FutureWarning: In a future version, object-dtype columns with all-bool values will not be included in reductions with bool_only=True. Explicitly cast to bool dtype instead.\n",
      "  processed_df = pd.concat([player_1_df, player_2_df], ignore_index=True)\n"
     ]
    },
    {
     "name": "stdout",
     "output_type": "stream",
     "text": [
      "FOX               103069\n",
      "FALCO              90719\n",
      "MARTH              53728\n",
      "CAPTAIN_FALCON     38006\n",
      "SHEIK              27623\n",
      "PEACH              17438\n",
      "JIGGLYPUFF         16374\n",
      "SAMUS               9524\n",
      "ICE_CLIMBERS        6849\n",
      "GANONDORF           6655\n",
      "YOSHI               5725\n",
      "LUIGI               5230\n",
      "DR_MARIO            4202\n",
      "PIKACHU             4096\n",
      "LINK                2502\n",
      "NESS                2306\n",
      "DONKEY_KONG         2026\n",
      "GAME_AND_WATCH      1967\n",
      "MEWTWO              1775\n",
      "MARIO               1713\n",
      "YOUNG_LINK          1447\n",
      "ROY                 1272\n",
      "BOWSER               940\n",
      "KIRBY                556\n",
      "PICHU                230\n",
      "Name: labels, dtype: int64\n"
     ]
    }
   ],
   "source": [
    "dataset = InputDataSet(source_data, general_features, player_features, opposing_player_features, label_info)\n",
    "\n",
    "print(dataset.dataset['labels'].value_counts())"
   ]
  },
  {
   "cell_type": "code",
   "execution_count": 15,
   "metadata": {},
   "outputs": [
    {
     "name": "stdout",
     "output_type": "stream",
     "text": [
      "1024\n",
      "             Label   Count  Shift\n",
      "0              FOX  103069  24187\n",
      "1            FALCO   90717  21015\n",
      "2            MARTH   53728  13321\n",
      "3   CAPTAIN_FALCON   38006   8766\n",
      "4            SHEIK   27623   7393\n",
      "5            PEACH   17438   4925\n",
      "6       JIGGLYPUFF   16374   4448\n",
      "7            SAMUS    9524   2879\n",
      "8     ICE_CLIMBERS    6849   1952\n",
      "9        GANONDORF    6655   1601\n",
      "10           YOSHI    5725   1528\n",
      "11           LUIGI    5230   1433\n",
      "12        DR_MARIO    4202   1133\n",
      "13         PIKACHU    4096   1124\n",
      "14            LINK    2502    700\n",
      "15            NESS    2306    727\n",
      "16     DONKEY_KONG    2026    542\n",
      "17  GAME_AND_WATCH    1967    462\n",
      "18          MEWTWO    1775    564\n",
      "19           MARIO    1713    478\n",
      "20      YOUNG_LINK    1447    410\n",
      "21             ROY    1272    336\n",
      "22          BOWSER     940    274\n",
      "23           KIRBY     556    155\n",
      "24           PICHU     230     61\n"
     ]
    }
   ],
   "source": [
    "labels_order =  dataset.number_of_segments_per_game(60,40000)\n",
    "print(2**10)\n",
    "print(labels_order)\n",
    "labels_order = labels_order['Label'].values\n"
   ]
  },
  {
   "cell_type": "code",
   "execution_count": 12,
   "metadata": {},
   "outputs": [],
   "source": [
    "train_df, test_df  = dataset.train_test_split_dataframes(test_ratio = .20, val = False)"
   ]
  },
  {
   "cell_type": "code",
   "execution_count": 13,
   "metadata": {},
   "outputs": [
    {
     "data": {
      "text/html": [
       "<div>\n",
       "<style scoped>\n",
       "    .dataframe tbody tr th:only-of-type {\n",
       "        vertical-align: middle;\n",
       "    }\n",
       "\n",
       "    .dataframe tbody tr th {\n",
       "        vertical-align: top;\n",
       "    }\n",
       "\n",
       "    .dataframe thead th {\n",
       "        text-align: right;\n",
       "    }\n",
       "</style>\n",
       "<table border=\"1\" class=\"dataframe\">\n",
       "  <thead>\n",
       "    <tr style=\"text-align: right;\">\n",
       "      <th></th>\n",
       "      <th>player_inputs_np_sub_path</th>\n",
       "      <th>labels</th>\n",
       "      <th>encoded_labels</th>\n",
       "      <th>segment_start_index</th>\n",
       "      <th>segment_index</th>\n",
       "      <th>segment_length</th>\n",
       "    </tr>\n",
       "  </thead>\n",
       "  <tbody>\n",
       "    <tr>\n",
       "      <th>0</th>\n",
       "      <td>public\\FALCO\\bee06d45-fca6-437f-969a-901efa166...</td>\n",
       "      <td>FALCO</td>\n",
       "      <td>4</td>\n",
       "      <td>0</td>\n",
       "      <td>0</td>\n",
       "      <td>1024</td>\n",
       "    </tr>\n",
       "    <tr>\n",
       "      <th>1</th>\n",
       "      <td>mango\\FALCO\\b3c63d9d-efb7-4544-bdd6-9da7e221f1...</td>\n",
       "      <td>FALCO</td>\n",
       "      <td>4</td>\n",
       "      <td>0</td>\n",
       "      <td>0</td>\n",
       "      <td>1024</td>\n",
       "    </tr>\n",
       "    <tr>\n",
       "      <th>2</th>\n",
       "      <td>mango\\FALCO\\24b523a3-18da-4ba2-a986-d0c99b6228...</td>\n",
       "      <td>FALCO</td>\n",
       "      <td>4</td>\n",
       "      <td>0</td>\n",
       "      <td>0</td>\n",
       "      <td>1024</td>\n",
       "    </tr>\n",
       "    <tr>\n",
       "      <th>3</th>\n",
       "      <td>mango\\FALCO\\60e0d81b-e0bd-420c-8fce-fe2b11645c...</td>\n",
       "      <td>FALCO</td>\n",
       "      <td>4</td>\n",
       "      <td>0</td>\n",
       "      <td>0</td>\n",
       "      <td>1024</td>\n",
       "    </tr>\n",
       "    <tr>\n",
       "      <th>4</th>\n",
       "      <td>public\\FALCO\\b0925bbb-c009-49db-80e6-6985d4756...</td>\n",
       "      <td>FALCO</td>\n",
       "      <td>4</td>\n",
       "      <td>0</td>\n",
       "      <td>0</td>\n",
       "      <td>1024</td>\n",
       "    </tr>\n",
       "  </tbody>\n",
       "</table>\n",
       "</div>"
      ],
      "text/plain": [
       "                           player_inputs_np_sub_path labels  encoded_labels  \\\n",
       "0  public\\FALCO\\bee06d45-fca6-437f-969a-901efa166...  FALCO               4   \n",
       "1  mango\\FALCO\\b3c63d9d-efb7-4544-bdd6-9da7e221f1...  FALCO               4   \n",
       "2  mango\\FALCO\\24b523a3-18da-4ba2-a986-d0c99b6228...  FALCO               4   \n",
       "3  mango\\FALCO\\60e0d81b-e0bd-420c-8fce-fe2b11645c...  FALCO               4   \n",
       "4  public\\FALCO\\b0925bbb-c009-49db-80e6-6985d4756...  FALCO               4   \n",
       "\n",
       "   segment_start_index  segment_index  segment_length  \n",
       "0                    0              0            1024  \n",
       "1                    0              0            1024  \n",
       "2                    0              0            1024  \n",
       "3                    0              0            1024  \n",
       "4                    0              0            1024  "
      ]
     },
     "execution_count": 13,
     "metadata": {},
     "output_type": "execute_result"
    }
   ],
   "source": [
    "train_df.head()"
   ]
  },
  {
   "cell_type": "code",
   "execution_count": 14,
   "metadata": {},
   "outputs": [
    {
     "name": "stdout",
     "output_type": "stream",
     "text": [
      "{4: 'FALCO', 14: 'MARTH', 5: 'FOX', 1: 'CAPTAIN_FALCON', 22: 'SHEIK', 9: 'JIGGLYPUFF', 3: 'DR_MARIO', 23: 'YOSHI', 19: 'PIKACHU', 21: 'SAMUS', 8: 'ICE_CLIMBERS', 13: 'MARIO', 12: 'LUIGI', 17: 'PEACH', 0: 'BOWSER', 2: 'DONKEY_KONG', 20: 'ROY', 7: 'GANONDORF', 18: 'PICHU', 11: 'LINK', 16: 'NESS', 24: 'YOUNG_LINK', 10: 'KIRBY', 6: 'GAME_AND_WATCH', 15: 'MEWTWO'}\n"
     ]
    }
   ],
   "source": [
    "labels_unique = train_df['labels'].unique()\n",
    "encoded_labels_unique = train_df['encoded_labels'].unique()\n",
    "label_decoder = zip(labels_unique, encoded_labels_unique)\n",
    "label_decoder = dict(zip(encoded_labels_unique, labels_unique)) \n",
    "print(label_decoder)"
   ]
  },
  {
   "cell_type": "code",
   "execution_count": 15,
   "metadata": {},
   "outputs": [],
   "source": [
    "from ResNet_Model import ResNet50, ResNet101\n",
    "# from ResNet_Model_Relative import ResNet50\n",
    "# from ResNet_Model_Relative_2 import ResNet50\n",
    "\n",
    "model = ResNet50(num_classes=4, channels=9).to('cuda')\n"
   ]
  },
  {
   "cell_type": "code",
   "execution_count": 16,
   "metadata": {},
   "outputs": [],
   "source": [
    "# # Create a dummy input with the correct shape\n",
    "# dummy_input = torch.randn(1, 9, 4096)  # batch size of 1, 9 channels, 4096 length\n",
    "# try:\n",
    "#     with torch.no_grad():\n",
    "#         model(dummy_input.to(model.device))  # Ensure the dummy input is on the same device as the model\n",
    "# except Exception as e:\n",
    "#     print(\"Error during test forward pass: \", str(e))\n",
    "\n"
   ]
  },
  {
   "cell_type": "code",
   "execution_count": 17,
   "metadata": {},
   "outputs": [
    {
     "name": "stdout",
     "output_type": "stream",
     "text": [
      "----------------------------------------------------------------\n",
      "        Layer (type)               Output Shape         Param #\n",
      "================================================================\n",
      "            Conv1d-1               [-1, 64, 30]           4,032\n",
      "       BatchNorm1d-2               [-1, 64, 30]             128\n",
      "              ReLU-3               [-1, 64, 30]               0\n",
      "         MaxPool1d-4               [-1, 64, 15]               0\n",
      "            Conv1d-5               [-1, 64, 15]           4,160\n",
      "       BatchNorm1d-6               [-1, 64, 15]             128\n",
      "              ReLU-7               [-1, 64, 15]               0\n",
      "            Conv1d-8               [-1, 64, 15]          12,352\n",
      "       BatchNorm1d-9               [-1, 64, 15]             128\n",
      "             ReLU-10               [-1, 64, 15]               0\n",
      "           Conv1d-11              [-1, 256, 15]          16,640\n",
      "      BatchNorm1d-12              [-1, 256, 15]             512\n",
      "           Conv1d-13              [-1, 256, 15]          16,640\n",
      "      BatchNorm1d-14              [-1, 256, 15]             512\n",
      "             ReLU-15              [-1, 256, 15]               0\n",
      "       Bottleneck-16              [-1, 256, 15]               0\n",
      "           Conv1d-17               [-1, 64, 15]          16,448\n",
      "      BatchNorm1d-18               [-1, 64, 15]             128\n",
      "             ReLU-19               [-1, 64, 15]               0\n",
      "           Conv1d-20               [-1, 64, 15]          12,352\n",
      "      BatchNorm1d-21               [-1, 64, 15]             128\n",
      "             ReLU-22               [-1, 64, 15]               0\n",
      "           Conv1d-23              [-1, 256, 15]          16,640\n",
      "      BatchNorm1d-24              [-1, 256, 15]             512\n",
      "             ReLU-25              [-1, 256, 15]               0\n",
      "       Bottleneck-26              [-1, 256, 15]               0\n",
      "           Conv1d-27               [-1, 64, 15]          16,448\n",
      "      BatchNorm1d-28               [-1, 64, 15]             128\n",
      "             ReLU-29               [-1, 64, 15]               0\n",
      "           Conv1d-30               [-1, 64, 15]          12,352\n",
      "      BatchNorm1d-31               [-1, 64, 15]             128\n",
      "             ReLU-32               [-1, 64, 15]               0\n",
      "           Conv1d-33              [-1, 256, 15]          16,640\n",
      "      BatchNorm1d-34              [-1, 256, 15]             512\n",
      "             ReLU-35              [-1, 256, 15]               0\n",
      "       Bottleneck-36              [-1, 256, 15]               0\n",
      "           Conv1d-37              [-1, 128, 15]          32,896\n",
      "      BatchNorm1d-38              [-1, 128, 15]             256\n",
      "             ReLU-39              [-1, 128, 15]               0\n",
      "           Conv1d-40               [-1, 128, 8]          49,280\n",
      "      BatchNorm1d-41               [-1, 128, 8]             256\n",
      "             ReLU-42               [-1, 128, 8]               0\n",
      "           Conv1d-43               [-1, 512, 8]          66,048\n",
      "      BatchNorm1d-44               [-1, 512, 8]           1,024\n",
      "           Conv1d-45               [-1, 512, 8]         131,584\n",
      "      BatchNorm1d-46               [-1, 512, 8]           1,024\n",
      "             ReLU-47               [-1, 512, 8]               0\n",
      "       Bottleneck-48               [-1, 512, 8]               0\n",
      "           Conv1d-49               [-1, 128, 8]          65,664\n",
      "      BatchNorm1d-50               [-1, 128, 8]             256\n",
      "             ReLU-51               [-1, 128, 8]               0\n",
      "           Conv1d-52               [-1, 128, 8]          49,280\n",
      "      BatchNorm1d-53               [-1, 128, 8]             256\n",
      "             ReLU-54               [-1, 128, 8]               0\n",
      "           Conv1d-55               [-1, 512, 8]          66,048\n",
      "      BatchNorm1d-56               [-1, 512, 8]           1,024\n",
      "             ReLU-57               [-1, 512, 8]               0\n",
      "       Bottleneck-58               [-1, 512, 8]               0\n",
      "           Conv1d-59               [-1, 128, 8]          65,664\n",
      "      BatchNorm1d-60               [-1, 128, 8]             256\n",
      "             ReLU-61               [-1, 128, 8]               0\n",
      "           Conv1d-62               [-1, 128, 8]          49,280\n",
      "      BatchNorm1d-63               [-1, 128, 8]             256\n",
      "             ReLU-64               [-1, 128, 8]               0\n",
      "           Conv1d-65               [-1, 512, 8]          66,048\n",
      "      BatchNorm1d-66               [-1, 512, 8]           1,024\n",
      "             ReLU-67               [-1, 512, 8]               0\n",
      "       Bottleneck-68               [-1, 512, 8]               0\n",
      "           Conv1d-69               [-1, 128, 8]          65,664\n",
      "      BatchNorm1d-70               [-1, 128, 8]             256\n",
      "             ReLU-71               [-1, 128, 8]               0\n",
      "           Conv1d-72               [-1, 128, 8]          49,280\n",
      "      BatchNorm1d-73               [-1, 128, 8]             256\n",
      "             ReLU-74               [-1, 128, 8]               0\n",
      "           Conv1d-75               [-1, 512, 8]          66,048\n",
      "      BatchNorm1d-76               [-1, 512, 8]           1,024\n",
      "             ReLU-77               [-1, 512, 8]               0\n",
      "       Bottleneck-78               [-1, 512, 8]               0\n",
      "           Conv1d-79               [-1, 256, 8]         131,328\n",
      "      BatchNorm1d-80               [-1, 256, 8]             512\n",
      "             ReLU-81               [-1, 256, 8]               0\n",
      "           Conv1d-82               [-1, 256, 4]         196,864\n",
      "      BatchNorm1d-83               [-1, 256, 4]             512\n",
      "             ReLU-84               [-1, 256, 4]               0\n",
      "           Conv1d-85              [-1, 1024, 4]         263,168\n",
      "      BatchNorm1d-86              [-1, 1024, 4]           2,048\n",
      "           Conv1d-87              [-1, 1024, 4]         525,312\n",
      "      BatchNorm1d-88              [-1, 1024, 4]           2,048\n",
      "             ReLU-89              [-1, 1024, 4]               0\n",
      "       Bottleneck-90              [-1, 1024, 4]               0\n",
      "           Conv1d-91               [-1, 256, 4]         262,400\n",
      "      BatchNorm1d-92               [-1, 256, 4]             512\n",
      "             ReLU-93               [-1, 256, 4]               0\n",
      "           Conv1d-94               [-1, 256, 4]         196,864\n",
      "      BatchNorm1d-95               [-1, 256, 4]             512\n",
      "             ReLU-96               [-1, 256, 4]               0\n",
      "           Conv1d-97              [-1, 1024, 4]         263,168\n",
      "      BatchNorm1d-98              [-1, 1024, 4]           2,048\n",
      "             ReLU-99              [-1, 1024, 4]               0\n",
      "      Bottleneck-100              [-1, 1024, 4]               0\n",
      "          Conv1d-101               [-1, 256, 4]         262,400\n",
      "     BatchNorm1d-102               [-1, 256, 4]             512\n",
      "            ReLU-103               [-1, 256, 4]               0\n",
      "          Conv1d-104               [-1, 256, 4]         196,864\n",
      "     BatchNorm1d-105               [-1, 256, 4]             512\n",
      "            ReLU-106               [-1, 256, 4]               0\n",
      "          Conv1d-107              [-1, 1024, 4]         263,168\n",
      "     BatchNorm1d-108              [-1, 1024, 4]           2,048\n",
      "            ReLU-109              [-1, 1024, 4]               0\n",
      "      Bottleneck-110              [-1, 1024, 4]               0\n",
      "          Conv1d-111               [-1, 256, 4]         262,400\n",
      "     BatchNorm1d-112               [-1, 256, 4]             512\n",
      "            ReLU-113               [-1, 256, 4]               0\n",
      "          Conv1d-114               [-1, 256, 4]         196,864\n",
      "     BatchNorm1d-115               [-1, 256, 4]             512\n",
      "            ReLU-116               [-1, 256, 4]               0\n",
      "          Conv1d-117              [-1, 1024, 4]         263,168\n",
      "     BatchNorm1d-118              [-1, 1024, 4]           2,048\n",
      "            ReLU-119              [-1, 1024, 4]               0\n",
      "      Bottleneck-120              [-1, 1024, 4]               0\n",
      "          Conv1d-121               [-1, 256, 4]         262,400\n",
      "     BatchNorm1d-122               [-1, 256, 4]             512\n",
      "            ReLU-123               [-1, 256, 4]               0\n",
      "          Conv1d-124               [-1, 256, 4]         196,864\n",
      "     BatchNorm1d-125               [-1, 256, 4]             512\n",
      "            ReLU-126               [-1, 256, 4]               0\n",
      "          Conv1d-127              [-1, 1024, 4]         263,168\n",
      "     BatchNorm1d-128              [-1, 1024, 4]           2,048\n",
      "            ReLU-129              [-1, 1024, 4]               0\n",
      "      Bottleneck-130              [-1, 1024, 4]               0\n",
      "          Conv1d-131               [-1, 256, 4]         262,400\n",
      "     BatchNorm1d-132               [-1, 256, 4]             512\n",
      "            ReLU-133               [-1, 256, 4]               0\n",
      "          Conv1d-134               [-1, 256, 4]         196,864\n",
      "     BatchNorm1d-135               [-1, 256, 4]             512\n",
      "            ReLU-136               [-1, 256, 4]               0\n",
      "          Conv1d-137              [-1, 1024, 4]         263,168\n",
      "     BatchNorm1d-138              [-1, 1024, 4]           2,048\n",
      "            ReLU-139              [-1, 1024, 4]               0\n",
      "      Bottleneck-140              [-1, 1024, 4]               0\n",
      "          Conv1d-141               [-1, 512, 4]         524,800\n",
      "     BatchNorm1d-142               [-1, 512, 4]           1,024\n",
      "            ReLU-143               [-1, 512, 4]               0\n",
      "          Conv1d-144               [-1, 512, 2]         786,944\n",
      "     BatchNorm1d-145               [-1, 512, 2]           1,024\n",
      "            ReLU-146               [-1, 512, 2]               0\n",
      "          Conv1d-147              [-1, 2048, 2]       1,050,624\n",
      "     BatchNorm1d-148              [-1, 2048, 2]           4,096\n",
      "          Conv1d-149              [-1, 2048, 2]       2,099,200\n",
      "     BatchNorm1d-150              [-1, 2048, 2]           4,096\n",
      "            ReLU-151              [-1, 2048, 2]               0\n",
      "      Bottleneck-152              [-1, 2048, 2]               0\n",
      "          Conv1d-153               [-1, 512, 2]       1,049,088\n",
      "     BatchNorm1d-154               [-1, 512, 2]           1,024\n",
      "            ReLU-155               [-1, 512, 2]               0\n",
      "          Conv1d-156               [-1, 512, 2]         786,944\n",
      "     BatchNorm1d-157               [-1, 512, 2]           1,024\n",
      "            ReLU-158               [-1, 512, 2]               0\n",
      "          Conv1d-159              [-1, 2048, 2]       1,050,624\n",
      "     BatchNorm1d-160              [-1, 2048, 2]           4,096\n",
      "            ReLU-161              [-1, 2048, 2]               0\n",
      "      Bottleneck-162              [-1, 2048, 2]               0\n",
      "          Conv1d-163               [-1, 512, 2]       1,049,088\n",
      "     BatchNorm1d-164               [-1, 512, 2]           1,024\n",
      "            ReLU-165               [-1, 512, 2]               0\n",
      "          Conv1d-166               [-1, 512, 2]         786,944\n",
      "     BatchNorm1d-167               [-1, 512, 2]           1,024\n",
      "            ReLU-168               [-1, 512, 2]               0\n",
      "          Conv1d-169              [-1, 2048, 2]       1,050,624\n",
      "     BatchNorm1d-170              [-1, 2048, 2]           4,096\n",
      "            ReLU-171              [-1, 2048, 2]               0\n",
      "      Bottleneck-172              [-1, 2048, 2]               0\n",
      "AdaptiveAvgPool1d-173              [-1, 2048, 1]               0\n",
      "          Linear-174                    [-1, 4]           8,196\n",
      "================================================================\n",
      "Total params: 15,992,516\n",
      "Trainable params: 15,992,516\n",
      "Non-trainable params: 0\n",
      "----------------------------------------------------------------\n",
      "Input size (MB): 0.00\n",
      "Forward/backward pass size (MB): 3.10\n",
      "Params size (MB): 61.01\n",
      "Estimated Total Size (MB): 64.11\n",
      "----------------------------------------------------------------\n"
     ]
    }
   ],
   "source": [
    "summary(model, input_size=(9, 60))"
   ]
  },
  {
   "cell_type": "code",
   "execution_count": null,
   "metadata": {},
   "outputs": [],
   "source": [
    "# model = torch.compile(model, mode = 'default').to('cuda')\n",
    "# model = torch.compile(model, mode='max-autotune')\n",
    "# model = model.to('cuda')"
   ]
  },
  {
   "cell_type": "code",
   "execution_count": null,
   "metadata": {},
   "outputs": [],
   "source": [
    "loaders = slp_pytorch_functions.prepare_data_loaders_no_val(train_df, test_df, 32, 16)\n",
    "criterion = nn.CrossEntropyLoss(reduction = 'sum')\n",
    "optimizer = Adam(model.parameters(), lr=0.001)\n",
    "# optimizer = SGD(net.parameters(), lr=0.1, momentum=0.9, weight_decay=0.0001)\n",
    "slp_pytorch_functions.train_model(model, criterion,optimizer, loaders, 'cuda', 2 )\n",
    "y_pred = slp_pytorch_functions.predict(model, loaders['test'], 'cuda' )\n",
    "# y_pred = slp_pytorch_functions.predict(model, loaders['train'], 'cuda' )"
   ]
  },
  {
   "cell_type": "code",
   "execution_count": null,
   "metadata": {},
   "outputs": [],
   "source": [
    "asses_model('ResNet-50', np.array([label_decoder.get(item, \"Unknown\") for item in y_pred]), np.array(test_df['labels']), labels_order)\n"
   ]
  },
  {
   "cell_type": "code",
   "execution_count": null,
   "metadata": {},
   "outputs": [],
   "source": [
    "x = [3, 4, 4]\n",
    "plus = 3 + 2\n",
    "multiplier = 4\n",
    "for val in x:\n",
    "    plus += multiplier * val\n",
    "    multiplier *= 2\n",
    "print(1 + 2 * plus)\n",
    "    \n",
    "# print(1 + 2 * (x[0] * 4 + x[1] * 8 + x[2] * 16 + x[3] * 32))"
   ]
  },
  {
   "cell_type": "code",
   "execution_count": null,
   "metadata": {},
   "outputs": [],
   "source": [
    "slp_pytorch_functions.train_model(model, criterion,optimizer, loaders, 'cuda', 2 )\n",
    "y_pred = slp_pytorch_functions.predict(model, loaders['test'], 'cuda' )\n",
    "asses_model('ResNet-50', np.array([label_decoder.get(item, \"Unknown\") for item in y_pred]), np.array(test_df['labels']), labels_order)\n"
   ]
  },
  {
   "cell_type": "code",
   "execution_count": null,
   "metadata": {},
   "outputs": [],
   "source": [
    "slp_pytorch_functions.train_model(model, criterion,optimizer, loaders, 'cuda', 2 )\n",
    "y_pred = slp_pytorch_functions.predict(model, loaders['test'], 'cuda' )\n",
    "asses_model('ResNet-50', np.array([label_decoder.get(item, \"Unknown\") for item in y_pred]), np.array(test_df['labels']), labels_order)"
   ]
  },
  {
   "cell_type": "code",
   "execution_count": null,
   "metadata": {},
   "outputs": [],
   "source": [
    "slp_pytorch_functions.train_model(model, criterion,optimizer, loaders, 'cuda', 2 )\n",
    "y_pred = slp_pytorch_functions.predict(model, loaders['test'], 'cuda' )\n",
    "asses_model('ResNet-50', np.array([label_decoder.get(item, \"Unknown\") for item in y_pred]), np.array(test_df['labels']), labels_order)"
   ]
  },
  {
   "cell_type": "code",
   "execution_count": null,
   "metadata": {},
   "outputs": [],
   "source": [
    "asses_model('ResNet-50', np.array([label_decoder.get(item, \"Unknown\") for item in y_pred]), np.array(test_df['labels']), labels_order)"
   ]
  },
  {
   "cell_type": "code",
   "execution_count": null,
   "metadata": {},
   "outputs": [],
   "source": []
  }
 ],
 "metadata": {
  "kernelspec": {
   "display_name": "Python 3",
   "language": "python",
   "name": "python3"
  },
  "language_info": {
   "codemirror_mode": {
    "name": "ipython",
    "version": 3
   },
   "file_extension": ".py",
   "mimetype": "text/x-python",
   "name": "python",
   "nbconvert_exporter": "python",
   "pygments_lexer": "ipython3",
   "version": "3.10.12"
  }
 },
 "nbformat": 4,
 "nbformat_minor": 2
}
