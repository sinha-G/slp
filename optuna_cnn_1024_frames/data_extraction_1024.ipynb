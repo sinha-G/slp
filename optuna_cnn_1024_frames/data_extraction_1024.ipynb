{
 "cells": [
  {
   "cell_type": "markdown",
   "metadata": {},
   "source": [
    "<h2> Outline</h2>\n",
    "In this notebook we extract the input data from Fox vs Sheik games. We split each game into n second segments to get more training examples."
   ]
  },
  {
   "cell_type": "code",
   "execution_count": 55,
   "metadata": {},
   "outputs": [],
   "source": [
    "import os as os\n",
    "import numpy as np\n",
    "import pandas as pd\n",
    "import tqdm\n",
    "import slippi as slp\n",
    "from joblib import Parallel, delayed\n",
    "from multiprocessing import Manager"
   ]
  },
  {
   "cell_type": "markdown",
   "metadata": {},
   "source": [
    "<h2> Initialize some variables</h2>\n",
    "We can change the number of seconds per segment."
   ]
  },
  {
   "cell_type": "code",
   "execution_count": 56,
   "metadata": {},
   "outputs": [],
   "source": [
    "# seconds_per_segment = 16\n",
    "frames_per_segment = 1024\n",
    "# frames_per_segment = seconds_per_segment * 60\n",
    "# frames_per_segment = 900\n",
    "game_data_columns = ['spl_file', 'game_segment', 'is_sheik', 'input_data']\n",
    "dataset_path = '../Slippi_Public_Dataset_v3/'\n",
    "slp_files = [file for file in os.listdir(dataset_path) if file.endswith('.slp') and 'Sheik' in file and 'Fox' in file]"
   ]
  },
  {
   "cell_type": "markdown",
   "metadata": {},
   "source": [
    "<h2> Preliminary Functions </h2>\n",
    "We use these functions to one-hot encode the button bitmask and get the frame input data for a given port number and frames object."
   ]
  },
  {
   "cell_type": "code",
   "execution_count": 57,
   "metadata": {},
   "outputs": [],
   "source": [
    "# Takes encoded buttons as bitmask and returns binary array of buttons pressed\n",
    "def one_hot_encode(bitmask):\n",
    "    labels = ['DPAD_LEFT', 'DPAD_RIGHT', 'DPAD_DOWN', 'DPAD_UP', 'Z', 'R', 'L', 'A', 'B', 'X', 'Y', 'START']\n",
    "    encoded_values = [1, 2, 4, 8, 16, 32, 64, 256, 512, 1024, 2048, 4096]\n",
    "\n",
    "    # Create a dictionary mapping labels to their encoded values\n",
    "    label_to_value = dict(zip(labels, encoded_values))\n",
    "\n",
    "    # Initialize a list to store the one-hot encoded values\n",
    "    one_hot_encoded = [0] * len(labels)\n",
    "\n",
    "    # Iterate through labels and set the corresponding one-hot encoded value\n",
    "    for label, value in label_to_value.items():\n",
    "        if bitmask & value:\n",
    "            one_hot_encoded[labels.index(label)] = 1\n",
    "\n",
    "    return one_hot_encoded\n",
    "\n",
    "# Create a numpy list that is the correct size and fill it with a loop\n",
    "def get_frame_data(frames, port):\n",
    "    inputs = np.empty((frames_per_segment, 18))  # Initialize an empty Numpy array\n",
    "    for i, frame in enumerate(frames):  \n",
    "        buttons = one_hot_encode(frame.ports[port].leader.pre.buttons.physical.value)\n",
    "        j_x = frame.ports[port].leader.pre.joystick.x\n",
    "        j_y = frame.ports[port].leader.pre.joystick.y\n",
    "        c_x = frame.ports[port].leader.pre.cstick.x\n",
    "        c_y = frame.ports[port].leader.pre.cstick.y\n",
    "        t_l = frame.ports[port].leader.pre.triggers.physical.l\n",
    "        t_r = frame.ports[port].leader.pre.triggers.physical.r\n",
    "\n",
    "        frame_data = buttons + [j_x, j_y, c_x, c_y, t_l, t_r]\n",
    "        inputs[i] = frame_data\n",
    "\n",
    "    return inputs\n"
   ]
  },
  {
   "cell_type": "markdown",
   "metadata": {},
   "source": [
    "<h2>Process SLP function</h2>\n",
    "The function that will be called for each SLP file we are interested in."
   ]
  },
  {
   "cell_type": "code",
   "execution_count": 58,
   "metadata": {},
   "outputs": [],
   "source": [
    "# Each iteration of this creates a row of the dataframe and appends it to the dataframe.\n",
    "def process_slp_file(slp_file, dataset_path, game_data):\n",
    "    try:\n",
    "        file_path = os.path.join(dataset_path, slp_file)\n",
    "        game = slp.Game(file_path)\n",
    "        frames = game.frames\n",
    "         \n",
    "        # Check game is long enough\n",
    "        game_length = game.metadata.duration\n",
    "        if game_length < 123 + frames_per_segment:          # TODO: Create a package and define constants like 123 with meaningful names\n",
    "            return\n",
    "        \n",
    "        # Find the ports the players are using\n",
    "        occupied_ports = [i for i, port in enumerate(game.start.players) if port is not None]\n",
    "        if len(occupied_ports) > 2:  # Ignore games that aren't singles\n",
    "            return\n",
    "        if game.start.players[occupied_ports[0]].character.name == 'SHEIK':\n",
    "            sheik_port = occupied_ports[0]\n",
    "            fox_port = occupied_ports[1]\n",
    "        else:\n",
    "            sheik_port = occupied_ports[1]\n",
    "            fox_port = occupied_ports[0]\n",
    "\n",
    "        # Is one of the players a CPU? If a player is a computer, ignor the game\n",
    "        # event.players[sheik_port].type.value returns 0 if human and 1 if cpu\n",
    "        if game.start.players[sheik_port].type.value or game.start.players[fox_port].type.value:\n",
    "            return\n",
    "\n",
    "        num_game_segments = game_length // frames_per_segment   # To get more training data we take all 15s segments of the game\n",
    "        for i in range(num_game_segments):                      # Iterate over each of the 15s segments of the game\n",
    "            # Get Sheik data for the ith game segment\n",
    "            sheik_input_data = get_frame_data(frames[123 + i * frames_per_segment: 123 + (i + 1) * frames_per_segment], sheik_port)\n",
    "            game_data.append([slp_file, i, 1, sheik_input_data])\n",
    "            \n",
    "            # Get Fox data for the ith game segment\n",
    "            fox_input_data =  get_frame_data(frames[123 + i * frames_per_segment: 123 + (i + 1) * frames_per_segment], fox_port)\n",
    "            game_data.append([slp_file, i, 0, fox_input_data])\n",
    "            \n",
    "    except Exception as e:\n",
    "        print(f\"Error processing {slp_file}: {str(e)}\")"
   ]
  },
  {
   "cell_type": "markdown",
   "metadata": {},
   "source": [
    "<h2> Multiprocess data extraction </h2>\n",
    "We use joblib to speed the extraction of data."
   ]
  },
  {
   "cell_type": "code",
   "execution_count": 59,
   "metadata": {},
   "outputs": [
    {
     "name": "stderr",
     "output_type": "stream",
     "text": [
      "[Parallel(n_jobs=-1)]: Using backend LokyBackend with 24 concurrent workers.\n",
      "[Parallel(n_jobs=-1)]: Done   2 tasks      | elapsed:    0.6s\n",
      "[Parallel(n_jobs=-1)]: Done 152 tasks      | elapsed:    4.2s\n",
      "[Parallel(n_jobs=-1)]: Done 402 tasks      | elapsed:   10.2s\n",
      "[Parallel(n_jobs=-1)]: Done 752 tasks      | elapsed:   19.8s\n",
      "[Parallel(n_jobs=-1)]: Done 1202 tasks      | elapsed:   31.7s\n",
      "[Parallel(n_jobs=-1)]: Done 1752 tasks      | elapsed:   45.8s\n",
      "100%|██████████| 2361/2361 [01:00<00:00, 38.79it/s]\n",
      "[Parallel(n_jobs=-1)]: Done 2361 out of 2361 | elapsed:  1.0min finished\n"
     ]
    },
    {
     "name": "stdout",
     "output_type": "stream",
     "text": [
      "(42768, 4)\n"
     ]
    }
   ],
   "source": [
    "num_files = -1 # How many files we want to extract data from\n",
    "\n",
    "# Create shared lists to store results\n",
    "manager = Manager()\n",
    "game_data_list = manager.list()\n",
    "\n",
    "# Use joblib to parallelize processing of SLP files\n",
    "Parallel(n_jobs=-1, verbose=1)(delayed(process_slp_file)(slp_file, dataset_path, game_data_list) for slp_file in tqdm.tqdm(slp_files[:num_files]))\n",
    "\n",
    "# Make the data frame\n",
    "game_data_df = pd.DataFrame(list(game_data_list),columns = game_data_columns)\n",
    "print(game_data_df.shape) # Check the shape to make sure we actually did something"
   ]
  },
  {
   "cell_type": "markdown",
   "metadata": {},
   "source": [
    "<h2>Save the extracted input data</h2>\n",
    "Save the data as a pickle file. Pickle is not the best format, but it seems to be the only one that works with numpy arrays in the data frame."
   ]
  },
  {
   "cell_type": "code",
   "execution_count": 60,
   "metadata": {},
   "outputs": [
    {
     "data": {
      "text/html": [
       "<div>\n",
       "<style scoped>\n",
       "    .dataframe tbody tr th:only-of-type {\n",
       "        vertical-align: middle;\n",
       "    }\n",
       "\n",
       "    .dataframe tbody tr th {\n",
       "        vertical-align: top;\n",
       "    }\n",
       "\n",
       "    .dataframe thead th {\n",
       "        text-align: right;\n",
       "    }\n",
       "</style>\n",
       "<table border=\"1\" class=\"dataframe\">\n",
       "  <thead>\n",
       "    <tr style=\"text-align: right;\">\n",
       "      <th></th>\n",
       "      <th>spl_file</th>\n",
       "      <th>game_segment</th>\n",
       "      <th>is_sheik</th>\n",
       "      <th>input_data</th>\n",
       "    </tr>\n",
       "  </thead>\n",
       "  <tbody>\n",
       "    <tr>\n",
       "      <th>0</th>\n",
       "      <td>02_29_27.272Z Sheik + [C2] Fox (YS).slp</td>\n",
       "      <td>0</td>\n",
       "      <td>1</td>\n",
       "      <td>[[0.0, 0.0, 0.0, 0.0, 0.0, 0.0, 0.0, 0.0, 1.0,...</td>\n",
       "    </tr>\n",
       "    <tr>\n",
       "      <th>1</th>\n",
       "      <td>10_33_38 Sheik + Fox (DL).slp</td>\n",
       "      <td>0</td>\n",
       "      <td>1</td>\n",
       "      <td>[[0.0, 0.0, 0.0, 0.0, 0.0, 0.0, 0.0, 0.0, 0.0,...</td>\n",
       "    </tr>\n",
       "    <tr>\n",
       "      <th>2</th>\n",
       "      <td>01_21_07 Fox + Sheik (YI).slp</td>\n",
       "      <td>0</td>\n",
       "      <td>1</td>\n",
       "      <td>[[0.0, 0.0, 0.0, 0.0, 0.0, 0.0, 0.0, 0.0, 1.0,...</td>\n",
       "    </tr>\n",
       "    <tr>\n",
       "      <th>3</th>\n",
       "      <td>10_37_27 Sheik + Fox (FoD).slp</td>\n",
       "      <td>0</td>\n",
       "      <td>1</td>\n",
       "      <td>[[0.0, 0.0, 0.0, 0.0, 0.0, 0.0, 0.0, 0.0, 0.0,...</td>\n",
       "    </tr>\n",
       "    <tr>\n",
       "      <th>4</th>\n",
       "      <td>01_04_11.432Z [EASY] Fox + [LUST] Sheik (PS).slp</td>\n",
       "      <td>0</td>\n",
       "      <td>1</td>\n",
       "      <td>[[0.0, 0.0, 0.0, 0.0, 0.0, 0.0, 0.0, 0.0, 0.0,...</td>\n",
       "    </tr>\n",
       "    <tr>\n",
       "      <th>...</th>\n",
       "      <td>...</td>\n",
       "      <td>...</td>\n",
       "      <td>...</td>\n",
       "      <td>...</td>\n",
       "    </tr>\n",
       "    <tr>\n",
       "      <th>42763</th>\n",
       "      <td>Sheik vs Fox [YS] Game_20200304T220922.slp</td>\n",
       "      <td>10</td>\n",
       "      <td>0</td>\n",
       "      <td>[[0.0, 0.0, 0.0, 0.0, 0.0, 0.0, 0.0, 0.0, 0.0,...</td>\n",
       "    </tr>\n",
       "    <tr>\n",
       "      <th>42764</th>\n",
       "      <td>Sheik vs Fox [YS] Game_20200304T220922.slp</td>\n",
       "      <td>11</td>\n",
       "      <td>1</td>\n",
       "      <td>[[0.0, 0.0, 0.0, 0.0, 0.0, 0.0, 0.0, 0.0, 0.0,...</td>\n",
       "    </tr>\n",
       "    <tr>\n",
       "      <th>42765</th>\n",
       "      <td>Sheik vs Fox [YS] Game_20200304T220922.slp</td>\n",
       "      <td>11</td>\n",
       "      <td>0</td>\n",
       "      <td>[[0.0, 0.0, 0.0, 0.0, 0.0, 0.0, 0.0, 0.0, 0.0,...</td>\n",
       "    </tr>\n",
       "    <tr>\n",
       "      <th>42766</th>\n",
       "      <td>Sheik vs Fox [YS] Game_20200304T220922.slp</td>\n",
       "      <td>12</td>\n",
       "      <td>1</td>\n",
       "      <td>[[0.0, 0.0, 0.0, 0.0, 0.0, 0.0, 0.0, 0.0, 0.0,...</td>\n",
       "    </tr>\n",
       "    <tr>\n",
       "      <th>42767</th>\n",
       "      <td>Sheik vs Fox [YS] Game_20200304T220922.slp</td>\n",
       "      <td>12</td>\n",
       "      <td>0</td>\n",
       "      <td>[[0.0, 0.0, 0.0, 0.0, 0.0, 0.0, 0.0, 0.0, 0.0,...</td>\n",
       "    </tr>\n",
       "  </tbody>\n",
       "</table>\n",
       "<p>42768 rows × 4 columns</p>\n",
       "</div>"
      ],
      "text/plain": [
       "                                               spl_file  game_segment  \\\n",
       "0               02_29_27.272Z Sheik + [C2] Fox (YS).slp             0   \n",
       "1                         10_33_38 Sheik + Fox (DL).slp             0   \n",
       "2                         01_21_07 Fox + Sheik (YI).slp             0   \n",
       "3                        10_37_27 Sheik + Fox (FoD).slp             0   \n",
       "4      01_04_11.432Z [EASY] Fox + [LUST] Sheik (PS).slp             0   \n",
       "...                                                 ...           ...   \n",
       "42763        Sheik vs Fox [YS] Game_20200304T220922.slp            10   \n",
       "42764        Sheik vs Fox [YS] Game_20200304T220922.slp            11   \n",
       "42765        Sheik vs Fox [YS] Game_20200304T220922.slp            11   \n",
       "42766        Sheik vs Fox [YS] Game_20200304T220922.slp            12   \n",
       "42767        Sheik vs Fox [YS] Game_20200304T220922.slp            12   \n",
       "\n",
       "       is_sheik                                         input_data  \n",
       "0             1  [[0.0, 0.0, 0.0, 0.0, 0.0, 0.0, 0.0, 0.0, 1.0,...  \n",
       "1             1  [[0.0, 0.0, 0.0, 0.0, 0.0, 0.0, 0.0, 0.0, 0.0,...  \n",
       "2             1  [[0.0, 0.0, 0.0, 0.0, 0.0, 0.0, 0.0, 0.0, 1.0,...  \n",
       "3             1  [[0.0, 0.0, 0.0, 0.0, 0.0, 0.0, 0.0, 0.0, 0.0,...  \n",
       "4             1  [[0.0, 0.0, 0.0, 0.0, 0.0, 0.0, 0.0, 0.0, 0.0,...  \n",
       "...         ...                                                ...  \n",
       "42763         0  [[0.0, 0.0, 0.0, 0.0, 0.0, 0.0, 0.0, 0.0, 0.0,...  \n",
       "42764         1  [[0.0, 0.0, 0.0, 0.0, 0.0, 0.0, 0.0, 0.0, 0.0,...  \n",
       "42765         0  [[0.0, 0.0, 0.0, 0.0, 0.0, 0.0, 0.0, 0.0, 0.0,...  \n",
       "42766         1  [[0.0, 0.0, 0.0, 0.0, 0.0, 0.0, 0.0, 0.0, 0.0,...  \n",
       "42767         0  [[0.0, 0.0, 0.0, 0.0, 0.0, 0.0, 0.0, 0.0, 0.0,...  \n",
       "\n",
       "[42768 rows x 4 columns]"
      ]
     },
     "execution_count": 60,
     "metadata": {},
     "output_type": "execute_result"
    }
   ],
   "source": [
    "# # Specify the file path to save the pickle file\n",
    "pickle_file_path = '../data/Sheik_vs_Fox_1024_frames.pkl'\n",
    "\n",
    "# # Save the game data as a pickle file\n",
    "game_data_df.to_pickle(pickle_file_path)\n",
    "\n",
    "## Check to see if it is saved correctly\n",
    "df = pd.read_pickle(pickle_file_path)\n",
    "df"
   ]
  }
 ],
 "metadata": {
  "kernelspec": {
   "display_name": "slp",
   "language": "python",
   "name": "python3"
  },
  "language_info": {
   "codemirror_mode": {
    "name": "ipython",
    "version": 3
   },
   "file_extension": ".py",
   "mimetype": "text/x-python",
   "name": "python",
   "nbconvert_exporter": "python",
   "pygments_lexer": "ipython3",
   "version": "3.11.7"
  }
 },
 "nbformat": 4,
 "nbformat_minor": 2
}
