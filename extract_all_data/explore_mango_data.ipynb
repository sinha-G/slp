{
 "cells": [
  {
   "cell_type": "code",
   "execution_count": null,
   "metadata": {},
   "outputs": [],
   "source": []
  },
  {
   "cell_type": "code",
   "execution_count": null,
   "metadata": {},
   "outputs": [],
   "source": [
    "import os as os\n",
    "from pathlib import Path\n",
    "import numpy as np\n",
    "import pandas as pd\n",
    "# import polars as pl\n",
    "import tqdm\n",
    "# import slippi as slp=\n",
    "from joblib import Parallel, delayed\n",
    "from multiprocessing import Manager\n",
    "import pyarrow as pa\n",
    "# import pyarrow.parquet as pq\n",
    "import gzip\n",
    "import pickle\n",
    "# import feather\n",
    "import uuid\n",
    "import sys\n",
    "import time\n",
    "sys.path.append('../..')\n",
    "from slp.slp_package.slp_functions import one_hot_encode_flags\n",
    "import matplotlib.pyplot as plt"
   ]
  },
  {
   "cell_type": "code",
   "execution_count": null,
   "metadata": {},
   "outputs": [],
   "source": [
    "full_df = pd.read_parquet(\"C:\\\\Users\\\\jaspa\\\\Grant ML\\\\slp\\\\data\\\\mango_all_game_data_df.parquet\")\n",
    "print(full_df.columns)"
   ]
  },
  {
   "cell_type": "markdown",
   "metadata": {},
   "source": [
    "<h2> Restrict to Interesting Columns </h2>"
   ]
  },
  {
   "cell_type": "code",
   "execution_count": null,
   "metadata": {},
   "outputs": [],
   "source": [
    "df = full_df[['num_players','is_teams','player_1_character_name','player_2_character_name','player_1_type_name','player_2_type_name',\n",
    "              'player_1_netplay_code', 'player_1_netplay_name','player_2_netplay_code', 'player_2_netplay_name',\n",
    "              'stage_name', 'is_frozen_ps','conclusive','winning_player','player_1_win', 'player_2_win',\n",
    "              'date', 'duration',]]"
   ]
  },
  {
   "cell_type": "markdown",
   "metadata": {},
   "source": [
    "<h2> Count Unique Values </h2>\n",
    "Conclusions:\n",
    "\n",
    "- There are few games with more than two players\n",
    "\n",
    "- There are few team games\n",
    "\n",
    "- Battlefield is the most common stage, almost no games were played on the non-competitive maps.\n",
    "\n",
    "- No True values for is_frozen_ps\n",
    "\n",
    "- About one quarter of the games had no winner\n",
    "\n",
    "- There are some CPU games, but relatively few"
   ]
  },
  {
   "cell_type": "code",
   "execution_count": null,
   "metadata": {},
   "outputs": [],
   "source": [
    "cols = ['num_players','is_teams', 'stage_name', 'is_frozen_ps', 'conclusive','winning_player','player_1_type_name','player_2_type_name']\n",
    "for col in cols:\n",
    "    print(df[col].value_counts())\n",
    "    print()"
   ]
  },
  {
   "cell_type": "markdown",
   "metadata": {},
   "source": [
    "<h2> Filter Games </h2>\n",
    "Filter the games to the ones that are interesting and count some more interesting values."
   ]
  },
  {
   "cell_type": "code",
   "execution_count": null,
   "metadata": {},
   "outputs": [],
   "source": [
    "df_r = df.loc[df['num_players'] == 2]\n",
    "df_r = df_r.loc[df_r['is_teams'] == False]\n",
    "df_r = df_r.loc[df_r['conclusive'] == True]\n",
    "df_r = df_r.loc[df_r['player_1_type_name'] == 'HUMAN']\n",
    "df_r = df_r.loc[df_r['player_2_type_name'] == 'HUMAN']\n",
    "# Define the list of stage names to include\n",
    "stages_to_include = [\n",
    "    'BATTLEFIELD',\n",
    "    'YOSHIS_STORY',\n",
    "    'DREAM_LAND_N64',\n",
    "    'POKEMON_STADIUM',\n",
    "    'FINAL_DESTINATION',\n",
    "    'FOUNTAIN_OF_DREAMS'\n",
    "]\n",
    "\n",
    "# Filter the dataframe for the desired stages\n",
    "df_r = df_r[df_r['stage_name'].isin(stages_to_include)]\n",
    "\n",
    "# Filter for rows where at least one of the player's netplay code is 'MANG#0'\n",
    "df_r = df_r[(df_r['player_1_netplay_code'] == 'MANG#0') | (df_r['player_2_netplay_code'] == 'MANG#0')]\n",
    "\n",
    "# Display the number of games left\n",
    "print('Number of games: ', df_r.shape[0],'\\n')\n",
    "\n",
    "# Count the number of games on each stage\n",
    "print(df_r['stage_name'].value_counts(), '\\n')\n",
    "\n",
    "# Concatenate the two columns into one Series\n",
    "all_netplay_codes = pd.concat([df_r['player_1_netplay_code'], df_r['player_2_netplay_code']])\n",
    "\n",
    "# Count the occurrences of each netplay code\n",
    "code_counts = all_netplay_codes.value_counts()\n",
    "\n",
    "# Display the top 10 most common (not MANG#0) values\n",
    "top_10 = code_counts[1:]\n",
    "print('Most common opponents')\n",
    "print(top_10)\n"
   ]
  },
  {
   "cell_type": "markdown",
   "metadata": {},
   "source": [
    "<h2> Create Mango Focused Dataframe </h2>"
   ]
  },
  {
   "cell_type": "code",
   "execution_count": null,
   "metadata": {},
   "outputs": [],
   "source": [
    "# Filter to include only games where MANG#0 is playing\n",
    "df_mango = df_r[(df_r['player_1_netplay_code'] == 'MANG#0') | (df_r['player_2_netplay_code'] == 'MANG#0')]\n",
    "\n",
    "# Create the new dataframe\n",
    "df_mango_stats = df_mango.apply(\n",
    "    lambda row: pd.Series({\n",
    "        'mango_character_name': row['player_1_character_name'] if row['player_1_netplay_code'] == 'MANG#0' else row['player_2_character_name'],\n",
    "        'opponent_netplay_code': row['player_1_netplay_code'] if row['player_2_netplay_code'] == 'MANG#0' else row['player_2_netplay_code'],\n",
    "        'opponent_netplay_name': row['player_1_netplay_name'] if row['player_2_netplay_code'] == 'MANG#0' else row['player_2_netplay_name'],\n",
    "        'opponent_character_name': row['player_1_character_name'] if row['player_2_netplay_code'] == 'MANG#0' else row['player_2_character_name'],\n",
    "        'stage_name': row['stage_name'],\n",
    "        'mango_win': row['player_1_win'] if row['player_1_netplay_code'] == 'MANG#0' else row['player_2_win'],\n",
    "        'date': row['date'],\n",
    "        'duration': row['duration']\n",
    "    }), axis=1\n",
    ")\n",
    "# Normalize the opponent_netplay_code\n",
    "df_mango_stats['normalized_netplay_codes'] = df_mango_stats['opponent_netplay_code'].apply(lambda x: x.split('#')[0])\n",
    "df_mango_stats.head()"
   ]
  },
  {
   "cell_type": "code",
   "execution_count": null,
   "metadata": {},
   "outputs": [],
   "source": [
    "print('Mango played agaist', len(df_mango_stats['opponent_netplay_code'].unique()), 'unique netplay codes.')\n",
    "print('Mango played agaist', len(df_mango_stats['normalized_netplay_codes'].unique()), 'netplay code prefexes.\\n')\n",
    "print(df_mango_stats['opponent_netplay_code'].value_counts()[:20])\n"
   ]
  },
  {
   "cell_type": "code",
   "execution_count": null,
   "metadata": {},
   "outputs": [],
   "source": [
    "print(df_mango_stats['normalized_netplay_codes'].value_counts()[:20])\n"
   ]
  },
  {
   "cell_type": "markdown",
   "metadata": {},
   "source": [
    "LUCK, IBDW seem to have has more than one netplay code.\n",
    "\n",
    "To Do: Display main(s) of each opponent and how many games mango has played against their main as fox and falco."
   ]
  },
  {
   "cell_type": "code",
   "execution_count": null,
   "metadata": {},
   "outputs": [],
   "source": [
    "\n",
    "print('Mango\\'s 10 most commonly played characters:')\n",
    "print(df_mango_stats['mango_character_name'].value_counts()[:10])"
   ]
  },
  {
   "cell_type": "markdown",
   "metadata": {},
   "source": [
    "<h2> Some Interesting Charts </h2>\n",
    "Conclusions:\n",
    "\n",
    "- Mango prefers Falco over Fox except against Yoshi and Puff.\n",
    "\n",
    "- Mango vastly prefers Falco over Fox agaist Fox.\n",
    "\n",
    "- Mango plays Batlefield the most."
   ]
  },
  {
   "cell_type": "code",
   "execution_count": null,
   "metadata": {},
   "outputs": [],
   "source": [
    "falco_games = df_mango_stats[df_mango_stats['mango_character_name'] == 'FALCO']\n",
    "fox_games = df_mango_stats[df_mango_stats['mango_character_name'] == 'FOX']\n"
   ]
  },
  {
   "cell_type": "code",
   "execution_count": null,
   "metadata": {},
   "outputs": [],
   "source": [
    "\n",
    "\n",
    "# Count the number of games played against each character as Fox and Falco\n",
    "fox_character_counts = fox_games['opponent_character_name'].value_counts().reset_index()\n",
    "falco_character_counts = falco_games['opponent_character_name'].value_counts().reset_index()\n",
    "\n",
    "# Rename columns for clarity\n",
    "fox_character_counts.columns = ['character', 'fox_count']\n",
    "falco_character_counts.columns = ['character', 'falco_count']\n",
    "\n",
    "# Merge the two dataframes on the character column\n",
    "merged_counts = pd.merge(fox_character_counts, falco_character_counts, on='character', how='outer').fillna(0)\n",
    "\n",
    "# Sort by the total count for better visualization\n",
    "merged_counts['total_count'] = merged_counts['fox_count'] + merged_counts['falco_count']\n",
    "merged_counts = merged_counts.sort_values('total_count', ascending=False)\n",
    "\n",
    "plt.figure(figsize=(15, 8))\n",
    "index = range(len(merged_counts['character']))  # X-axis position for each character\n",
    "bar_width = 0.35\n",
    "\n",
    "# Plot bars for Fox and Falco\n",
    "fox_bars = plt.bar(index, merged_counts['fox_count'], bar_width, label='Fox')\n",
    "falco_bars = plt.bar([i + bar_width for i in index], merged_counts['falco_count'], bar_width, label='Falco')\n",
    "\n",
    "plt.xlabel('Character')\n",
    "plt.ylabel('Number of Games')\n",
    "plt.title('Number of Games Mango Played Against Each Character as Fox and Falco')\n",
    "plt.xticks([i + bar_width / 2 for i in index], merged_counts['character'], rotation=90)\n",
    "plt.legend()\n",
    "\n",
    "# Add text annotations above the bars\n",
    "for bar in fox_bars + falco_bars:\n",
    "    yval = bar.get_height()\n",
    "    plt.text(bar.get_x() + bar.get_width() / 2, yval, int(yval), ha='center', va='bottom')\n",
    "\n",
    "plt.tight_layout()\n",
    "plt.show()\n",
    "\n"
   ]
  },
  {
   "cell_type": "code",
   "execution_count": null,
   "metadata": {},
   "outputs": [],
   "source": [
    "characters = ['MARTH', 'FOX', 'FALCO', 'CAPTAIN_FALCON', 'SHEIK', 'JIGGLYPUFF']\n",
    "stages = ['BATTLEFIELD', 'YOSHIS_STORY', 'POKEMON_STADIUM', 'DREAM_LAND_N64', 'FOUNTAIN_OF_DREAMS', 'FINAL_DESTINATION']\n",
    "\n",
    "# Colors for Fox and Falco bars\n",
    "fox_color = 'blue'\n",
    "falco_color = 'red'\n",
    "\n",
    "# Loop through each character to create a histogram\n",
    "for character in characters:\n",
    "    plt.figure(figsize=(12, 6))\n",
    "    for stage in stages:\n",
    "        # Count games where Mango played as Fox against this character on this stage\n",
    "        fox_count = fox_games[(fox_games['opponent_character_name'] == character) & (fox_games['stage_name'] == stage)].shape[0]\n",
    "        # Count games where Mango played as Falco against this character on this stage\n",
    "        falco_count = falco_games[(falco_games['opponent_character_name'] == character) & (falco_games['stage_name'] == stage)].shape[0]\n",
    "        \n",
    "        # Bar positions for this stage\n",
    "        index = stages.index(stage)\n",
    "        fox_bar = plt.bar(index - 0.2, fox_count, 0.4, label='Fox' if stage == stages[0] else \"\", color=fox_color)\n",
    "        falco_bar = plt.bar(index + 0.2, falco_count, 0.4, label='Falco' if stage == stages[0] else \"\", color=falco_color)\n",
    "\n",
    "        # Annotate bars with the number of games\n",
    "        plt.text(index - 0.2, fox_count, str(fox_count), ha='center', va='bottom')\n",
    "        plt.text(index + 0.2, falco_count, str(falco_count), ha='center', va='bottom')\n",
    "    \n",
    "    plt.xlabel('Stage')\n",
    "    plt.ylabel('Number of Games')\n",
    "    plt.title(f'Number of Games Mango Played as Fox and Falco Against {character}')\n",
    "    plt.xticks(range(len(stages)), stages, rotation=45)\n",
    "\n",
    "    if character == characters[0]:\n",
    "        plt.legend()\n",
    "\n",
    "    plt.tight_layout()\n",
    "    plt.show()\n",
    "\n"
   ]
  },
  {
   "cell_type": "code",
   "execution_count": null,
   "metadata": {},
   "outputs": [],
   "source": [
    "\n",
    "# Filter games where Mango played as FALCO and opponent as FOX\n",
    "falco_vs_fox_games = falco_games[falco_games['opponent_character_name'] == 'FOX']\n",
    "\n",
    "# Find the top 5 opponent_netplay_code\n",
    "top_opponents = falco_vs_fox_games['opponent_netplay_code'].value_counts().head(10).index\n",
    "\n",
    "# Prepare the data for plotting\n",
    "stage_counts = pd.DataFrame(index=top_opponents, columns=stages)\n",
    "\n",
    "# Populate the DataFrame with the number of games for each opponent and stage\n",
    "for opponent in top_opponents:\n",
    "    for stage in stages:\n",
    "        count = falco_vs_fox_games[(falco_vs_fox_games['opponent_netplay_code'] == opponent) & (falco_vs_fox_games['stage_name'] == stage)].shape[0]\n",
    "        stage_counts.loc[opponent, stage] = count\n",
    "\n",
    "# Set consistent colors for each stage\n",
    "colors = plt.cm.viridis(np.linspace(0, 1, len(stages)))\n",
    "\n",
    "# Plotting\n",
    "stage_counts.plot(kind='bar', figsize=(15, 8), width=0.8)\n",
    "plt.xlabel('Opponent Netplay Code')\n",
    "plt.ylabel('Number of Games')\n",
    "plt.title('Number of Games Against Top 10 FOX Players on Each Stage (Mango as FALCO)')\n",
    "plt.legend(title='Stage Name')\n",
    "\n",
    "# Set consistent colors for each stage\n",
    "colors = plt.cm.viridis(np.linspace(0, 1, len(stages)))  # Generates a colormap\n",
    "for i, stage in enumerate(stages):\n",
    "    plt.gca().get_legend()\n",
    "\n",
    "plt.show()\n"
   ]
  },
  {
   "cell_type": "code",
   "execution_count": null,
   "metadata": {},
   "outputs": [],
   "source": [
    "# Filter games where Mango played as FALCO and opponent as FOX\n",
    "falco_vs_fox_games = falco_games[falco_games['opponent_character_name'] == 'FOX']\n",
    "\n",
    "# Normalize the opponent_netplay_code\n",
    "falco_vs_fox_games['normalized_opponent'] = falco_vs_fox_games['opponent_netplay_code'].apply(lambda x: x.split('#')[0])\n",
    "\n",
    "# Find the top 5 normalized opponent_netplay_code\n",
    "top_opponents = falco_vs_fox_games['normalized_opponent'].value_counts().head(10).index\n",
    "\n",
    "# Prepare the data for plotting\n",
    "stage_counts = pd.DataFrame(index=top_opponents, columns=stages)\n",
    "\n",
    "# Populate the DataFrame with the number of games for each normalized opponent and stage\n",
    "for opponent in top_opponents:\n",
    "    for stage in stages:\n",
    "        count = falco_vs_fox_games[\n",
    "            (falco_vs_fox_games['normalized_opponent'] == opponent) & \n",
    "            (falco_vs_fox_games['stage_name'] == stage)\n",
    "        ].shape[0]\n",
    "        stage_counts.loc[opponent, stage] = count\n",
    "\n",
    "# Plotting\n",
    "stage_counts.plot(kind='bar', figsize=(15, 8), width=0.8, color=plt.cm.viridis(np.linspace(0, 1, len(stages))))\n",
    "plt.xlabel('Opponent Netplay Code')\n",
    "plt.ylabel('Number of Games')\n",
    "plt.title('Number of Games Against Top 10 FOX Players on Each Stage (Mango as FALCO)')\n",
    "plt.legend(title='Stage Name', labels=stages)\n",
    "\n",
    "plt.show()\n"
   ]
  },
  {
   "cell_type": "code",
   "execution_count": null,
   "metadata": {},
   "outputs": [],
   "source": [
    "# Filter games where Mango played as FALCO and opponent as FOX\n",
    "falco_vs_fox_games = falco_games[falco_games['opponent_character_name'] == 'MARTH']\n",
    "\n",
    "# Normalize the opponent_netplay_code\n",
    "falco_vs_fox_games['normalized_opponent'] = falco_vs_fox_games['opponent_netplay_code'].apply(lambda x: x.split('#')[0])\n",
    "\n",
    "# Find the top 5 normalized opponent_netplay_code\n",
    "top_opponents = falco_vs_fox_games['normalized_opponent'].value_counts().head(10).index\n",
    "\n",
    "# Prepare the data for plotting\n",
    "stage_counts = pd.DataFrame(index=top_opponents, columns=stages)\n",
    "\n",
    "# Populate the DataFrame with the number of games for each normalized opponent and stage\n",
    "for opponent in top_opponents:\n",
    "    for stage in stages:\n",
    "        count = falco_vs_fox_games[\n",
    "            (falco_vs_fox_games['normalized_opponent'] == opponent) & \n",
    "            (falco_vs_fox_games['stage_name'] == stage)\n",
    "        ].shape[0]\n",
    "        stage_counts.loc[opponent, stage] = count\n",
    "\n",
    "# Plotting\n",
    "stage_counts.plot(kind='bar', figsize=(15, 8), width=0.8, color=plt.cm.viridis(np.linspace(0, 1, len(stages))))\n",
    "plt.xlabel('Opponent Netplay Code')\n",
    "plt.ylabel('Number of Games')\n",
    "plt.title('Number of Games Against Top 10 MARTH Players on Each Stage (Mango as FALCO)')\n",
    "plt.legend(title='Stage Name', labels=stages)\n",
    "\n",
    "plt.show()"
   ]
  },
  {
   "cell_type": "code",
   "execution_count": null,
   "metadata": {},
   "outputs": [],
   "source": [
    "# Filter games where Mango played as FALCO and opponent as FOX\n",
    "falco_vs_fox_games = fox_games[fox_games['opponent_character_name'] == 'MARTH']\n",
    "\n",
    "# Normalize the opponent_netplay_code\n",
    "falco_vs_fox_games['normalized_opponent'] = falco_vs_fox_games['opponent_netplay_code'].apply(lambda x: x.split('#')[0])\n",
    "\n",
    "# Find the top 5 normalized opponent_netplay_code\n",
    "top_opponents = falco_vs_fox_games['normalized_opponent'].value_counts().head(10).index\n",
    "\n",
    "# Prepare the data for plotting\n",
    "stage_counts = pd.DataFrame(index=top_opponents, columns=stages)\n",
    "\n",
    "# Populate the DataFrame with the number of games for each normalized opponent and stage\n",
    "for opponent in top_opponents:\n",
    "    for stage in stages:\n",
    "        count = falco_vs_fox_games[\n",
    "            (falco_vs_fox_games['normalized_opponent'] == opponent) & \n",
    "            (falco_vs_fox_games['stage_name'] == stage)\n",
    "        ].shape[0]\n",
    "        stage_counts.loc[opponent, stage] = count\n",
    "\n",
    "# Plotting\n",
    "stage_counts.plot(kind='bar', figsize=(15, 8), width=0.8, color=plt.cm.viridis(np.linspace(0, 1, len(stages))))\n",
    "plt.xlabel('Opponent Netplay Code')\n",
    "plt.ylabel('Number of Games')\n",
    "plt.title('Number of Games Against Top 10 MARTH Players on Each Stage (Mango as FOX)')\n",
    "plt.legend(title='Stage Name', labels=stages)\n",
    "\n",
    "plt.show()"
   ]
  },
  {
   "cell_type": "markdown",
   "metadata": {},
   "source": [
    "<h2> Explore Mango's Winrate </h2>"
   ]
  },
  {
   "cell_type": "code",
   "execution_count": null,
   "metadata": {},
   "outputs": [],
   "source": [
    "from prettytable import PrettyTable\n",
    "\n",
    "# Create the table\n",
    "table1 = PrettyTable()\n",
    "table1.field_names = [\"Opponent Character\", \"Games Played\", \"Win Rate as Fox\", \"Win Rate as Falco\"]\n",
    "\n",
    "# Populate the table\n",
    "for character in total_games.index:\n",
    "    games_played = total_games[character]\n",
    "    win_rate_fox = sorted_win_rates.loc['FOX', character]\n",
    "    win_rate_falco = sorted_win_rates.loc['FALCO', character]\n",
    "    table1.add_row([character, games_played, f\"{win_rate_fox:.2f}\", f\"{win_rate_falco:.2f}\"])\n",
    "\n",
    "print(\"Mango's Win Rate Against Each Character\")\n",
    "print(table1)\n",
    "\n",
    "print('mango plays better against Fox as Fox but he prefers Falco')"
   ]
  },
  {
   "cell_type": "code",
   "execution_count": null,
   "metadata": {},
   "outputs": [],
   "source": [
    "table2 = PrettyTable()\n",
    "table2.field_names = [\"Stage Name\", \"Win Rate as Fox\", \"Win Rate as Falco\"]\n",
    "\n",
    "for stage in stages:\n",
    "    win_rate_fox = df_mango_stats[(df_mango_stats['mango_character_name'] == 'FOX') & (df_mango_stats['stage_name'] == stage)]['mango_win'].mean()\n",
    "    win_rate_falco = df_mango_stats[(df_mango_stats['mango_character_name'] == 'FALCO') & (df_mango_stats['stage_name'] == stage)]['mango_win'].mean()\n",
    "    table2.add_row([stage, f\"{win_rate_fox:.2f}\", f\"{win_rate_falco:.2f}\"])\n",
    "\n",
    "print(\"\\nMango's Win Rate on Each Stage\")\n",
    "print(table2)\n"
   ]
  },
  {
   "cell_type": "markdown",
   "metadata": {},
   "source": [
    "-mango's winrate over time"
   ]
  },
  {
   "cell_type": "markdown",
   "metadata": {},
   "source": [
    "- Mango's winrate over time.\n"
   ]
  }
 ],
 "metadata": {
  "kernelspec": {
   "display_name": "local_slp",
   "language": "python",
   "name": "python3"
  },
  "language_info": {
   "codemirror_mode": {
    "name": "ipython",
    "version": 3
   },
   "file_extension": ".py",
   "mimetype": "text/x-python",
   "name": "python",
   "nbconvert_exporter": "python",
   "pygments_lexer": "ipython3",
   "version": "3.12.0"
  }
 },
 "nbformat": 4,
 "nbformat_minor": 2
}
