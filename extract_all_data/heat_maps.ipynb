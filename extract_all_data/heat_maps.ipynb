{
 "cells": [
  {
   "cell_type": "code",
   "execution_count": 77,
   "metadata": {},
   "outputs": [],
   "source": [
    "import os as os\n",
    "from pathlib import Path\n",
    "import numpy as np\n",
    "import pandas as pd\n",
    "# import polars as pl\n",
    "import tqdm\n",
    "# import slippi as slp=\n",
    "from joblib import Parallel, delayed\n",
    "from multiprocessing import Manager\n",
    "import pyarrow as pa\n",
    "# import pyarrow.parquet as pq\n",
    "import gzip\n",
    "import pickle\n",
    "# import feather\n",
    "import uuid\n",
    "import sys\n",
    "import time\n",
    "sys.path.append('../..')\n",
    "from slp.slp_package.slp_functions import one_hot_encode_flags\n",
    "import matplotlib.pyplot as plt\n",
    "\n"
   ]
  },
  {
   "cell_type": "code",
   "execution_count": 78,
   "metadata": {},
   "outputs": [],
   "source": [
    "# # Process Mango's dataframe and save it.\n",
    "# df = pd.read_parquet(\"C:\\\\Users\\\\jaspa\\\\Grant ML\\\\slp\\\\data\\\\mango_all_game_data_df.parquet\")\n",
    "# # print(full_df.columns)\n",
    "\n",
    "# df_r = df.loc[df['num_players'] == 2]\n",
    "# df_r = df_r.loc[df_r['is_teams'] == False]\n",
    "# df_r = df_r.loc[df_r['conclusive'] == True]\n",
    "# df_r = df_r.loc[df_r['player_1_type_name'] == 'HUMAN']\n",
    "# df_r = df_r.loc[df_r['player_2_type_name'] == 'HUMAN']\n",
    "# # Define the list of stage names to include\n",
    "# stages_to_include = [\n",
    "#     'BATTLEFIELD',\n",
    "#     'YOSHIS_STORY',\n",
    "#     'DREAM_LAND_N64',\n",
    "#     'POKEMON_STADIUM',\n",
    "#     'FINAL_DESTINATION',\n",
    "#     'FOUNTAIN_OF_DREAMS'\n",
    "# ]\n",
    "\n",
    "# # Filter the dataframe for the desired stages\n",
    "# df_r = df_r[df_r['stage_name'].isin(stages_to_include)]\n",
    "\n",
    "# # Filter to include only games where MANG#0 is playing\n",
    "# df_mango = df_r[(df_r['player_1_netplay_code'] == 'MANG#0') | (df_r['player_2_netplay_code'] == 'MANG#0')]\n",
    "\n",
    "# # Create the new dataframe\n",
    "# df_mango_stats = df_mango.apply(\n",
    "#     lambda row: pd.Series({\n",
    "#         'mango_character_name': row['player_1_character_name'] if row['player_1_netplay_code'] == 'MANG#0' else row['player_2_character_name'],\n",
    "#         'opponent_netplay_code': row['player_1_netplay_code'] if row['player_2_netplay_code'] == 'MANG#0' else row['player_2_netplay_code'],\n",
    "#         'opponent_netplay_name': row['player_1_netplay_name'] if row['player_2_netplay_code'] == 'MANG#0' else row['player_2_netplay_name'],\n",
    "#         'opponent_character_name': row['player_1_character_name'] if row['player_2_netplay_code'] == 'MANG#0' else row['player_2_character_name'],\n",
    "#         'stage_name': row['stage_name'],\n",
    "#         'mango_win': row['player_1_win'] if row['player_1_netplay_code'] == 'MANG#0' else row['player_2_win'],\n",
    "#         'date': row['date'],\n",
    "#         'duration': row['duration'],\n",
    "#         'mango_all_data_df_path': row['player_1_all_data_df_save_path'] if row['player_1_netplay_code'] == 'MANG#0' else row['player_2_all_data_df_save_path'],\n",
    "#         'mango_inputs_df': row['player_1_inputs_df_save_path'] if row['player_1_netplay_code'] == 'MANG#0' else row['player_2_inputs_df_save_path'],\n",
    "#         'mango_inputs_np': row['player_1_inputs_np_save_path'] if row['player_1_netplay_code'] == 'MANG#0' else row['player_2_inputs_np_save_path'],\n",
    "#         'opponent_all_data_df_path': row['player_1_all_data_df_save_path'] if row['player_2_netplay_code'] == 'MANG#0' else row['player_2_all_data_df_save_path'],\n",
    "#         'opponent_inputs_df': row['player_1_inputs_df_save_path'] if row['player_2_netplay_code'] == 'MANG#0' else row['player_2_inputs_df_save_path'],\n",
    "#         'opponent_inputs_np': row['player_1_inputs_np_save_path'] if row['player_2_netplay_code'] == 'MANG#0' else row['player_2_inputs_np_save_path'],\n",
    "#         'source_path_suffix': row['source_path_suffix']\n",
    "#     }), axis=1\n",
    "# )\n",
    "# # Normalize the opponent_netplay_code\n",
    "# df_mango_stats['normalized_netplay_codes'] = df_mango_stats['opponent_netplay_code'].apply(lambda x: x.split('#')[0])\n",
    "# df_mango_stats.head()\n",
    "# df_mango_stats.to_parquet(\"C:\\\\Users\\\\jaspa\\\\Grant ML\\\\slp\\\\data\\\\processed_mango_df.parquet\", engine = 'pyarrow', compression='gzip')"
   ]
  },
  {
   "cell_type": "markdown",
   "metadata": {},
   "source": [
    "<h2> Import Mango's Processed Data </h2>\n",
    "We import the dataframe we processed above. We have filtered so that only two player games played on competitive stages where the winner was determined remain. We have changed the dataframe so that we have mango and the opponent rather than player 1 and player 2.\n",
    "\n",
    "In this part we also load dataframes and print column values and column names so that we know what is in them when we work with them later in the file."
   ]
  },
  {
   "cell_type": "code",
   "execution_count": 79,
   "metadata": {},
   "outputs": [
    {
     "name": "stdout",
     "output_type": "stream",
     "text": [
      "Index(['mango_character_name', 'opponent_netplay_code',\n",
      "       'opponent_netplay_name', 'opponent_character_name', 'stage_name',\n",
      "       'mango_win', 'date', 'duration', 'mango_all_data_df_path',\n",
      "       'mango_inputs_df', 'mango_inputs_np', 'opponent_all_data_df_path',\n",
      "       'opponent_inputs_df', 'opponent_inputs_np', 'source_path_suffix',\n",
      "       'normalized_netplay_codes'],\n",
      "      dtype='object')\n"
     ]
    }
   ],
   "source": [
    "all_games_df = pd.read_parquet(\"C:\\\\Users\\\\jaspa\\\\Grant ML\\\\slp\\\\data\\\\processed_mango_df.parquet\", engine = 'pyarrow')\n",
    "falco_df = all_games_df[all_games_df['mango_character_name'] == 'FALCO']\n",
    "fox_df = all_games_df[all_games_df['mango_character_name'] == 'FOX']\n",
    "print(all_games_df.columns)\n"
   ]
  },
  {
   "cell_type": "code",
   "execution_count": 80,
   "metadata": {},
   "outputs": [
    {
     "name": "stdout",
     "output_type": "stream",
     "text": [
      "stage_name\n",
      "BATTLEFIELD           6482\n",
      "YOSHIS_STORY          4882\n",
      "POKEMON_STADIUM       4720\n",
      "DREAM_LAND_N64        4624\n",
      "FOUNTAIN_OF_DREAMS    4201\n",
      "FINAL_DESTINATION     4092\n",
      "Name: count, dtype: int64\n"
     ]
    }
   ],
   "source": [
    "print(all_games_df['stage_name'].value_counts())"
   ]
  },
  {
   "cell_type": "code",
   "execution_count": 81,
   "metadata": {},
   "outputs": [
    {
     "name": "stdout",
     "output_type": "stream",
     "text": [
      "Index(['frame_index', 'pre_state', 'pre_position_x', 'pre_position_y',\n",
      "       'pre_direction', 'pre_joystick_x', 'pre_joystick_y', 'pre_cstick_x',\n",
      "       'pre_cstick_y', 'pre_triggers_logical', 'pre_triggers_physical_l',\n",
      "       'pre_triggers_physical_r', 'pre_buttons_logical',\n",
      "       'pre_buttons_physical', 'pre_random_seed', 'pre_raw_analog_x',\n",
      "       'pre_damage', 'post_character', 'post_state', 'post_position_x',\n",
      "       'post_position_y', 'post_direction', 'post_damage', 'post_sheild',\n",
      "       'post_stocks', 'post_last_attack_landed', 'post_last_hit_by',\n",
      "       'post_combo_count', 'post_state_age', 'post_flags', 'post_hit_stun',\n",
      "       'post_airbourn', 'post_ground', 'post_jumps', 'post_l_cancel'],\n",
      "      dtype='object')\n"
     ]
    },
    {
     "name": "stderr",
     "output_type": "stream",
     "text": [
      "C:\\Users\\jaspa\\AppData\\Local\\Temp\\ipykernel_32952\\2875622874.py:1: UserWarning: Boolean Series key will be reindexed to match DataFrame index.\n",
      "  file_path = falco_df[all_games_df['stage_name'] == 'BATTLEFIELD'].iloc[0]['mango_all_data_df_path']\n"
     ]
    }
   ],
   "source": [
    "file_path = falco_df[all_games_df['stage_name'] == 'BATTLEFIELD'].iloc[0]['mango_all_data_df_path']\n",
    "all_frame_data_df = pd.read_parquet(file_path, engine = 'pyarrow')\n",
    "print(all_frame_data_df.columns)"
   ]
  },
  {
   "cell_type": "markdown",
   "metadata": {},
   "source": [
    "<h2> Find Boundry of Stages </h2>\n",
    "We import several games played on each stage and find the max and min of both the x and y coordinates of the position of the player as well as some other information about the size of the stages.\n",
    "\n",
    "Results: The dimension of the stages and their aspect ratios are all different."
   ]
  },
  {
   "cell_type": "code",
   "execution_count": 82,
   "metadata": {},
   "outputs": [],
   "source": [
    "def player_position_limits(file_path, x_min_list, x_max_list, y_min_list, y_max_list):\n",
    "    all_frame_data_df = pd.read_parquet(file_path)#, engine = 'pyarrow')\n",
    "    x_min_list.append(all_frame_data_df['pre_position_x'].min())\n",
    "    x_max_list.append(all_frame_data_df['pre_position_x'].max())\n",
    "    y_min_list.append(all_frame_data_df['pre_position_y'].min())\n",
    "    y_max_list.append(all_frame_data_df['pre_position_y'].max())\n",
    "    return\n",
    "\n",
    "def stage_limits(stage, df, sample_size):\n",
    "    # Make a list of paths to the frame data dataframes of games played on the stage of interest\n",
    "    stage_df = df[df['stage_name'] == stage]\n",
    "    file_paths_list = stage_df['mango_all_data_df_path'].to_list()\n",
    "    file_paths_list.append(stage_df['mango_all_data_df_path'].to_list())\n",
    "    \n",
    "    # Create shared lists\n",
    "    manager = Manager()\n",
    "    x_min_list = manager.list()\n",
    "    x_max_list = manager.list()\n",
    "    y_min_list = manager.list()\n",
    "    y_max_list = manager.list()\n",
    "    \n",
    "    # Process the files in parallel using joblib\n",
    "    Parallel(n_jobs=20, verbose=0)(delayed(player_position_limits)(file_path, x_min_list, x_max_list, y_min_list, y_max_list) for file_path in tqdm.tqdm(file_paths_list[:sample_size]))\n",
    "    \n",
    "    # Find the max and min of the list we created\n",
    "    x_min = min(x_min_list)\n",
    "    x_max = max(x_max_list)\n",
    "    y_min = min(y_min_list)\n",
    "    y_max = max(y_max_list)\n",
    "    \n",
    "    return x_min, x_max, y_min, y_max\n"
   ]
  },
  {
   "cell_type": "code",
   "execution_count": 84,
   "metadata": {},
   "outputs": [
    {
     "name": "stderr",
     "output_type": "stream",
     "text": [
      "100%|██████████| 4092/4092 [00:02<00:00, 1829.77it/s]\n",
      "100%|██████████| 4720/4720 [00:02<00:00, 1824.85it/s]\n",
      "100%|██████████| 4201/4201 [00:02<00:00, 1724.30it/s]\n",
      "100%|██████████| 6482/6482 [00:03<00:00, 1749.70it/s]\n",
      "100%|██████████| 4882/4882 [00:02<00:00, 1791.09it/s]\n",
      "100%|██████████| 4624/4624 [00:02<00:00, 1733.97it/s]\n"
     ]
    },
    {
     "data": {
      "text/html": [
       "<div>\n",
       "<style scoped>\n",
       "    .dataframe tbody tr th:only-of-type {\n",
       "        vertical-align: middle;\n",
       "    }\n",
       "\n",
       "    .dataframe tbody tr th {\n",
       "        vertical-align: top;\n",
       "    }\n",
       "\n",
       "    .dataframe thead th {\n",
       "        text-align: right;\n",
       "    }\n",
       "</style>\n",
       "<table border=\"1\" class=\"dataframe\">\n",
       "  <thead>\n",
       "    <tr style=\"text-align: right;\">\n",
       "      <th></th>\n",
       "      <th>stage_name</th>\n",
       "      <th>x_min</th>\n",
       "      <th>x_max</th>\n",
       "      <th>y_min</th>\n",
       "      <th>y_max</th>\n",
       "      <th>x_length</th>\n",
       "      <th>y_length</th>\n",
       "      <th>aspect_ratio</th>\n",
       "      <th>area</th>\n",
       "    </tr>\n",
       "  </thead>\n",
       "  <tbody>\n",
       "    <tr>\n",
       "      <th>0</th>\n",
       "      <td>FINAL_DESTINATION</td>\n",
       "      <td>-262.615997</td>\n",
       "      <td>262.358795</td>\n",
       "      <td>-147.122879</td>\n",
       "      <td>249.358032</td>\n",
       "      <td>524.974792</td>\n",
       "      <td>396.480911</td>\n",
       "      <td>1.324086</td>\n",
       "      <td>208142.484108</td>\n",
       "    </tr>\n",
       "    <tr>\n",
       "      <th>1</th>\n",
       "      <td>POKEMON_STADIUM</td>\n",
       "      <td>-237.213669</td>\n",
       "      <td>246.358109</td>\n",
       "      <td>-118.742371</td>\n",
       "      <td>229.559525</td>\n",
       "      <td>483.571777</td>\n",
       "      <td>348.301895</td>\n",
       "      <td>1.388370</td>\n",
       "      <td>168428.966486</td>\n",
       "    </tr>\n",
       "    <tr>\n",
       "      <th>2</th>\n",
       "      <td>FOUNTAIN_OF_DREAMS</td>\n",
       "      <td>-215.184662</td>\n",
       "      <td>215.615021</td>\n",
       "      <td>-155.084824</td>\n",
       "      <td>247.430847</td>\n",
       "      <td>430.799683</td>\n",
       "      <td>402.515671</td>\n",
       "      <td>1.070268</td>\n",
       "      <td>173403.623219</td>\n",
       "    </tr>\n",
       "    <tr>\n",
       "      <th>3</th>\n",
       "      <td>BATTLEFIELD</td>\n",
       "      <td>-239.080933</td>\n",
       "      <td>242.023544</td>\n",
       "      <td>-116.503189</td>\n",
       "      <td>303.758179</td>\n",
       "      <td>481.104477</td>\n",
       "      <td>420.261368</td>\n",
       "      <td>1.144774</td>\n",
       "      <td>202189.625528</td>\n",
       "    </tr>\n",
       "    <tr>\n",
       "      <th>4</th>\n",
       "      <td>YOSHIS_STORY</td>\n",
       "      <td>-180.917068</td>\n",
       "      <td>181.560318</td>\n",
       "      <td>-98.480011</td>\n",
       "      <td>235.927185</td>\n",
       "      <td>362.477386</td>\n",
       "      <td>334.407196</td>\n",
       "      <td>1.083940</td>\n",
       "      <td>121215.046441</td>\n",
       "    </tr>\n",
       "    <tr>\n",
       "      <th>5</th>\n",
       "      <td>DREAM_LAND_N64</td>\n",
       "      <td>-268.762604</td>\n",
       "      <td>270.661133</td>\n",
       "      <td>-130.667969</td>\n",
       "      <td>326.973755</td>\n",
       "      <td>539.423737</td>\n",
       "      <td>457.641724</td>\n",
       "      <td>1.178703</td>\n",
       "      <td>246862.808573</td>\n",
       "    </tr>\n",
       "  </tbody>\n",
       "</table>\n",
       "</div>"
      ],
      "text/plain": [
       "           stage_name       x_min       x_max       y_min       y_max  \\\n",
       "0   FINAL_DESTINATION -262.615997  262.358795 -147.122879  249.358032   \n",
       "1     POKEMON_STADIUM -237.213669  246.358109 -118.742371  229.559525   \n",
       "2  FOUNTAIN_OF_DREAMS -215.184662  215.615021 -155.084824  247.430847   \n",
       "3         BATTLEFIELD -239.080933  242.023544 -116.503189  303.758179   \n",
       "4        YOSHIS_STORY -180.917068  181.560318  -98.480011  235.927185   \n",
       "5      DREAM_LAND_N64 -268.762604  270.661133 -130.667969  326.973755   \n",
       "\n",
       "     x_length    y_length  aspect_ratio           area  \n",
       "0  524.974792  396.480911      1.324086  208142.484108  \n",
       "1  483.571777  348.301895      1.388370  168428.966486  \n",
       "2  430.799683  402.515671      1.070268  173403.623219  \n",
       "3  481.104477  420.261368      1.144774  202189.625528  \n",
       "4  362.477386  334.407196      1.083940  121215.046441  \n",
       "5  539.423737  457.641724      1.178703  246862.808573  "
      ]
     },
     "execution_count": 84,
     "metadata": {},
     "output_type": "execute_result"
    }
   ],
   "source": [
    "# Find the boundries of the competitive stages\n",
    "sample_size = -1\n",
    "data = []\n",
    "for stage in all_games_df['stage_name'].unique():\n",
    "    x_min, x_max, y_min, y_max = stage_limits(stage, all_games_df, sample_size)\n",
    "    data.append([stage, x_min, x_max, y_min, y_max])\n",
    "    \n",
    "# Make a dataframe with the information we are interested in\n",
    "stage_boundries_df = pd.DataFrame(data, columns = ['stage_name', 'x_min', 'x_max', 'y_min', 'y_max'])\n",
    "stage_boundries_df['x_length'] = stage_boundries_df['x_max']-stage_boundries_df['x_min']\n",
    "stage_boundries_df['y_length'] = stage_boundries_df['y_max']-stage_boundries_df['y_min']\n",
    "stage_boundries_df['aspect_ratio'] = stage_boundries_df['x_length'] / stage_boundries_df['y_length']\n",
    "stage_boundries_df['area'] = stage_boundries_df['x_length'] * stage_boundries_df['y_length']\n",
    "\n",
    "# Print the dataframe\n",
    "stage_boundries_df\n",
    "\n",
    "    "
   ]
  },
  {
   "cell_type": "code",
   "execution_count": null,
   "metadata": {},
   "outputs": [],
   "source": []
  }
 ],
 "metadata": {
  "kernelspec": {
   "display_name": "pytorch",
   "language": "python",
   "name": "python3"
  },
  "language_info": {
   "codemirror_mode": {
    "name": "ipython",
    "version": 3
   },
   "file_extension": ".py",
   "mimetype": "text/x-python",
   "name": "python",
   "nbconvert_exporter": "python",
   "pygments_lexer": "ipython3",
   "version": "3.12.0"
  }
 },
 "nbformat": 4,
 "nbformat_minor": 2
}
