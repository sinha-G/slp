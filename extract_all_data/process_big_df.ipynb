{
 "cells": [
  {
   "cell_type": "code",
   "execution_count": null,
   "metadata": {},
   "outputs": [],
   "source": [
    "import os as os\n",
    "from pathlib import Path\n",
    "import numpy as np\n",
    "import pandas as pd\n",
    "# import polars as pl\n",
    "import tqdm\n",
    "import slippi as slp\n",
    "from joblib import Parallel, delayed\n",
    "from multiprocessing import Manager\n",
    "import pyarrow as pa\n",
    "# import pyarrow.parquet as pq\n",
    "import gzip\n",
    "import pickle\n",
    "import feather\n",
    "import uuid\n",
    "import sys\n",
    "import time\n",
    "sys.path.append('../..')\n",
    "from slp.slp_package.slp_functions import one_hot_encode_flags"
   ]
  },
  {
   "cell_type": "code",
   "execution_count": null,
   "metadata": {},
   "outputs": [],
   "source": [
    "df = pd.read_feather(\"C:\\\\Users\\\\jaspa\\\\Grant ML\\\\slp\\\\data\\\\all_game_data_df.feather\")"
   ]
  },
  {
   "cell_type": "code",
   "execution_count": null,
   "metadata": {},
   "outputs": [],
   "source": [
    "df.head()\n",
    "df.columns"
   ]
  },
  {
   "cell_type": "code",
   "execution_count": null,
   "metadata": {},
   "outputs": [],
   "source": [
    "path_list = df['player_1_frame_data_path'].to_list() + df['player_2_frame_data_path'].to_list()\n",
    "print(path_list)"
   ]
  },
  {
   "cell_type": "code",
   "execution_count": null,
   "metadata": {},
   "outputs": [],
   "source": [
    "# frame_data_df = pd.read_feather(path_list[0])"
   ]
  },
  {
   "cell_type": "code",
   "execution_count": null,
   "metadata": {},
   "outputs": [],
   "source": [
    "# frame_data_df.columns\n",
    "# frame_data_df['pre_buttons_physical'][2]"
   ]
  },
  {
   "cell_type": "code",
   "execution_count": null,
   "metadata": {},
   "outputs": [],
   "source": [
    "def create_directories(path):\n",
    "    if not os.path.exists(path):\n",
    "        os.makedirs(path)"
   ]
  },
  {
   "cell_type": "code",
   "execution_count": null,
   "metadata": {},
   "outputs": [],
   "source": [
    "# def process_file(path,time_1,time_2,time_3):\n",
    "#     save_path = \"C:\\\\Users\\\\jaspa\\\\Grant ML\\\\feather df frame date test\"\n",
    "    \n",
    "#     time_1_start = time.time()\n",
    "#     frame_data_df = pd.read_feather(path)\n",
    "#     time_1.append(time.time()-time_1_start)\n",
    "    \n",
    "#     time_2_start = time.time()\n",
    "#     inputs = np.empty((4,frame_data_df.shape[0]),dtype = float)\n",
    "#     for i in range(frame_data_df.shape[0]):\n",
    "#         inputs[0, i] = frame_data_df['pre_joystick_x'][i]\n",
    "#         inputs[1, i] = frame_data_df['pre_joystick_y'][i]\n",
    "#         inputs[2, i] = frame_data_df['pre_cstick_x'][i]\n",
    "#         inputs[3, i] = frame_data_df['pre_cstick_y'][i] \n",
    "#         # inputs[4:,i] = one_hot_encode_flags(slp.event.Buttons.Physical,frame_data_df['pre_buttons_physical'][i])\n",
    "#     time_2.append(time.time()-time_2_start)\n",
    "    \n",
    "#     time_3_start = time.time()\n",
    "#     full_path = os.path.join(save_path, str(uuid.uuid4()) + '.npy.gz')\n",
    "#     with gzip.open(full_path, 'wb') as f:\n",
    "#         np.save(f, inputs)\n",
    "#     time_3.append(time.time() - time_3_start)\n",
    "#     return inputs         \n",
    "\n",
    "\n",
    "def process_file(path,time_1,time_2,time_3):\n",
    "    save_path = \"C:\\\\Users\\\\jaspa\\\\Grant ML\\\\feather df frame date test\"\n",
    "    time_1_start = time.time()\n",
    "    frame_data_df = pd.read_parquet(path,engine='pyarrow')\n",
    "    time_1.append(time.time()-time_1_start)\n",
    "    num_rows = frame_data_df.shape[0]\n",
    "\n",
    "    # Assuming one_hot_encode_flags can process a series and return a 2D array\n",
    "    # encoded_flags = one_hot_encode_flags(slp.event.Buttons.Physical, frame_data_df['pre_buttons_physical'])\n",
    "\n",
    "\n",
    "    time_2_start = time.time()\n",
    "\n",
    "    inputs = np.empty((4, num_rows), dtype=float)\n",
    "    inputs[0, :] = frame_data_df['pre_joystick_x']\n",
    "    inputs[1, :] = frame_data_df['pre_joystick_y']\n",
    "    inputs[2, :] = frame_data_df['pre_cstick_x']\n",
    "    inputs[3, :] = frame_data_df['pre_cstick_y']\n",
    "    # inputs[4:, :] = encoded_flags\n",
    "    time_2.append(time.time()-time_2_start)\n",
    "    \n",
    "    time_3_start = time.time()\n",
    "    # full_path = os.path.join(save_path, f\"{uuid.uuid4()}.npy.gz\")\n",
    "    # with gzip.open(full_path, 'wb') as f:\n",
    "    #     np.save(f, inputs)\n",
    "    time_3.append(time.time() - time_3_start)\n",
    "    \n",
    "    return inputs"
   ]
  },
  {
   "cell_type": "code",
   "execution_count": null,
   "metadata": {},
   "outputs": [],
   "source": [
    "# process_file(path_list[0],1)\n",
    "manager = Manager()\n",
    "time_1 = manager.list()\n",
    "time_2 = manager.list()\n",
    "time_3 = manager.list()\n",
    "        \n",
    "# Use joblib to parallelize processing of SLP files\n",
    "Parallel(n_jobs=-1, verbose=1)(delayed(process_file)(path,time_1,time_2,time_3) for path in tqdm.tqdm(path_list))\n",
    "\n"
   ]
  },
  {
   "cell_type": "code",
   "execution_count": null,
   "metadata": {},
   "outputs": [],
   "source": [
    "print(sum(time_1))\n",
    "print(sum(time_2))\n",
    "print(sum(time_3))\n"
   ]
  },
  {
   "cell_type": "code",
   "execution_count": null,
   "metadata": {},
   "outputs": [],
   "source": []
  }
 ],
 "metadata": {
  "kernelspec": {
   "display_name": "local_slp",
   "language": "python",
   "name": "python3"
  },
  "language_info": {
   "codemirror_mode": {
    "name": "ipython",
    "version": 3
   },
   "file_extension": ".py",
   "mimetype": "text/x-python",
   "name": "python",
   "nbconvert_exporter": "python",
   "pygments_lexer": "ipython3",
   "version": "3.12.2"
  }
 },
 "nbformat": 4,
 "nbformat_minor": 2
}
