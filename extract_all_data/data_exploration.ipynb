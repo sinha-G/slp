{
 "cells": [
  {
   "cell_type": "code",
   "execution_count": null,
   "metadata": {},
   "outputs": [],
   "source": [
    "import slippi as slp\n",
    "import os as os"
   ]
  },
  {
   "cell_type": "code",
   "execution_count": null,
   "metadata": {},
   "outputs": [],
   "source": [
    "path = \"D:\\\\Mango\\\\Slippi-20240312T153007Z-001\\\\Slippi\\\\Game_20221130T220804.slp\"\n",
    "path = 'D:\\\\Mango\\\\Slippi-20240312T153007Z-001\\\\Slippi\\\\Game_20220505T172728.slp'\n",
    "# path = \"C:\\\\Users\\\\jaspa\\\\Grant ML\\\\master-diamond-9a7a67e8349465790063d59c.slp\"\n",
    "# path = \"C:\\\\Users\\\\jaspa\\\\Grant ML\\\\Slippi_Public_Dataset_v3\\\\00_31_09 Fox + [TITP] Captain Falcon (FoD).slp\"\n",
    "game = slp.Game(path)\n",
    "frames = game.frames\n",
    "print(game.start)\n",
    "print(game.metadata)"
   ]
  },
  {
   "cell_type": "code",
   "execution_count": null,
   "metadata": {},
   "outputs": [],
   "source": [
    "# path = \"D:\\\\Mango\\\\Slippi-20240312T153007Z-001\\\\Slippi\\\\Game_20221130T220804.slp\"\n",
    "path = \"C:\\\\Users\\\\jaspa\\\\Grant ML\\\\master-diamond-9a7a67e8349465790063d59c.slp\"\n",
    "# path = \"C:\\\\Users\\\\jaspa\\\\Grant ML\\\\Slippi_Public_Dataset_v3\\\\00_31_09 Fox + [TITP] Captain Falcon (FoD).slp\"\n",
    "game = slp.Game(path)\n",
    "frames = game.frames\n",
    "print(game.start)\n",
    "print(game.metadata)\n",
    "# print(game.metadata.console_name)"
   ]
  },
  {
   "cell_type": "code",
   "execution_count": null,
   "metadata": {},
   "outputs": [],
   "source": [
    "# path = \"D:\\\\Mango\\\\Slippi-20240312T153007Z-001\\\\Slippi\\\\Game_20221130T220804.slp\"\n",
    "# path = \"C:\\\\Users\\\\jaspa\\\\Grant ML\\\\master-diamond-9a7a67e8349465790063d59c.slp\"\n",
    "path = \"C:\\\\Users\\\\jaspa\\\\Grant ML\\\\Slippi_Public_Dataset_v3\\\\00_31_09 Fox + [TITP] Captain Falcon (FoD).slp\"\n",
    "game = slp.Game(path)\n",
    "frames = game.frames\n",
    "print(game.start)\n",
    "print(game.metadata)"
   ]
  },
  {
   "cell_type": "code",
   "execution_count": null,
   "metadata": {},
   "outputs": [],
   "source": [
    "enum = slp.id.ActionState"
   ]
  },
  {
   "cell_type": "code",
   "execution_count": null,
   "metadata": {},
   "outputs": [],
   "source": [
    "print([e.value for e in enum])\n",
    "\n",
    "# for e in enum:\n",
    "#     print(e.name, e.value)\n",
    "\n",
    "print(enum.__members__)"
   ]
  },
  {
   "cell_type": "code",
   "execution_count": null,
   "metadata": {},
   "outputs": [],
   "source": [
    "import sys\n",
    "sys.path.append('../..')\n",
    "from slp.slp_package.slp_enumerations import InputDataKey, Color\n"
   ]
  },
  {
   "cell_type": "code",
   "execution_count": null,
   "metadata": {},
   "outputs": [],
   "source": [
    "buttons = slp.event.Buttons.Logical\n",
    "print(buttons)"
   ]
  },
  {
   "cell_type": "code",
   "execution_count": null,
   "metadata": {},
   "outputs": [],
   "source": [
    "def one_hot_encode_flags(flag_enum, bitmask):\n",
    "    \"\"\"\n",
    "    One-hot encode the set flags from the given bitmask using the specified IntFlag enumeration.\n",
    "\n",
    "    :param flag_enum: An IntFlag enumeration class with defined flags.\n",
    "    :param bitmask: The integer bitmask representing the set flags.\n",
    "    :return: List of integers representing the one-hot encoded flags.\n",
    "    \"\"\"\n",
    "    # Initialize a list to store the one-hot encoded values\n",
    "    one_hot_encoded = [0] * len(flag_enum)\n",
    "\n",
    "    # Iterate through the flags in the enumeration\n",
    "    for i, flag in enumerate(flag_enum):\n",
    "        if bitmask & flag:\n",
    "            one_hot_encoded[i] = 1\n",
    "\n",
    "    return one_hot_encoded"
   ]
  },
  {
   "cell_type": "code",
   "execution_count": null,
   "metadata": {},
   "outputs": [],
   "source": [
    "# Example usage\n",
    "bitmask = 5\n",
    "encoded = one_hot_encode_flags(slp.event.Buttons.Logical, bitmask)"
   ]
  },
  {
   "cell_type": "code",
   "execution_count": null,
   "metadata": {},
   "outputs": [],
   "source": [
    "print(encoded)"
   ]
  },
  {
   "cell_type": "code",
   "execution_count": null,
   "metadata": {},
   "outputs": [],
   "source": [
    "def to_list(instance):\n",
    "    \"\"\"\n",
    "    Returns a list of all the attributes defined in __slots__ for the given class instance.\n",
    "    \"\"\"\n",
    "    if hasattr(instance, '__slots__'):\n",
    "        return [getattr(instance, slot) for slot in instance.__slots__]\n",
    "    else:\n",
    "        return [getattr(instance, attr) for attr in dir(instance) if not attr.startswith('__')]\n",
    "    \n",
    "frame = frames[1000].ports[1].leader.pre\n",
    "print(to_list(frame))\n"
   ]
  },
  {
   "cell_type": "code",
   "execution_count": null,
   "metadata": {},
   "outputs": [],
   "source": [
    "path = \"D:\\\\Mango\\\\Slippi-20240312T153007Z-001\\\\Slippi\\\\2023-10\\\\Game_20231030T181821.slp\""
   ]
  },
  {
   "cell_type": "code",
   "execution_count": null,
   "metadata": {},
   "outputs": [],
   "source": [
    "print(to_list(frame))"
   ]
  },
  {
   "cell_type": "code",
   "execution_count": null,
   "metadata": {},
   "outputs": [],
   "source": []
  }
 ],
 "metadata": {
  "kernelspec": {
   "display_name": "local_slp",
   "language": "python",
   "name": "python3"
  },
  "language_info": {
   "codemirror_mode": {
    "name": "ipython",
    "version": 3
   },
   "file_extension": ".py",
   "mimetype": "text/x-python",
   "name": "python",
   "nbconvert_exporter": "python",
   "pygments_lexer": "ipython3",
   "version": "3.12.0"
  }
 },
 "nbformat": 4,
 "nbformat_minor": 2
}
