{
 "cells": [
  {
   "cell_type": "code",
   "execution_count": 1,
   "metadata": {},
   "outputs": [],
   "source": [
    "import slippi as slp\n",
    "import os as os"
   ]
  },
  {
   "cell_type": "code",
   "execution_count": 2,
   "metadata": {},
   "outputs": [
    {
     "name": "stdout",
     "output_type": "stream",
     "text": [
      "Start(\n",
      "    is_frozen_ps=False,\n",
      "    is_pal=False,\n",
      "    is_teams=False,\n",
      "    players=(\n",
      "        Player(\n",
      "            character=20:FALCO,\n",
      "            costume=0,\n",
      "            display_name=mang,\n",
      "            stocks=4,\n",
      "            tag=,\n",
      "            team=None,\n",
      "            type=0:HUMAN,\n",
      "            ucf=UCF(\n",
      "                dash_back=1:UCF,\n",
      "                shield_drop=1:UCF)),\n",
      "        Player(\n",
      "            character=9:MARTH,\n",
      "            costume=2,\n",
      "            display_name=KoDoRiN,\n",
      "            stocks=4,\n",
      "            tag=,\n",
      "            team=None,\n",
      "            type=0:HUMAN,\n",
      "            ucf=UCF(\n",
      "                dash_back=1:UCF,\n",
      "                shield_drop=1:UCF)),\n",
      "        None,\n",
      "        None),\n",
      "    random_seed=51035,\n",
      "    slippi=Slippi(\n",
      "        version=3.12.0),\n",
      "    stage=32:FINAL_DESTINATION)\n",
      "Metadata(\n",
      "    console_name=None,\n",
      "    date=2022-05-06 00:27:28+00:00,\n",
      "    duration=131,\n",
      "    platform='dolphin':DOLPHIN,\n",
      "    players=(\n",
      "        Player(\n",
      "            characters={22:FALCO: 131},\n",
      "            netplay=Netplay(\n",
      "                code=MANG#0,\n",
      "                name=mang)),\n",
      "        Player(\n",
      "            characters={18:MARTH: 131},\n",
      "            netplay=Netplay(\n",
      "                code=KOD#0,\n",
      "                name=KoDoRiN)),\n",
      "        None,\n",
      "        None))\n"
     ]
    }
   ],
   "source": [
    "path = \"D:\\\\Mango\\\\Slippi-20240312T153007Z-001\\\\Slippi\\\\Game_20221130T220804.slp\"\n",
    "path = 'D:\\\\Mango\\\\Slippi-20240312T153007Z-001\\\\Slippi\\\\Game_20220505T172728.slp'\n",
    "# path = \"C:\\\\Users\\\\jaspa\\\\Grant ML\\\\master-diamond-9a7a67e8349465790063d59c.slp\"\n",
    "# path = \"C:\\\\Users\\\\jaspa\\\\Grant ML\\\\Slippi_Public_Dataset_v3\\\\00_31_09 Fox + [TITP] Captain Falcon (FoD).slp\"\n",
    "game = slp.Game(path)\n",
    "frames = game.frames\n",
    "print(game.start)\n",
    "print(game.metadata)"
   ]
  },
  {
   "cell_type": "code",
   "execution_count": 3,
   "metadata": {},
   "outputs": [
    {
     "name": "stdout",
     "output_type": "stream",
     "text": [
      "Start(\n",
      "    is_frozen_ps=False,\n",
      "    is_pal=False,\n",
      "    is_teams=False,\n",
      "    players=(\n",
      "        Player(\n",
      "            character=14:ICE_CLIMBERS,\n",
      "            costume=2,\n",
      "            display_name=Diamond Player,\n",
      "            stocks=4,\n",
      "            tag=,\n",
      "            team=None,\n",
      "            type=0:HUMAN,\n",
      "            ucf=UCF(\n",
      "                dash_back=1:UCF,\n",
      "                shield_drop=1:UCF)),\n",
      "        Player(\n",
      "            character=16:SAMUS,\n",
      "            costume=0,\n",
      "            display_name=Master Player,\n",
      "            stocks=4,\n",
      "            tag=,\n",
      "            team=None,\n",
      "            type=0:HUMAN,\n",
      "            ucf=UCF(\n",
      "                dash_back=1:UCF,\n",
      "                shield_drop=1:UCF)),\n",
      "        None,\n",
      "        None),\n",
      "    random_seed=7635,\n",
      "    slippi=Slippi(\n",
      "        version=3.15.0),\n",
      "    stage=28:DREAM_LAND_N64)\n",
      "None\n"
     ]
    }
   ],
   "source": [
    "# path = \"D:\\\\Mango\\\\Slippi-20240312T153007Z-001\\\\Slippi\\\\Game_20221130T220804.slp\"\n",
    "path = \"C:\\\\Users\\\\jaspa\\\\Grant ML\\\\master-diamond-9a7a67e8349465790063d59c.slp\"\n",
    "# path = \"C:\\\\Users\\\\jaspa\\\\Grant ML\\\\Slippi_Public_Dataset_v3\\\\00_31_09 Fox + [TITP] Captain Falcon (FoD).slp\"\n",
    "game = slp.Game(path)\n",
    "frames = game.frames\n",
    "print(game.start)\n",
    "print(game.metadata)\n",
    "# print(game.metadata.console_name)"
   ]
  },
  {
   "cell_type": "code",
   "execution_count": 4,
   "metadata": {},
   "outputs": [
    {
     "name": "stdout",
     "output_type": "stream",
     "text": [
      "Start(\n",
      "    is_frozen_ps=False,\n",
      "    is_pal=False,\n",
      "    is_teams=False,\n",
      "    players=(None, None, Player(\n",
      "        character=2:FOX,\n",
      "        costume=0,\n",
      "        display_name=,\n",
      "        stocks=4,\n",
      "        tag=,\n",
      "        team=None,\n",
      "        type=0:HUMAN,\n",
      "        ucf=UCF(\n",
      "            dash_back=1:UCF,\n",
      "            shield_drop=1:UCF)), Player(\n",
      "        character=0:CAPTAIN_FALCON,\n",
      "        costume=0,\n",
      "        display_name=,\n",
      "        stocks=4,\n",
      "        tag=ＴＩＴＰ,\n",
      "        team=None,\n",
      "        type=0:HUMAN,\n",
      "        ucf=UCF(\n",
      "            dash_back=1:UCF,\n",
      "            shield_drop=1:UCF))),\n",
      "    random_seed=1852834338,\n",
      "    slippi=Slippi(\n",
      "        version=2.0.1),\n",
      "    stage=2:FOUNTAIN_OF_DREAMS)\n",
      "Metadata(\n",
      "    console_name=slpooop,\n",
      "    date=2019-05-14 00:31:09+00:00,\n",
      "    duration=11355,\n",
      "    platform='nintendont':NINTENDONT,\n",
      "    players=(None, None, None, None))\n"
     ]
    }
   ],
   "source": [
    "# path = \"D:\\\\Mango\\\\Slippi-20240312T153007Z-001\\\\Slippi\\\\Game_20221130T220804.slp\"\n",
    "# path = \"C:\\\\Users\\\\jaspa\\\\Grant ML\\\\master-diamond-9a7a67e8349465790063d59c.slp\"\n",
    "path = \"C:\\\\Users\\\\jaspa\\\\Grant ML\\\\Slippi_Public_Dataset_v3\\\\00_31_09 Fox + [TITP] Captain Falcon (FoD).slp\"\n",
    "game = slp.Game(path)\n",
    "frames = game.frames\n",
    "print(game.start)\n",
    "print(game.metadata)"
   ]
  },
  {
   "cell_type": "code",
   "execution_count": 5,
   "metadata": {},
   "outputs": [],
   "source": [
    "enum = slp.id.ActionState"
   ]
  },
  {
   "cell_type": "code",
   "execution_count": 6,
   "metadata": {},
   "outputs": [
    {
     "name": "stdout",
     "output_type": "stream",
     "text": [
      "[0, 1, 2, 3, 4, 5, 6, 7, 8, 9, 10, 11, 12, 13, 14, 15, 16, 17, 18, 19, 20, 21, 22, 23, 24, 25, 26, 27, 28, 29, 30, 31, 32, 33, 34, 35, 36, 37, 38, 39, 40, 41, 42, 43, 44, 45, 46, 47, 48, 49, 50, 51, 52, 53, 54, 55, 56, 57, 58, 59, 60, 61, 62, 63, 64, 65, 66, 67, 68, 69, 70, 71, 72, 73, 74, 75, 76, 77, 78, 79, 80, 81, 82, 83, 84, 85, 86, 87, 88, 89, 90, 91, 92, 93, 94, 95, 96, 97, 98, 99, 100, 101, 102, 103, 104, 105, 106, 107, 108, 109, 110, 111, 112, 113, 114, 115, 116, 117, 118, 119, 120, 121, 122, 123, 124, 125, 126, 127, 128, 129, 130, 131, 132, 133, 134, 135, 136, 137, 138, 139, 140, 141, 142, 143, 144, 145, 146, 147, 148, 149, 150, 151, 152, 153, 154, 155, 156, 157, 158, 159, 160, 161, 162, 163, 164, 165, 166, 167, 168, 169, 170, 171, 172, 173, 174, 175, 176, 177, 178, 179, 180, 181, 182, 183, 184, 185, 186, 187, 188, 189, 190, 191, 192, 193, 194, 195, 196, 197, 198, 199, 200, 201, 202, 203, 204, 205, 206, 207, 208, 209, 210, 211, 212, 213, 214, 215, 216, 217, 218, 219, 220, 221, 222, 223, 224, 225, 226, 227, 228, 229, 230, 231, 232, 233, 234, 235, 236, 237, 238, 239, 240, 241, 242, 243, 244, 245, 246, 247, 248, 249, 250, 251, 252, 253, 254, 255, 256, 257, 258, 259, 260, 261, 262, 263, 264, 265, 266, 267, 268, 269, 270, 271, 272, 273, 274, 275, 276, 277, 278, 279, 280, 281, 282, 283, 284, 285, 286, 287, 288, 289, 290, 291, 292, 293, 294, 295, 296, 297, 298, 299, 300, 301, 302, 303, 304, 305, 306, 307, 308, 309, 310, 311, 312, 313, 314, 315, 316, 317, 318, 319, 320, 321, 322, 323, 324, 325, 326, 327, 328, 329, 330, 331, 332, 333, 334, 335, 336, 337, 338, 339, 340, 341, 342, 343, 344, 345, 346, 347, 348, 349, 350, 351, 352, 353, 354, 355, 356, 357, 358, 359, 360, 361, 362, 363, 364, 365, 366, 367, 368, 369, 370, 371, 372, 373, 374, 375, 376, 377, 378, 379, 380, 381, 382]\n",
      "{'DEAD_DOWN': 0:DEAD_DOWN, 'DEAD_LEFT': 1:DEAD_LEFT, 'DEAD_RIGHT': 2:DEAD_RIGHT, 'DEAD_UP': 3:DEAD_UP, 'DEAD_UP_STAR': 4:DEAD_UP_STAR, 'DEAD_UP_STAR_ICE': 5:DEAD_UP_STAR_ICE, 'DEAD_UP_FALL': 6:DEAD_UP_FALL, 'DEAD_UP_FALL_HIT_CAMERA': 7:DEAD_UP_FALL_HIT_CAMERA, 'DEAD_UP_FALL_HIT_CAMERA_FLAT': 8:DEAD_UP_FALL_HIT_CAMERA_FLAT, 'DEAD_UP_FALL_ICE': 9:DEAD_UP_FALL_ICE, 'DEAD_UP_FALL_HIT_CAMERA_ICE': 10:DEAD_UP_FALL_HIT_CAMERA_ICE, 'SLEEP': 11:SLEEP, 'REBIRTH': 12:REBIRTH, 'REBIRTH_WAIT': 13:REBIRTH_WAIT, 'WAIT': 14:WAIT, 'WALK_SLOW': 15:WALK_SLOW, 'WALK_MIDDLE': 16:WALK_MIDDLE, 'WALK_FAST': 17:WALK_FAST, 'TURN': 18:TURN, 'TURN_RUN': 19:TURN_RUN, 'DASH': 20:DASH, 'RUN': 21:RUN, 'RUN_DIRECT': 22:RUN_DIRECT, 'RUN_BRAKE': 23:RUN_BRAKE, 'KNEE_BEND': 24:KNEE_BEND, 'JUMP_F': 25:JUMP_F, 'JUMP_B': 26:JUMP_B, 'JUMP_AERIAL_F': 27:JUMP_AERIAL_F, 'JUMP_AERIAL_B': 28:JUMP_AERIAL_B, 'FALL': 29:FALL, 'FALL_F': 30:FALL_F, 'FALL_B': 31:FALL_B, 'FALL_AERIAL': 32:FALL_AERIAL, 'FALL_AERIAL_F': 33:FALL_AERIAL_F, 'FALL_AERIAL_B': 34:FALL_AERIAL_B, 'FALL_SPECIAL': 35:FALL_SPECIAL, 'FALL_SPECIAL_F': 36:FALL_SPECIAL_F, 'FALL_SPECIAL_B': 37:FALL_SPECIAL_B, 'DAMAGE_FALL': 38:DAMAGE_FALL, 'SQUAT': 39:SQUAT, 'SQUAT_WAIT': 40:SQUAT_WAIT, 'SQUAT_RV': 41:SQUAT_RV, 'LANDING': 42:LANDING, 'LANDING_FALL_SPECIAL': 43:LANDING_FALL_SPECIAL, 'ATTACK_11': 44:ATTACK_11, 'ATTACK_12': 45:ATTACK_12, 'ATTACK_13': 46:ATTACK_13, 'ATTACK_100_START': 47:ATTACK_100_START, 'ATTACK_100_LOOP': 48:ATTACK_100_LOOP, 'ATTACK_100_END': 49:ATTACK_100_END, 'ATTACK_DASH': 50:ATTACK_DASH, 'ATTACK_S_3_HI': 51:ATTACK_S_3_HI, 'ATTACK_S_3_HI_S': 52:ATTACK_S_3_HI_S, 'ATTACK_S_3_S': 53:ATTACK_S_3_S, 'ATTACK_S_3_LW_S': 54:ATTACK_S_3_LW_S, 'ATTACK_S_3_LW': 55:ATTACK_S_3_LW, 'ATTACK_HI_3': 56:ATTACK_HI_3, 'ATTACK_LW_3': 57:ATTACK_LW_3, 'ATTACK_S_4_HI': 58:ATTACK_S_4_HI, 'ATTACK_S_4_HI_S': 59:ATTACK_S_4_HI_S, 'ATTACK_S_4_S': 60:ATTACK_S_4_S, 'ATTACK_S_4_LW_S': 61:ATTACK_S_4_LW_S, 'ATTACK_S_4_LW': 62:ATTACK_S_4_LW, 'ATTACK_HI_4': 63:ATTACK_HI_4, 'ATTACK_LW_4': 64:ATTACK_LW_4, 'ATTACK_AIR_N': 65:ATTACK_AIR_N, 'ATTACK_AIR_F': 66:ATTACK_AIR_F, 'ATTACK_AIR_B': 67:ATTACK_AIR_B, 'ATTACK_AIR_HI': 68:ATTACK_AIR_HI, 'ATTACK_AIR_LW': 69:ATTACK_AIR_LW, 'LANDING_AIR_N': 70:LANDING_AIR_N, 'LANDING_AIR_F': 71:LANDING_AIR_F, 'LANDING_AIR_B': 72:LANDING_AIR_B, 'LANDING_AIR_HI': 73:LANDING_AIR_HI, 'LANDING_AIR_LW': 74:LANDING_AIR_LW, 'DAMAGE_HI_1': 75:DAMAGE_HI_1, 'DAMAGE_HI_2': 76:DAMAGE_HI_2, 'DAMAGE_HI_3': 77:DAMAGE_HI_3, 'DAMAGE_N_1': 78:DAMAGE_N_1, 'DAMAGE_N_2': 79:DAMAGE_N_2, 'DAMAGE_N_3': 80:DAMAGE_N_3, 'DAMAGE_LW_1': 81:DAMAGE_LW_1, 'DAMAGE_LW_2': 82:DAMAGE_LW_2, 'DAMAGE_LW_3': 83:DAMAGE_LW_3, 'DAMAGE_AIR_1': 84:DAMAGE_AIR_1, 'DAMAGE_AIR_2': 85:DAMAGE_AIR_2, 'DAMAGE_AIR_3': 86:DAMAGE_AIR_3, 'DAMAGE_FLY_HI': 87:DAMAGE_FLY_HI, 'DAMAGE_FLY_N': 88:DAMAGE_FLY_N, 'DAMAGE_FLY_LW': 89:DAMAGE_FLY_LW, 'DAMAGE_FLY_TOP': 90:DAMAGE_FLY_TOP, 'DAMAGE_FLY_ROLL': 91:DAMAGE_FLY_ROLL, 'LIGHT_GET': 92:LIGHT_GET, 'HEAVY_GET': 93:HEAVY_GET, 'LIGHT_THROW_F': 94:LIGHT_THROW_F, 'LIGHT_THROW_B': 95:LIGHT_THROW_B, 'LIGHT_THROW_HI': 96:LIGHT_THROW_HI, 'LIGHT_THROW_LW': 97:LIGHT_THROW_LW, 'LIGHT_THROW_DASH': 98:LIGHT_THROW_DASH, 'LIGHT_THROW_DROP': 99:LIGHT_THROW_DROP, 'LIGHT_THROW_AIR_F': 100:LIGHT_THROW_AIR_F, 'LIGHT_THROW_AIR_B': 101:LIGHT_THROW_AIR_B, 'LIGHT_THROW_AIR_HI': 102:LIGHT_THROW_AIR_HI, 'LIGHT_THROW_AIR_LW': 103:LIGHT_THROW_AIR_LW, 'HEAVY_THROW_F': 104:HEAVY_THROW_F, 'HEAVY_THROW_B': 105:HEAVY_THROW_B, 'HEAVY_THROW_HI': 106:HEAVY_THROW_HI, 'HEAVY_THROW_LW': 107:HEAVY_THROW_LW, 'LIGHT_THROW_F_4': 108:LIGHT_THROW_F_4, 'LIGHT_THROW_B_4': 109:LIGHT_THROW_B_4, 'LIGHT_THROW_HI_4': 110:LIGHT_THROW_HI_4, 'LIGHT_THROW_LW_4': 111:LIGHT_THROW_LW_4, 'LIGHT_THROW_AIR_F_4': 112:LIGHT_THROW_AIR_F_4, 'LIGHT_THROW_AIR_B_4': 113:LIGHT_THROW_AIR_B_4, 'LIGHT_THROW_AIR_HI_4': 114:LIGHT_THROW_AIR_HI_4, 'LIGHT_THROW_AIR_LW_4': 115:LIGHT_THROW_AIR_LW_4, 'HEAVY_THROW_F_4': 116:HEAVY_THROW_F_4, 'HEAVY_THROW_B_4': 117:HEAVY_THROW_B_4, 'HEAVY_THROW_HI_4': 118:HEAVY_THROW_HI_4, 'HEAVY_THROW_LW_4': 119:HEAVY_THROW_LW_4, 'SWORD_SWING_1': 120:SWORD_SWING_1, 'SWORD_SWING_3': 121:SWORD_SWING_3, 'SWORD_SWING_4': 122:SWORD_SWING_4, 'SWORD_SWING_DASH': 123:SWORD_SWING_DASH, 'BAT_SWING_1': 124:BAT_SWING_1, 'BAT_SWING_3': 125:BAT_SWING_3, 'BAT_SWING_4': 126:BAT_SWING_4, 'BAT_SWING_DASH': 127:BAT_SWING_DASH, 'PARASOL_SWING_1': 128:PARASOL_SWING_1, 'PARASOL_SWING_3': 129:PARASOL_SWING_3, 'PARASOL_SWING_4': 130:PARASOL_SWING_4, 'PARASOL_SWING_DASH': 131:PARASOL_SWING_DASH, 'HARISEN_SWING_1': 132:HARISEN_SWING_1, 'HARISEN_SWING_3': 133:HARISEN_SWING_3, 'HARISEN_SWING_4': 134:HARISEN_SWING_4, 'HARISEN_SWING_DASH': 135:HARISEN_SWING_DASH, 'STAR_ROD_SWING_1': 136:STAR_ROD_SWING_1, 'STAR_ROD_SWING_3': 137:STAR_ROD_SWING_3, 'STAR_ROD_SWING_4': 138:STAR_ROD_SWING_4, 'STAR_ROD_SWING_DASH': 139:STAR_ROD_SWING_DASH, 'LIP_STICK_SWING_1': 140:LIP_STICK_SWING_1, 'LIP_STICK_SWING_3': 141:LIP_STICK_SWING_3, 'LIP_STICK_SWING_4': 142:LIP_STICK_SWING_4, 'LIP_STICK_SWING_DASH': 143:LIP_STICK_SWING_DASH, 'ITEM_PARASOL_OPEN': 144:ITEM_PARASOL_OPEN, 'ITEM_PARASOL_FALL': 145:ITEM_PARASOL_FALL, 'ITEM_PARASOL_FALL_SPECIAL': 146:ITEM_PARASOL_FALL_SPECIAL, 'ITEM_PARASOL_DAMAGE_FALL': 147:ITEM_PARASOL_DAMAGE_FALL, 'L_GUN_SHOOT': 148:L_GUN_SHOOT, 'L_GUN_SHOOT_AIR': 149:L_GUN_SHOOT_AIR, 'L_GUN_SHOOT_EMPTY': 150:L_GUN_SHOOT_EMPTY, 'L_GUN_SHOOT_AIR_EMPTY': 151:L_GUN_SHOOT_AIR_EMPTY, 'FIRE_FLOWER_SHOOT': 152:FIRE_FLOWER_SHOOT, 'FIRE_FLOWER_SHOOT_AIR': 153:FIRE_FLOWER_SHOOT_AIR, 'ITEM_SCREW': 154:ITEM_SCREW, 'ITEM_SCREW_AIR': 155:ITEM_SCREW_AIR, 'DAMAGE_SCREW': 156:DAMAGE_SCREW, 'DAMAGE_SCREW_AIR': 157:DAMAGE_SCREW_AIR, 'ITEM_SCOPE_START': 158:ITEM_SCOPE_START, 'ITEM_SCOPE_RAPID': 159:ITEM_SCOPE_RAPID, 'ITEM_SCOPE_FIRE': 160:ITEM_SCOPE_FIRE, 'ITEM_SCOPE_END': 161:ITEM_SCOPE_END, 'ITEM_SCOPE_AIR_START': 162:ITEM_SCOPE_AIR_START, 'ITEM_SCOPE_AIR_RAPID': 163:ITEM_SCOPE_AIR_RAPID, 'ITEM_SCOPE_AIR_FIRE': 164:ITEM_SCOPE_AIR_FIRE, 'ITEM_SCOPE_AIR_END': 165:ITEM_SCOPE_AIR_END, 'ITEM_SCOPE_START_EMPTY': 166:ITEM_SCOPE_START_EMPTY, 'ITEM_SCOPE_RAPID_EMPTY': 167:ITEM_SCOPE_RAPID_EMPTY, 'ITEM_SCOPE_FIRE_EMPTY': 168:ITEM_SCOPE_FIRE_EMPTY, 'ITEM_SCOPE_END_EMPTY': 169:ITEM_SCOPE_END_EMPTY, 'ITEM_SCOPE_AIR_START_EMPTY': 170:ITEM_SCOPE_AIR_START_EMPTY, 'ITEM_SCOPE_AIR_RAPID_EMPTY': 171:ITEM_SCOPE_AIR_RAPID_EMPTY, 'ITEM_SCOPE_AIR_FIRE_EMPTY': 172:ITEM_SCOPE_AIR_FIRE_EMPTY, 'ITEM_SCOPE_AIR_END_EMPTY': 173:ITEM_SCOPE_AIR_END_EMPTY, 'LIFT_WAIT': 174:LIFT_WAIT, 'LIFT_WALK_1': 175:LIFT_WALK_1, 'LIFT_WALK_2': 176:LIFT_WALK_2, 'LIFT_TURN': 177:LIFT_TURN, 'GUARD_ON': 178:GUARD_ON, 'GUARD': 179:GUARD, 'GUARD_OFF': 180:GUARD_OFF, 'GUARD_SET_OFF': 181:GUARD_SET_OFF, 'GUARD_REFLECT': 182:GUARD_REFLECT, 'DOWN_BOUND_U': 183:DOWN_BOUND_U, 'DOWN_WAIT_U': 184:DOWN_WAIT_U, 'DOWN_DAMAGE_U': 185:DOWN_DAMAGE_U, 'DOWN_STAND_U': 186:DOWN_STAND_U, 'DOWN_ATTACK_U': 187:DOWN_ATTACK_U, 'DOWN_FOWARD_U': 188:DOWN_FOWARD_U, 'DOWN_BACK_U': 189:DOWN_BACK_U, 'DOWN_SPOT_U': 190:DOWN_SPOT_U, 'DOWN_BOUND_D': 191:DOWN_BOUND_D, 'DOWN_WAIT_D': 192:DOWN_WAIT_D, 'DOWN_DAMAGE_D': 193:DOWN_DAMAGE_D, 'DOWN_STAND_D': 194:DOWN_STAND_D, 'DOWN_ATTACK_D': 195:DOWN_ATTACK_D, 'DOWN_FOWARD_D': 196:DOWN_FOWARD_D, 'DOWN_BACK_D': 197:DOWN_BACK_D, 'DOWN_SPOT_D': 198:DOWN_SPOT_D, 'PASSIVE': 199:PASSIVE, 'PASSIVE_STAND_F': 200:PASSIVE_STAND_F, 'PASSIVE_STAND_B': 201:PASSIVE_STAND_B, 'PASSIVE_WALL': 202:PASSIVE_WALL, 'PASSIVE_WALL_JUMP': 203:PASSIVE_WALL_JUMP, 'PASSIVE_CEIL': 204:PASSIVE_CEIL, 'SHIELD_BREAK_FLY': 205:SHIELD_BREAK_FLY, 'SHIELD_BREAK_FALL': 206:SHIELD_BREAK_FALL, 'SHIELD_BREAK_DOWN_U': 207:SHIELD_BREAK_DOWN_U, 'SHIELD_BREAK_DOWN_D': 208:SHIELD_BREAK_DOWN_D, 'SHIELD_BREAK_STAND_U': 209:SHIELD_BREAK_STAND_U, 'SHIELD_BREAK_STAND_D': 210:SHIELD_BREAK_STAND_D, 'FURA_FURA': 211:FURA_FURA, 'CATCH': 212:CATCH, 'CATCH_PULL': 213:CATCH_PULL, 'CATCH_DASH': 214:CATCH_DASH, 'CATCH_DASH_PULL': 215:CATCH_DASH_PULL, 'CATCH_WAIT': 216:CATCH_WAIT, 'CATCH_ATTACK': 217:CATCH_ATTACK, 'CATCH_CUT': 218:CATCH_CUT, 'THROW_F': 219:THROW_F, 'THROW_B': 220:THROW_B, 'THROW_HI': 221:THROW_HI, 'THROW_LW': 222:THROW_LW, 'CAPTURE_PULLED_HI': 223:CAPTURE_PULLED_HI, 'CAPTURE_WAIT_HI': 224:CAPTURE_WAIT_HI, 'CAPTURE_DAMAGE_HI': 225:CAPTURE_DAMAGE_HI, 'CAPTURE_PULLED_LW': 226:CAPTURE_PULLED_LW, 'CAPTURE_WAIT_LW': 227:CAPTURE_WAIT_LW, 'CAPTURE_DAMAGE_LW': 228:CAPTURE_DAMAGE_LW, 'CAPTURE_CUT': 229:CAPTURE_CUT, 'CAPTURE_JUMP': 230:CAPTURE_JUMP, 'CAPTURE_NECK': 231:CAPTURE_NECK, 'CAPTURE_FOOT': 232:CAPTURE_FOOT, 'ESCAPE_F': 233:ESCAPE_F, 'ESCAPE_B': 234:ESCAPE_B, 'ESCAPE': 235:ESCAPE, 'ESCAPE_AIR': 236:ESCAPE_AIR, 'REBOUND_STOP': 237:REBOUND_STOP, 'REBOUND': 238:REBOUND, 'THROWN_F': 239:THROWN_F, 'THROWN_B': 240:THROWN_B, 'THROWN_HI': 241:THROWN_HI, 'THROWN_LW': 242:THROWN_LW, 'THROWN_LW_WOMEN': 243:THROWN_LW_WOMEN, 'PASS': 244:PASS, 'OTTOTTO': 245:OTTOTTO, 'OTTOTTO_WAIT': 246:OTTOTTO_WAIT, 'FLY_REFLECT_WALL': 247:FLY_REFLECT_WALL, 'FLY_REFLECT_CEIL': 248:FLY_REFLECT_CEIL, 'STOP_WALL': 249:STOP_WALL, 'STOP_CEIL': 250:STOP_CEIL, 'MISS_FOOT': 251:MISS_FOOT, 'CLIFF_CATCH': 252:CLIFF_CATCH, 'CLIFF_WAIT': 253:CLIFF_WAIT, 'CLIFF_CLIMB_SLOW': 254:CLIFF_CLIMB_SLOW, 'CLIFF_CLIMB_QUICK': 255:CLIFF_CLIMB_QUICK, 'CLIFF_ATTACK_SLOW': 256:CLIFF_ATTACK_SLOW, 'CLIFF_ATTACK_QUICK': 257:CLIFF_ATTACK_QUICK, 'CLIFF_ESCAPE_SLOW': 258:CLIFF_ESCAPE_SLOW, 'CLIFF_ESCAPE_QUICK': 259:CLIFF_ESCAPE_QUICK, 'CLIFF_JUMP_SLOW_1': 260:CLIFF_JUMP_SLOW_1, 'CLIFF_JUMP_SLOW_2': 261:CLIFF_JUMP_SLOW_2, 'CLIFF_JUMP_QUICK_1': 262:CLIFF_JUMP_QUICK_1, 'CLIFF_JUMP_QUICK_2': 263:CLIFF_JUMP_QUICK_2, 'APPEAL_R': 264:APPEAL_R, 'APPEAL_L': 265:APPEAL_L, 'SHOULDERED_WAIT': 266:SHOULDERED_WAIT, 'SHOULDERED_WALK_SLOW': 267:SHOULDERED_WALK_SLOW, 'SHOULDERED_WALK_MIDDLE': 268:SHOULDERED_WALK_MIDDLE, 'SHOULDERED_WALK_FAST': 269:SHOULDERED_WALK_FAST, 'SHOULDERED_TURN': 270:SHOULDERED_TURN, 'THROWN_F_F': 271:THROWN_F_F, 'THROWN_F_B': 272:THROWN_F_B, 'THROWN_F_HI': 273:THROWN_F_HI, 'THROWN_F_LW': 274:THROWN_F_LW, 'CAPTURE_CAPTAIN': 275:CAPTURE_CAPTAIN, 'CAPTURE_YOSHI': 276:CAPTURE_YOSHI, 'YOSHI_EGG': 277:YOSHI_EGG, 'CAPTURE_KOOPA': 278:CAPTURE_KOOPA, 'CAPTURE_DAMAGE_KOOPA': 279:CAPTURE_DAMAGE_KOOPA, 'CAPTURE_WAIT_KOOPA': 280:CAPTURE_WAIT_KOOPA, 'THROWN_KOOPA_F': 281:THROWN_KOOPA_F, 'THROWN_KOOPA_B': 282:THROWN_KOOPA_B, 'CAPTURE_KOOPA_AIR': 283:CAPTURE_KOOPA_AIR, 'CAPTURE_DAMAGE_KOOPA_AIR': 284:CAPTURE_DAMAGE_KOOPA_AIR, 'CAPTURE_WAIT_KOOPA_AIR': 285:CAPTURE_WAIT_KOOPA_AIR, 'THROWN_KOOPA_AIR_F': 286:THROWN_KOOPA_AIR_F, 'THROWN_KOOPA_AIR_B': 287:THROWN_KOOPA_AIR_B, 'CAPTURE_KIRBY': 288:CAPTURE_KIRBY, 'CAPTURE_WAIT_KIRBY': 289:CAPTURE_WAIT_KIRBY, 'THROWN_KIRBY_STAR': 290:THROWN_KIRBY_STAR, 'THROWN_COPY_STAR': 291:THROWN_COPY_STAR, 'THROWN_KIRBY': 292:THROWN_KIRBY, 'BARREL_WAIT': 293:BARREL_WAIT, 'BURY': 294:BURY, 'BURY_WAIT': 295:BURY_WAIT, 'BURY_JUMP': 296:BURY_JUMP, 'DAMAGE_SONG': 297:DAMAGE_SONG, 'DAMAGE_SONG_WAIT': 298:DAMAGE_SONG_WAIT, 'DAMAGE_SONG_RV': 299:DAMAGE_SONG_RV, 'DAMAGE_BIND': 300:DAMAGE_BIND, 'CAPTURE_MEWTWO': 301:CAPTURE_MEWTWO, 'CAPTURE_MEWTWO_AIR': 302:CAPTURE_MEWTWO_AIR, 'THROWN_MEWTWO': 303:THROWN_MEWTWO, 'THROWN_MEWTWO_AIR': 304:THROWN_MEWTWO_AIR, 'WARP_STAR_JUMP': 305:WARP_STAR_JUMP, 'WARP_STAR_FALL': 306:WARP_STAR_FALL, 'HAMMER_WAIT': 307:HAMMER_WAIT, 'HAMMER_WALK': 308:HAMMER_WALK, 'HAMMER_TURN': 309:HAMMER_TURN, 'HAMMER_KNEE_BEND': 310:HAMMER_KNEE_BEND, 'HAMMER_FALL': 311:HAMMER_FALL, 'HAMMER_JUMP': 312:HAMMER_JUMP, 'HAMMER_LANDING': 313:HAMMER_LANDING, 'KINOKO_GIANT_START': 314:KINOKO_GIANT_START, 'KINOKO_GIANT_START_AIR': 315:KINOKO_GIANT_START_AIR, 'KINOKO_GIANT_END': 316:KINOKO_GIANT_END, 'KINOKO_GIANT_END_AIR': 317:KINOKO_GIANT_END_AIR, 'KINOKO_SMALL_START': 318:KINOKO_SMALL_START, 'KINOKO_SMALL_START_AIR': 319:KINOKO_SMALL_START_AIR, 'KINOKO_SMALL_END': 320:KINOKO_SMALL_END, 'KINOKO_SMALL_END_AIR': 321:KINOKO_SMALL_END_AIR, 'ENTRY': 322:ENTRY, 'ENTRY_START': 323:ENTRY_START, 'ENTRY_END': 324:ENTRY_END, 'DAMAGE_ICE': 325:DAMAGE_ICE, 'DAMAGE_ICE_JUMP': 326:DAMAGE_ICE_JUMP, 'CAPTURE_MASTER_HAND': 327:CAPTURE_MASTER_HAND, 'CAPTURE_DAMAGE_MASTER_HAND': 328:CAPTURE_DAMAGE_MASTER_HAND, 'CAPTURE_WAIT_MASTER_HAND': 329:CAPTURE_WAIT_MASTER_HAND, 'THROWN_MASTER_HAND': 330:THROWN_MASTER_HAND, 'CAPTURE_KIRBY_YOSHI': 331:CAPTURE_KIRBY_YOSHI, 'KIRBY_YOSHI_EGG': 332:KIRBY_YOSHI_EGG, 'CAPTURE_REDEAD': 333:CAPTURE_REDEAD, 'CAPTURE_LIKE_LIKE': 334:CAPTURE_LIKE_LIKE, 'DOWN_REFLECT': 335:DOWN_REFLECT, 'CAPTURE_CRAZY_HAND': 336:CAPTURE_CRAZY_HAND, 'CAPTURE_DAMAGE_CRAZY_HAND': 337:CAPTURE_DAMAGE_CRAZY_HAND, 'CAPTURE_WAIT_CRAZY_HAND': 338:CAPTURE_WAIT_CRAZY_HAND, 'THROWN_CRAZY_HAND': 339:THROWN_CRAZY_HAND, 'BARREL_CANNON_WAIT': 340:BARREL_CANNON_WAIT, 'WAIT_1': 341:WAIT_1, 'WAIT_2': 342:WAIT_2, 'WAIT_3': 343:WAIT_3, 'WAIT_4': 344:WAIT_4, 'WAIT_ITEM': 345:WAIT_ITEM, 'SQUAT_WAIT_1': 346:SQUAT_WAIT_1, 'SQUAT_WAIT_2': 347:SQUAT_WAIT_2, 'SQUAT_WAIT_ITEM': 348:SQUAT_WAIT_ITEM, 'GUARD_DAMAGE': 349:GUARD_DAMAGE, 'ESCAPE_N': 350:ESCAPE_N, 'ATTACK_S_4_HOLD': 351:ATTACK_S_4_HOLD, 'HEAVY_WALK_1': 352:HEAVY_WALK_1, 'HEAVY_WALK_2': 353:HEAVY_WALK_2, 'ITEM_HAMMER_WAIT': 354:ITEM_HAMMER_WAIT, 'ITEM_HAMMER_MOVE': 355:ITEM_HAMMER_MOVE, 'ITEM_BLIND': 356:ITEM_BLIND, 'DAMAGE_ELEC': 357:DAMAGE_ELEC, 'FURA_SLEEP_START': 358:FURA_SLEEP_START, 'FURA_SLEEP_LOOP': 359:FURA_SLEEP_LOOP, 'FURA_SLEEP_END': 360:FURA_SLEEP_END, 'WALL_DAMAGE': 361:WALL_DAMAGE, 'CLIFF_WAIT_1': 362:CLIFF_WAIT_1, 'CLIFF_WAIT_2': 363:CLIFF_WAIT_2, 'SLIP_DOWN': 364:SLIP_DOWN, 'SLIP': 365:SLIP, 'SLIP_TURN': 366:SLIP_TURN, 'SLIP_DASH': 367:SLIP_DASH, 'SLIP_WAIT': 368:SLIP_WAIT, 'SLIP_STAND': 369:SLIP_STAND, 'SLIP_ATTACK': 370:SLIP_ATTACK, 'SLIP_ESCAPE_F': 371:SLIP_ESCAPE_F, 'SLIP_ESCAPE_B': 372:SLIP_ESCAPE_B, 'APPEAL_S': 373:APPEAL_S, 'ZITABATA': 374:ZITABATA, 'CAPTURE_KOOPA_HIT': 375:CAPTURE_KOOPA_HIT, 'THROWN_KOOPA_END_F': 376:THROWN_KOOPA_END_F, 'THROWN_KOOPA_END_B': 377:THROWN_KOOPA_END_B, 'CAPTURE_KOOPA_AIR_HIT': 378:CAPTURE_KOOPA_AIR_HIT, 'THROWN_KOOPA_AIR_END_F': 379:THROWN_KOOPA_AIR_END_F, 'THROWN_KOOPA_AIR_END_B': 380:THROWN_KOOPA_AIR_END_B, 'THROWN_KIRBY_DRINK_S_SHOT': 381:THROWN_KIRBY_DRINK_S_SHOT, 'THROWN_KIRBY_SPIT_S_SHOT': 382:THROWN_KIRBY_SPIT_S_SHOT}\n"
     ]
    }
   ],
   "source": [
    "print([e.value for e in enum])\n",
    "\n",
    "# for e in enum:\n",
    "#     print(e.name, e.value)\n",
    "\n",
    "print(enum.__members__)"
   ]
  },
  {
   "cell_type": "code",
   "execution_count": 7,
   "metadata": {},
   "outputs": [],
   "source": [
    "import sys\n",
    "sys.path.append('../..')\n",
    "from slp.slp_package.slp_enumerations import InputDataKey, Color\n"
   ]
  },
  {
   "cell_type": "code",
   "execution_count": null,
   "metadata": {},
   "outputs": [],
   "source": []
  },
  {
   "cell_type": "code",
   "execution_count": 17,
   "metadata": {},
   "outputs": [
    {
     "name": "stdout",
     "output_type": "stream",
     "text": [
      "<class 'enum.EnumType'>\n",
      "TRIGGER_ANALOG 2147483648\n",
      "CSTICK_RIGHT 8388608\n",
      "CSTICK_LEFT 4194304\n",
      "CSTICK_DOWN 2097152\n",
      "CSTICK_UP 1048576\n",
      "JOYSTICK_RIGHT 524288\n",
      "JOYSTICK_LEFT 262144\n",
      "JOYSTICK_DOWN 131072\n",
      "JOYSTICK_UP 65536\n",
      "START 4096\n",
      "Y 2048\n",
      "X 1024\n",
      "B 512\n",
      "A 256\n",
      "L 64\n",
      "R 32\n",
      "Z 16\n",
      "DPAD_UP 8\n",
      "DPAD_DOWN 4\n",
      "DPAD_RIGHT 2\n",
      "DPAD_LEFT 1\n"
     ]
    }
   ],
   "source": [
    "buttons = slp.event.Buttons.Logical\n",
    "print(type(buttons))\n",
    "for b in buttons:\n",
    "    print(b.name, b.value)"
   ]
  },
  {
   "cell_type": "code",
   "execution_count": 9,
   "metadata": {},
   "outputs": [],
   "source": [
    "def one_hot_encode_flags(flag_enum, bitmask):\n",
    "    \"\"\"\n",
    "    One-hot encode the set flags from the given bitmask using the specified IntFlag enumeration.\n",
    "\n",
    "    :param flag_enum: An IntFlag enumeration class with defined flags.\n",
    "    :param bitmask: The integer bitmask representing the set flags.\n",
    "    :return: List of integers representing the one-hot encoded flags.\n",
    "    \"\"\"\n",
    "    # Initialize a list to store the one-hot encoded values\n",
    "    one_hot_encoded = [0] * len(flag_enum)\n",
    "\n",
    "    # Iterate through the flags in the enumeration\n",
    "    for i, flag in enumerate(flag_enum):\n",
    "        if bitmask & flag:\n",
    "            one_hot_encoded[i] = 1\n",
    "\n",
    "    return one_hot_encoded"
   ]
  },
  {
   "cell_type": "code",
   "execution_count": 10,
   "metadata": {},
   "outputs": [],
   "source": [
    "# Example usage\n",
    "bitmask = 5\n",
    "encoded = one_hot_encode_flags(slp.event.Buttons.Physical, bitmask)"
   ]
  },
  {
   "cell_type": "code",
   "execution_count": 11,
   "metadata": {},
   "outputs": [
    {
     "name": "stdout",
     "output_type": "stream",
     "text": [
      "[0, 0, 0, 0, 0, 0, 0, 0, 0, 1, 0, 1]\n"
     ]
    }
   ],
   "source": [
    "print(encoded)"
   ]
  },
  {
   "cell_type": "code",
   "execution_count": 12,
   "metadata": {},
   "outputs": [
    {
     "ename": "AttributeError",
     "evalue": "'NoneType' object has no attribute 'leader'",
     "output_type": "error",
     "traceback": [
      "\u001b[1;31m---------------------------------------------------------------------------\u001b[0m",
      "\u001b[1;31mAttributeError\u001b[0m                            Traceback (most recent call last)",
      "Cell \u001b[1;32mIn[12], line 10\u001b[0m\n\u001b[0;32m      7\u001b[0m     \u001b[38;5;28;01melse\u001b[39;00m:\n\u001b[0;32m      8\u001b[0m         \u001b[38;5;28;01mreturn\u001b[39;00m [\u001b[38;5;28mgetattr\u001b[39m(instance, attr) \u001b[38;5;28;01mfor\u001b[39;00m attr \u001b[38;5;129;01min\u001b[39;00m \u001b[38;5;28mdir\u001b[39m(instance) \u001b[38;5;28;01mif\u001b[39;00m \u001b[38;5;129;01mnot\u001b[39;00m attr\u001b[38;5;241m.\u001b[39mstartswith(\u001b[38;5;124m'\u001b[39m\u001b[38;5;124m__\u001b[39m\u001b[38;5;124m'\u001b[39m)]\n\u001b[1;32m---> 10\u001b[0m frame \u001b[38;5;241m=\u001b[39m \u001b[43mframes\u001b[49m\u001b[43m[\u001b[49m\u001b[38;5;241;43m1000\u001b[39;49m\u001b[43m]\u001b[49m\u001b[38;5;241;43m.\u001b[39;49m\u001b[43mports\u001b[49m\u001b[43m[\u001b[49m\u001b[38;5;241;43m1\u001b[39;49m\u001b[43m]\u001b[49m\u001b[38;5;241;43m.\u001b[39;49m\u001b[43mleader\u001b[49m\u001b[38;5;241m.\u001b[39mpre\n\u001b[0;32m     11\u001b[0m \u001b[38;5;28mprint\u001b[39m(to_list(frame))\n",
      "\u001b[1;31mAttributeError\u001b[0m: 'NoneType' object has no attribute 'leader'"
     ]
    }
   ],
   "source": [
    "def to_list(instance):\n",
    "    \"\"\"\n",
    "    Returns a list of all the attributes defined in __slots__ for the given class instance.\n",
    "    \"\"\"\n",
    "    if hasattr(instance, '__slots__'):\n",
    "        return [getattr(instance, slot) for slot in instance.__slots__]\n",
    "    else:\n",
    "        return [getattr(instance, attr) for attr in dir(instance) if not attr.startswith('__')]\n",
    "    \n",
    "frame = frames[1000].ports[1].leader.pre\n",
    "print(to_list(frame))\n"
   ]
  },
  {
   "cell_type": "code",
   "execution_count": null,
   "metadata": {},
   "outputs": [],
   "source": [
    "path = \"D:\\\\Mango\\\\Slippi-20240312T153007Z-001\\\\Slippi\\\\2023-10\\\\Game_20231030T181821.slp\""
   ]
  },
  {
   "cell_type": "code",
   "execution_count": null,
   "metadata": {},
   "outputs": [],
   "source": [
    "print(to_list(frame))"
   ]
  },
  {
   "cell_type": "code",
   "execution_count": null,
   "metadata": {},
   "outputs": [],
   "source": []
  }
 ],
 "metadata": {
  "kernelspec": {
   "display_name": "local_slp",
   "language": "python",
   "name": "python3"
  },
  "language_info": {
   "codemirror_mode": {
    "name": "ipython",
    "version": 3
   },
   "file_extension": ".py",
   "mimetype": "text/x-python",
   "name": "python",
   "nbconvert_exporter": "python",
   "pygments_lexer": "ipython3",
   "version": "3.12.0"
  }
 },
 "nbformat": 4,
 "nbformat_minor": 2
}
