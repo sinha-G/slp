{
 "cells": [
  {
   "cell_type": "markdown",
   "metadata": {},
   "source": [
    "<h1>Data processing</h1>\n",
    "We delete inputs that are not used and combine inputs that do the same thing. We also convert the j-stick and c-stick to polar. \n",
    "\n",
    "First load the libraires."
   ]
  },
  {
   "cell_type": "code",
   "execution_count": 1,
   "metadata": {},
   "outputs": [],
   "source": [
    "import os as os\n",
    "import numpy as np\n",
    "import pandas as pd"
   ]
  },
  {
   "cell_type": "markdown",
   "metadata": {},
   "source": [
    "<h2>Load dataframe</h2>\n",
    "We load the data we extracted from the replayes in the data_extraction noteboox. We also make a list of the buttons as they appear in the data."
   ]
  },
  {
   "cell_type": "code",
   "execution_count": 2,
   "metadata": {},
   "outputs": [
    {
     "data": {
      "text/html": [
       "<div>\n",
       "<style scoped>\n",
       "    .dataframe tbody tr th:only-of-type {\n",
       "        vertical-align: middle;\n",
       "    }\n",
       "\n",
       "    .dataframe tbody tr th {\n",
       "        vertical-align: top;\n",
       "    }\n",
       "\n",
       "    .dataframe thead th {\n",
       "        text-align: right;\n",
       "    }\n",
       "</style>\n",
       "<table border=\"1\" class=\"dataframe\">\n",
       "  <thead>\n",
       "    <tr style=\"text-align: right;\">\n",
       "      <th></th>\n",
       "      <th>spl_file</th>\n",
       "      <th>game_segment</th>\n",
       "      <th>is_sheik</th>\n",
       "      <th>input_data</th>\n",
       "    </tr>\n",
       "  </thead>\n",
       "  <tbody>\n",
       "    <tr>\n",
       "      <th>0</th>\n",
       "      <td>02_29_27.272Z Sheik + [C2] Fox (YS).slp</td>\n",
       "      <td>0</td>\n",
       "      <td>1</td>\n",
       "      <td>[[0.0, 0.0, 0.0, 0.0, 0.0, 0.0, 0.0, 0.0, 1.0,...</td>\n",
       "    </tr>\n",
       "    <tr>\n",
       "      <th>1</th>\n",
       "      <td>10_33_38 Sheik + Fox (DL).slp</td>\n",
       "      <td>0</td>\n",
       "      <td>1</td>\n",
       "      <td>[[0.0, 0.0, 0.0, 0.0, 0.0, 0.0, 0.0, 0.0, 0.0,...</td>\n",
       "    </tr>\n",
       "    <tr>\n",
       "      <th>2</th>\n",
       "      <td>01_04_11.432Z [EASY] Fox + [LUST] Sheik (PS).slp</td>\n",
       "      <td>0</td>\n",
       "      <td>1</td>\n",
       "      <td>[[0.0, 0.0, 0.0, 0.0, 0.0, 0.0, 0.0, 0.0, 0.0,...</td>\n",
       "    </tr>\n",
       "    <tr>\n",
       "      <th>3</th>\n",
       "      <td>10_33_38 Sheik + Fox (DL).slp</td>\n",
       "      <td>0</td>\n",
       "      <td>0</td>\n",
       "      <td>[[0.0, 0.0, 0.0, 0.0, 0.0, 0.0, 0.0, 0.0, 0.0,...</td>\n",
       "    </tr>\n",
       "    <tr>\n",
       "      <th>4</th>\n",
       "      <td>10_37_27 Sheik + Fox (FoD).slp</td>\n",
       "      <td>0</td>\n",
       "      <td>1</td>\n",
       "      <td>[[0.0, 0.0, 0.0, 0.0, 0.0, 0.0, 0.0, 0.0, 0.0,...</td>\n",
       "    </tr>\n",
       "  </tbody>\n",
       "</table>\n",
       "</div>"
      ],
      "text/plain": [
       "                                           spl_file  game_segment  is_sheik  \\\n",
       "0           02_29_27.272Z Sheik + [C2] Fox (YS).slp             0         1   \n",
       "1                     10_33_38 Sheik + Fox (DL).slp             0         1   \n",
       "2  01_04_11.432Z [EASY] Fox + [LUST] Sheik (PS).slp             0         1   \n",
       "3                     10_33_38 Sheik + Fox (DL).slp             0         0   \n",
       "4                    10_37_27 Sheik + Fox (FoD).slp             0         1   \n",
       "\n",
       "                                          input_data  \n",
       "0  [[0.0, 0.0, 0.0, 0.0, 0.0, 0.0, 0.0, 0.0, 1.0,...  \n",
       "1  [[0.0, 0.0, 0.0, 0.0, 0.0, 0.0, 0.0, 0.0, 0.0,...  \n",
       "2  [[0.0, 0.0, 0.0, 0.0, 0.0, 0.0, 0.0, 0.0, 0.0,...  \n",
       "3  [[0.0, 0.0, 0.0, 0.0, 0.0, 0.0, 0.0, 0.0, 0.0,...  \n",
       "4  [[0.0, 0.0, 0.0, 0.0, 0.0, 0.0, 0.0, 0.0, 0.0,...  "
      ]
     },
     "execution_count": 2,
     "metadata": {},
     "output_type": "execute_result"
    }
   ],
   "source": [
    "data_file_path = '../../data/Sheik_vs_Fox_1024_frames.pkl'\n",
    "df = pd.read_pickle(data_file_path)\n",
    "# button_labels = ['DPAD_LEFT', 'DPAD_RIGHT', 'DPAD_DOWN', 'DPAD_UP', 'Z', 'R', 'L', 'A', 'B', 'X', 'Y', 'START','J_X','J_Y','C_X','C_Y','T_L','T_R']\n",
    "\n",
    "# Print the first few rows to make sure we have the data we expect.\n",
    "df.head()"
   ]
  },
  {
   "cell_type": "markdown",
   "metadata": {},
   "source": [
    "<h2>Delete with unused inputs</h2>\n",
    "We delete the left, right, up, and down dpad inputs as well as the start input."
   ]
  },
  {
   "cell_type": "code",
   "execution_count": 3,
   "metadata": {},
   "outputs": [
    {
     "name": "stdout",
     "output_type": "stream",
     "text": [
      "original input shape (1024, 18)\n",
      "relevant input shape (1024, 11)\n"
     ]
    },
    {
     "data": {
      "text/html": [
       "<div>\n",
       "<style scoped>\n",
       "    .dataframe tbody tr th:only-of-type {\n",
       "        vertical-align: middle;\n",
       "    }\n",
       "\n",
       "    .dataframe tbody tr th {\n",
       "        vertical-align: top;\n",
       "    }\n",
       "\n",
       "    .dataframe thead th {\n",
       "        text-align: right;\n",
       "    }\n",
       "</style>\n",
       "<table border=\"1\" class=\"dataframe\">\n",
       "  <thead>\n",
       "    <tr style=\"text-align: right;\">\n",
       "      <th></th>\n",
       "      <th>spl_file</th>\n",
       "      <th>game_segment</th>\n",
       "      <th>is_sheik</th>\n",
       "      <th>input_data</th>\n",
       "      <th>relevant_input_data</th>\n",
       "    </tr>\n",
       "  </thead>\n",
       "  <tbody>\n",
       "    <tr>\n",
       "      <th>0</th>\n",
       "      <td>02_29_27.272Z Sheik + [C2] Fox (YS).slp</td>\n",
       "      <td>0</td>\n",
       "      <td>1</td>\n",
       "      <td>[[0.0, 0.0, 0.0, 0.0, 0.0, 0.0, 0.0, 0.0, 1.0,...</td>\n",
       "      <td>[[0.0, 0.0, 1.0, 0.0, 0.0, 0.0, 0.0, 0.0, 0.0,...</td>\n",
       "    </tr>\n",
       "    <tr>\n",
       "      <th>1</th>\n",
       "      <td>10_33_38 Sheik + Fox (DL).slp</td>\n",
       "      <td>0</td>\n",
       "      <td>1</td>\n",
       "      <td>[[0.0, 0.0, 0.0, 0.0, 0.0, 0.0, 0.0, 0.0, 0.0,...</td>\n",
       "      <td>[[0.0, 0.0, 0.0, 0.0, 0.0, 0.0, -1.0, 0.0, 0.0...</td>\n",
       "    </tr>\n",
       "    <tr>\n",
       "      <th>2</th>\n",
       "      <td>01_04_11.432Z [EASY] Fox + [LUST] Sheik (PS).slp</td>\n",
       "      <td>0</td>\n",
       "      <td>1</td>\n",
       "      <td>[[0.0, 0.0, 0.0, 0.0, 0.0, 0.0, 0.0, 0.0, 0.0,...</td>\n",
       "      <td>[[0.0, 0.0, 0.0, 0.0, 0.0, 0.0, 0.0, 0.0, 0.0,...</td>\n",
       "    </tr>\n",
       "    <tr>\n",
       "      <th>3</th>\n",
       "      <td>10_33_38 Sheik + Fox (DL).slp</td>\n",
       "      <td>0</td>\n",
       "      <td>0</td>\n",
       "      <td>[[0.0, 0.0, 0.0, 0.0, 0.0, 0.0, 0.0, 0.0, 0.0,...</td>\n",
       "      <td>[[0.0, 0.0, 0.0, 0.0, 0.0, -0.699999988079071,...</td>\n",
       "    </tr>\n",
       "    <tr>\n",
       "      <th>4</th>\n",
       "      <td>10_37_27 Sheik + Fox (FoD).slp</td>\n",
       "      <td>0</td>\n",
       "      <td>1</td>\n",
       "      <td>[[0.0, 0.0, 0.0, 0.0, 0.0, 0.0, 0.0, 0.0, 0.0,...</td>\n",
       "      <td>[[0.0, 0.0, 0.0, 0.0, 0.0, 0.0, 0.0, 0.0, 0.0,...</td>\n",
       "    </tr>\n",
       "  </tbody>\n",
       "</table>\n",
       "</div>"
      ],
      "text/plain": [
       "                                           spl_file  game_segment  is_sheik  \\\n",
       "0           02_29_27.272Z Sheik + [C2] Fox (YS).slp             0         1   \n",
       "1                     10_33_38 Sheik + Fox (DL).slp             0         1   \n",
       "2  01_04_11.432Z [EASY] Fox + [LUST] Sheik (PS).slp             0         1   \n",
       "3                     10_33_38 Sheik + Fox (DL).slp             0         0   \n",
       "4                    10_37_27 Sheik + Fox (FoD).slp             0         1   \n",
       "\n",
       "                                          input_data  \\\n",
       "0  [[0.0, 0.0, 0.0, 0.0, 0.0, 0.0, 0.0, 0.0, 1.0,...   \n",
       "1  [[0.0, 0.0, 0.0, 0.0, 0.0, 0.0, 0.0, 0.0, 0.0,...   \n",
       "2  [[0.0, 0.0, 0.0, 0.0, 0.0, 0.0, 0.0, 0.0, 0.0,...   \n",
       "3  [[0.0, 0.0, 0.0, 0.0, 0.0, 0.0, 0.0, 0.0, 0.0,...   \n",
       "4  [[0.0, 0.0, 0.0, 0.0, 0.0, 0.0, 0.0, 0.0, 0.0,...   \n",
       "\n",
       "                                 relevant_input_data  \n",
       "0  [[0.0, 0.0, 1.0, 0.0, 0.0, 0.0, 0.0, 0.0, 0.0,...  \n",
       "1  [[0.0, 0.0, 0.0, 0.0, 0.0, 0.0, -1.0, 0.0, 0.0...  \n",
       "2  [[0.0, 0.0, 0.0, 0.0, 0.0, 0.0, 0.0, 0.0, 0.0,...  \n",
       "3  [[0.0, 0.0, 0.0, 0.0, 0.0, -0.699999988079071,...  \n",
       "4  [[0.0, 0.0, 0.0, 0.0, 0.0, 0.0, 0.0, 0.0, 0.0,...  "
      ]
     },
     "execution_count": 3,
     "metadata": {},
     "output_type": "execute_result"
    }
   ],
   "source": [
    "# Define the indices of the columns we do not need\n",
    "columns_to_remove = [0, 1, 2, 3, 6, 7, 11]      # TODO: Implement an enumeration\n",
    "\n",
    "# Use a list comprehension to create a new 'TimeSeries' column with modified arrays\n",
    "df['relevant_input_data'] = [np.delete(array, columns_to_remove, axis=1) for array in df['input_data']]\n",
    "\n",
    "print('original input shape', df['input_data'][1].shape)\n",
    "print('relevant input shape', df['relevant_input_data'][1].shape)\n",
    "df.head()\n"
   ]
  },
  {
   "cell_type": "markdown",
   "metadata": {},
   "source": [
    "<h2>Split input data into columns</h2>"
   ]
  },
  {
   "cell_type": "code",
   "execution_count": 4,
   "metadata": {},
   "outputs": [],
   "source": [
    "# Define the labels for the new columns\n",
    "new_column_labels = ['Z', 'A', 'B', 'X', 'Y', 'J_X', 'J_Y', 'C_X', 'C_Y', 'T_L', 'T_R']\n",
    "\n",
    "# Iterate through the new column labels and add them to the DataFrame\n",
    "for label in new_column_labels:\n",
    "    df[label] = df['relevant_input_data'].apply(lambda arr: arr[:, new_column_labels.index(label)])"
   ]
  },
  {
   "cell_type": "markdown",
   "metadata": {},
   "source": [
    "<h2> Create new columns</h2>\n",
    "(X and Y) and (the triggers) do the same thing so we make a new column that is the max of these buttons. We convert the j-stick and c-stick to polar coordinates."
   ]
  },
  {
   "cell_type": "code",
   "execution_count": 5,
   "metadata": {},
   "outputs": [
    {
     "name": "stdout",
     "output_type": "stream",
     "text": [
      "Index(['spl_file', 'game_segment', 'is_sheik', 'input_data',\n",
      "       'relevant_input_data', 'Z', 'A', 'B', 'X', 'Y', 'J_X', 'J_Y', 'C_X',\n",
      "       'C_Y', 'T_L', 'T_R', 'max_X_Y', 'max_L_R', 'J_theta', 'J_radius',\n",
      "       'C_theta', 'C_radius'],\n",
      "      dtype='object')\n"
     ]
    },
    {
     "data": {
      "text/html": [
       "<div>\n",
       "<style scoped>\n",
       "    .dataframe tbody tr th:only-of-type {\n",
       "        vertical-align: middle;\n",
       "    }\n",
       "\n",
       "    .dataframe tbody tr th {\n",
       "        vertical-align: top;\n",
       "    }\n",
       "\n",
       "    .dataframe thead th {\n",
       "        text-align: right;\n",
       "    }\n",
       "</style>\n",
       "<table border=\"1\" class=\"dataframe\">\n",
       "  <thead>\n",
       "    <tr style=\"text-align: right;\">\n",
       "      <th></th>\n",
       "      <th>spl_file</th>\n",
       "      <th>game_segment</th>\n",
       "      <th>is_sheik</th>\n",
       "      <th>input_data</th>\n",
       "      <th>relevant_input_data</th>\n",
       "      <th>Z</th>\n",
       "      <th>A</th>\n",
       "      <th>B</th>\n",
       "      <th>X</th>\n",
       "      <th>Y</th>\n",
       "      <th>...</th>\n",
       "      <th>C_X</th>\n",
       "      <th>C_Y</th>\n",
       "      <th>T_L</th>\n",
       "      <th>T_R</th>\n",
       "      <th>max_X_Y</th>\n",
       "      <th>max_L_R</th>\n",
       "      <th>J_theta</th>\n",
       "      <th>J_radius</th>\n",
       "      <th>C_theta</th>\n",
       "      <th>C_radius</th>\n",
       "    </tr>\n",
       "  </thead>\n",
       "  <tbody>\n",
       "    <tr>\n",
       "      <th>0</th>\n",
       "      <td>02_29_27.272Z Sheik + [C2] Fox (YS).slp</td>\n",
       "      <td>0</td>\n",
       "      <td>1</td>\n",
       "      <td>[[0.0, 0.0, 0.0, 0.0, 0.0, 0.0, 0.0, 0.0, 1.0,...</td>\n",
       "      <td>[[0.0, 0.0, 1.0, 0.0, 0.0, 0.0, 0.0, 0.0, 0.0,...</td>\n",
       "      <td>[0.0, 0.0, 0.0, 0.0, 0.0, 0.0, 0.0, 0.0, 0.0, ...</td>\n",
       "      <td>[0.0, 0.0, 0.0, 0.0, 0.0, 0.0, 0.0, 0.0, 0.0, ...</td>\n",
       "      <td>[1.0, 1.0, 1.0, 1.0, 1.0, 0.0, 0.0, 0.0, 0.0, ...</td>\n",
       "      <td>[0.0, 0.0, 0.0, 0.0, 0.0, 0.0, 0.0, 0.0, 0.0, ...</td>\n",
       "      <td>[0.0, 0.0, 0.0, 0.0, 0.0, 0.0, 0.0, 0.0, 0.0, ...</td>\n",
       "      <td>...</td>\n",
       "      <td>[0.0, 0.0, 0.0, 0.0, 0.0, 0.0, 0.0, 0.0, 0.0, ...</td>\n",
       "      <td>[0.0, 0.0, 0.0, 0.0, 0.0, 0.0, 0.0, 0.0, 0.0, ...</td>\n",
       "      <td>[0.014285714365541935, 0.014285714365541935, 0...</td>\n",
       "      <td>[0.014285714365541935, 0.014285714365541935, 0...</td>\n",
       "      <td>[0.0, 0.0, 0.0, 0.0, 0.0, 0.0, 0.0, 0.0, 0.0, ...</td>\n",
       "      <td>[0.014285714365541935, 0.014285714365541935, 0...</td>\n",
       "      <td>[0.0, 0.0, 0.0, 0.0, 0.0, 0.0, 0.0, 0.0, 0.0, ...</td>\n",
       "      <td>[0.0, 0.0, 0.0, 0.0, 0.0, 0.0, 0.0, 0.0, 0.0, ...</td>\n",
       "      <td>[0.0, 0.0, 0.0, 0.0, 0.0, 0.0, 0.0, 0.0, 0.0, ...</td>\n",
       "      <td>[0.0, 0.0, 0.0, 0.0, 0.0, 0.0, 0.0, 0.0, 0.0, ...</td>\n",
       "    </tr>\n",
       "  </tbody>\n",
       "</table>\n",
       "<p>1 rows × 22 columns</p>\n",
       "</div>"
      ],
      "text/plain": [
       "                                  spl_file  game_segment  is_sheik  \\\n",
       "0  02_29_27.272Z Sheik + [C2] Fox (YS).slp             0         1   \n",
       "\n",
       "                                          input_data  \\\n",
       "0  [[0.0, 0.0, 0.0, 0.0, 0.0, 0.0, 0.0, 0.0, 1.0,...   \n",
       "\n",
       "                                 relevant_input_data  \\\n",
       "0  [[0.0, 0.0, 1.0, 0.0, 0.0, 0.0, 0.0, 0.0, 0.0,...   \n",
       "\n",
       "                                                   Z  \\\n",
       "0  [0.0, 0.0, 0.0, 0.0, 0.0, 0.0, 0.0, 0.0, 0.0, ...   \n",
       "\n",
       "                                                   A  \\\n",
       "0  [0.0, 0.0, 0.0, 0.0, 0.0, 0.0, 0.0, 0.0, 0.0, ...   \n",
       "\n",
       "                                                   B  \\\n",
       "0  [1.0, 1.0, 1.0, 1.0, 1.0, 0.0, 0.0, 0.0, 0.0, ...   \n",
       "\n",
       "                                                   X  \\\n",
       "0  [0.0, 0.0, 0.0, 0.0, 0.0, 0.0, 0.0, 0.0, 0.0, ...   \n",
       "\n",
       "                                                   Y  ...  \\\n",
       "0  [0.0, 0.0, 0.0, 0.0, 0.0, 0.0, 0.0, 0.0, 0.0, ...  ...   \n",
       "\n",
       "                                                 C_X  \\\n",
       "0  [0.0, 0.0, 0.0, 0.0, 0.0, 0.0, 0.0, 0.0, 0.0, ...   \n",
       "\n",
       "                                                 C_Y  \\\n",
       "0  [0.0, 0.0, 0.0, 0.0, 0.0, 0.0, 0.0, 0.0, 0.0, ...   \n",
       "\n",
       "                                                 T_L  \\\n",
       "0  [0.014285714365541935, 0.014285714365541935, 0...   \n",
       "\n",
       "                                                 T_R  \\\n",
       "0  [0.014285714365541935, 0.014285714365541935, 0...   \n",
       "\n",
       "                                             max_X_Y  \\\n",
       "0  [0.0, 0.0, 0.0, 0.0, 0.0, 0.0, 0.0, 0.0, 0.0, ...   \n",
       "\n",
       "                                             max_L_R  \\\n",
       "0  [0.014285714365541935, 0.014285714365541935, 0...   \n",
       "\n",
       "                                             J_theta  \\\n",
       "0  [0.0, 0.0, 0.0, 0.0, 0.0, 0.0, 0.0, 0.0, 0.0, ...   \n",
       "\n",
       "                                            J_radius  \\\n",
       "0  [0.0, 0.0, 0.0, 0.0, 0.0, 0.0, 0.0, 0.0, 0.0, ...   \n",
       "\n",
       "                                             C_theta  \\\n",
       "0  [0.0, 0.0, 0.0, 0.0, 0.0, 0.0, 0.0, 0.0, 0.0, ...   \n",
       "\n",
       "                                            C_radius  \n",
       "0  [0.0, 0.0, 0.0, 0.0, 0.0, 0.0, 0.0, 0.0, 0.0, ...  \n",
       "\n",
       "[1 rows x 22 columns]"
      ]
     },
     "execution_count": 5,
     "metadata": {},
     "output_type": "execute_result"
    }
   ],
   "source": [
    "# Create a new column 'max_X_Y' with the maximum of 'X' and 'Y' numpy arrays\n",
    "df['max_X_Y'] = df.apply(lambda row: np.maximum(row['X'], row['Y']), axis=1)\n",
    "\n",
    "# Create a new column 'max_T' with the maximum of 'T_L' and 'T_Y' numpy arrays\n",
    "df['max_L_R'] = df.apply(lambda row: np.maximum(row['T_L'], row['T_R']), axis=1)\n",
    "\n",
    "# Convert 'J_X' and 'J_Y' to polar coordinates and create 'J_theta' and 'J_radius' columns\n",
    "df['J_theta'] = df.apply(lambda row: np.arctan2(row['J_Y'], row['J_X']), axis=1)\n",
    "df['J_radius'] = df.apply(lambda row: np.sqrt(row['J_X'] ** 2 + row['J_Y'] ** 2), axis=1)\n",
    "\n",
    "# Convert 'C_X' and 'C_Y' to polar coordinates and create 'C_theta' and 'C_radius' columns\n",
    "df['C_theta'] = df.apply(lambda row: np.arctan2(row['C_Y'], row['C_X']), axis=1)\n",
    "df['C_radius'] = df.apply(lambda row: np.sqrt(row['C_X'] ** 2 + row['C_Y'] ** 2), axis=1)\n",
    "\n",
    "# Display the columns of the DataFrame\n",
    "print(df.columns)\n",
    "df.head(1)"
   ]
  },
  {
   "cell_type": "markdown",
   "metadata": {},
   "source": [
    "<h2>Create columns with reduced inputs</h2>\n",
    "One column with sticks encoded in cartesian coordinates and the second in polar."
   ]
  },
  {
   "cell_type": "code",
   "execution_count": 6,
   "metadata": {},
   "outputs": [
    {
     "name": "stdout",
     "output_type": "stream",
     "text": [
      "(1024, 9)\n"
     ]
    }
   ],
   "source": [
    "buttons_to_train_on_cart = ['Z', 'A', 'B', 'max_X_Y', 'max_L_R', 'J_X', 'J_Y', 'C_X', 'C_Y']\n",
    "\n",
    "# Function to create the (900, 9) array for each row\n",
    "def create_training_input_cart(row):\n",
    "    return np.stack([row[button] for button in buttons_to_train_on_cart], axis=1)\n",
    "\n",
    "# Apply the function across the DataFrame\n",
    "df['training_inputs_cart'] = df.apply(create_training_input_cart, axis=1)\n",
    "\n",
    "# Verify the shape of the first element in 'training_inputs_cart'\n",
    "print(df['training_inputs_cart'].iloc[0].shape)  # Should output (900, 9)"
   ]
  },
  {
   "cell_type": "code",
   "execution_count": 7,
   "metadata": {},
   "outputs": [
    {
     "name": "stdout",
     "output_type": "stream",
     "text": [
      "(1024, 9)\n"
     ]
    }
   ],
   "source": [
    "buttons_to_train_on_polar = ['Z', 'A', 'B', 'max_X_Y', 'max_L_R', 'J_theta', 'J_radius', 'C_theta', 'C_radius']\n",
    "\n",
    "# Function to create the (900, 9) array for each row\n",
    "def create_training_input_polar(row):\n",
    "    return np.stack([row[button] for button in buttons_to_train_on_polar], axis=1)\n",
    "\n",
    "# Apply the function across the DataFrame\n",
    "df['training_inputs_polar'] = df.apply(create_training_input_polar, axis=1)\n",
    "\n",
    "# Verify the shape of the first element in 'training_inputs_polar'\n",
    "print(df['training_inputs_polar'].iloc[0].shape)  # Should output (900, 9)"
   ]
  },
  {
   "cell_type": "markdown",
   "metadata": {},
   "source": [
    "<h2>Save Data</h2>"
   ]
  },
  {
   "cell_type": "code",
   "execution_count": 8,
   "metadata": {},
   "outputs": [],
   "source": [
    "df_train_cart = df[['is_sheik','training_inputs_cart']]\n",
    "df_train_polar = df[['is_sheik','training_inputs_polar']]\n",
    "\n",
    "# df_train_cart.to_pickle('../data/sheik_v_fox_15_seconds_cartesian.pkl')\n",
    "# df_train_polar.to_pickle('../data/sheik_v_fox_15_seconds_polar.pkl')"
   ]
  },
  {
   "cell_type": "markdown",
   "metadata": {},
   "source": [
    "<h2> Save as NumPy </h2>"
   ]
  },
  {
   "cell_type": "code",
   "execution_count": 9,
   "metadata": {},
   "outputs": [
    {
     "name": "stdout",
     "output_type": "stream",
     "text": [
      "(42768, 24)\n",
      "1024\n",
      "(42768, 9, 1024)\n",
      "(42768,)\n"
     ]
    }
   ],
   "source": [
    "print(df.shape)\n",
    "print(df['training_inputs_polar'][0].shape[0])\n",
    "X_cart= df['training_inputs_polar']     # Get all input data from dataset.\n",
    "X_cart = np.stack(X_cart, axis = 0)           # Convert from list of np arrays to np array.\n",
    "X_cart = X_cart.reshape((df.shape[0], 9, df['training_inputs_polar'][0].shape[0]))      # Swaps from (48982, 900, 9) -> (48982, 9, 900).\n",
    "\n",
    "X_polar= df['training_inputs_polar']     # Get all input data from dataset.\n",
    "X_polar = np.stack(X_polar, axis = 0)           # Convert from list of np arrays to np array.\n",
    "X_polar = X_polar.reshape((df.shape[0], 9, df['training_inputs_polar'][0].shape[0]))      # Swaps from (48982, 900, 9) -> (48982, 9, 900).\n",
    "\n",
    "y = df['is_sheik']                  # Get all labels from dataset.\n",
    "y = np.array(y)                     # Convert from list to np array.\n",
    "\n",
    "print(X_polar.shape)\n",
    "print(y.shape)\n",
    "# Save as a Binary file\n",
    "np.save('../../data/training_inputs_cart_numpy_binary_1024.npy', X_cart)\n",
    "np.save('../../data/training_inputs_polar_numpy_binary_1024.npy', X_polar)\n",
    "np.save('../../data/labes_is_sheik_numpy_binary_1024.npy', y)"
   ]
  }
 ],
 "metadata": {
  "kernelspec": {
   "display_name": "slp",
   "language": "python",
   "name": "python3"
  },
  "language_info": {
   "codemirror_mode": {
    "name": "ipython",
    "version": 3
   },
   "file_extension": ".py",
   "mimetype": "text/x-python",
   "name": "python",
   "nbconvert_exporter": "python",
   "pygments_lexer": "ipython3",
   "version": "3.12.0"
  }
 },
 "nbformat": 4,
 "nbformat_minor": 2
}
