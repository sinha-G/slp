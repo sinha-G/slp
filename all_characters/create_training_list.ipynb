{
 "cells": [
  {
   "cell_type": "markdown",
   "metadata": {},
   "source": [
    "Step 1: Counting Segments for Each Character"
   ]
  },
  {
   "cell_type": "code",
   "execution_count": null,
   "metadata": {},
   "outputs": [],
   "source": [
    "import time\n",
    "\n",
    "t_1 = time.time()"
   ]
  },
  {
   "cell_type": "code",
   "execution_count": null,
   "metadata": {},
   "outputs": [],
   "source": [
    "import os\n",
    "from collections import defaultdict\n",
    "import matplotlib.pyplot as plt\n",
    "\n",
    "# dataset_path = 'C:/Users/jaspa/Grant ML/slp/data/full_2_player_game_inputs'\n",
    "dataset_path = 'C:/Users/jaspa/Grant ML/slp/data/full_2_player_game_inputs'\n",
    "# dataset_path = 'D:/segment_2_player_game_inputs'\n",
    "\n",
    "# Initialize a dictionary to count segments for each character\n",
    "character_counts_full = defaultdict(int)\n",
    "\n",
    "# List all files in the directory\n",
    "for filename in os.listdir(dataset_path):\n",
    "    if filename.endswith('.npy.gz'):\n",
    "    # if filename.endswith('.npy'):\n",
    "        character = filename.split('_port')[0]  # Extract character name from the filename\n",
    "        character_counts_full[character] += 1\n",
    "\n",
    "# Sort characters by the number of segments\n",
    "sorted_characters = sorted(character_counts_full.items(), key=lambda x: x[1], reverse=True)\n",
    "\n",
    "# Unpack the characters and counts for plotting\n",
    "characters, counts = zip(*sorted_characters)\n",
    "\n",
    "# Plotting\n",
    "plt.figure(figsize=(15, 10))\n",
    "bars = plt.bar(characters, counts)\n",
    "plt.xlabel('Character')\n",
    "plt.ylabel('Number of Full Game Inputs')\n",
    "plt.xticks(rotation=90, ha='center')  # Rotate the labels to 90 degrees and center align them\n",
    "plt.title('Number of Games per Character')\n",
    "\n",
    "# Adding the count above each bar\n",
    "for bar, count in zip(bars, counts):\n",
    "    yval = bar.get_height()\n",
    "    plt.text(bar.get_x() + bar.get_width() / 2.0, yval, int(count), va='bottom', ha='center')\n",
    "\n",
    "plt.tight_layout()  # Adjust the layout to make room for the rotated labels\n",
    "plt.show()"
   ]
  },
  {
   "cell_type": "code",
   "execution_count": null,
   "metadata": {},
   "outputs": [],
   "source": [
    "import os\n",
    "from collections import defaultdict\n",
    "import matplotlib.pyplot as plt\n",
    "\n",
    "dataset_path = 'C:/Users/jaspa/Grant ML/slp/data/segment_2_player_game_inputs'\n",
    "# dataset_path = 'D:/segment_2_player_game_inputs'\n",
    "\n",
    "# dataset_path = 'C:/Users/jaspa/Grant ML/slp/data/full_2_player_game_inputs'\n",
    "\n",
    "# Initialize a dictionary to count segments for each character\n",
    "character_counts = defaultdict(int)\n",
    "\n",
    "# List all files in the directory\n",
    "for filename in os.listdir(dataset_path):\n",
    "    if filename.endswith('.npy.gz'):\n",
    "    # if filename.endswith('.npy'):\n",
    "        character = filename.split('_port')[0]  # Extract character name from the filename\n",
    "        character_counts[character] += 1\n",
    "\n",
    "# Sort characters by the number of segments\n",
    "sorted_characters = sorted(character_counts.items(), key=lambda x: x[1], reverse=True)\n",
    "\n",
    "# Unpack the characters and counts for plotting\n",
    "characters, counts = zip(*sorted_characters)\n",
    "\n",
    "# Plotting\n",
    "plt.figure(figsize=(15, 10))\n",
    "bars = plt.bar(characters, counts)\n",
    "plt.xlabel('Character')\n",
    "plt.ylabel('Number of Segments')\n",
    "plt.xticks(rotation=90, ha='center')  # Rotate the labels to 90 degrees and center align them\n",
    "plt.title('Number of Segments per Character')\n",
    "\n",
    "# Adding the count above each bar\n",
    "for bar, count in zip(bars, counts):\n",
    "    yval = bar.get_height()\n",
    "    plt.text(bar.get_x() + bar.get_width() / 2.0, yval, int(count), va='bottom', ha='center')\n",
    "\n",
    "plt.tight_layout()  # Adjust the layout to make room for the rotated labels\n",
    "plt.show()\n",
    "\n"
   ]
  },
  {
   "cell_type": "markdown",
   "metadata": {},
   "source": [
    "Step 2 & 3: Gathering File Paths and Labels for Selected Characters"
   ]
  },
  {
   "cell_type": "code",
   "execution_count": null,
   "metadata": {},
   "outputs": [],
   "source": [
    "selected_characters = ['FOX',  'SHEIK',]#\"PEACH\",'CAPTAIN_FALCON', 'MARTH',]#'FALCO']\n",
    "min_segments = min(character_counts[char] for char in selected_characters)\n",
    "# min_segments = 5000\n",
    "file_paths = []\n",
    "labels = {char: idx for idx, char in enumerate(selected_characters)}\n",
    "label_list = []\n",
    "\n",
    "# Gather file paths and labels\n",
    "for character in selected_characters:\n",
    "    count = 0\n",
    "    for filename in os.listdir(dataset_path):\n",
    "        if filename.startswith(character) and count < min_segments:\n",
    "            file_paths.append(os.path.join(dataset_path, filename))\n",
    "            label_list.append(labels[character])\n",
    "            count += 1\n",
    "\n",
    "# Verify the lengths\n",
    "print(f\"Total files selected: {len(file_paths)}\")\n"
   ]
  },
  {
   "cell_type": "markdown",
   "metadata": {},
   "source": [
    "Step 4: Saving Lists to Disk\n",
    "We'll save the file_paths and label_list to disk using the pickle module for easy retrieval."
   ]
  },
  {
   "cell_type": "code",
   "execution_count": null,
   "metadata": {},
   "outputs": [],
   "source": [
    "import pickle\n",
    "\n",
    "save_path = 'C:/Users/jaspa/Grant ML/slp/data/'\n",
    "\n",
    "# Save file_paths\n",
    "with open(os.path.join(save_path, 'file_paths.pkl'), 'wb') as f:\n",
    "    pickle.dump(file_paths, f)\n",
    "\n",
    "# Save label_list\n",
    "with open(os.path.join(save_path, 'label_list.pkl'), 'wb') as f:\n",
    "    pickle.dump(label_list, f)\n",
    "\n",
    "print(\"Lists saved successfully.\")\n"
   ]
  },
  {
   "cell_type": "code",
   "execution_count": null,
   "metadata": {},
   "outputs": [],
   "source": [
    "# import gzip\n",
    "# import numpy as np\n",
    "# with gzip.open(file_paths[1], 'rb') as f:\n",
    "#             segment = np.load(f)\n",
    "            \n",
    "# print(segment.shape)"
   ]
  },
  {
   "cell_type": "code",
   "execution_count": null,
   "metadata": {},
   "outputs": [],
   "source": [
    "total_time = time.time() - t_1\n",
    "\n",
    "print('total time ', total_time)"
   ]
  },
  {
   "cell_type": "code",
   "execution_count": null,
   "metadata": {},
   "outputs": [],
   "source": [
    "print(character_counts)\n",
    "import math\n",
    "character_counts_root = {k:math.ceil(math.sqrt(v)) for (k,v) in character_counts.items()}\n",
    "print(character_counts_root)"
   ]
  },
  {
   "cell_type": "code",
   "execution_count": null,
   "metadata": {},
   "outputs": [],
   "source": [
    "print(character_counts_full)\n",
    "import math\n",
    "character_counts_full_root = {k:math.ceil(math.sqrt(v)) for (k,v) in character_counts_full.items()}\n",
    "print(character_counts_full_root)"
   ]
  },
  {
   "cell_type": "code",
   "execution_count": null,
   "metadata": {},
   "outputs": [],
   "source": []
  }
 ],
 "metadata": {
  "kernelspec": {
   "display_name": "pytorch",
   "language": "python",
   "name": "python3"
  },
  "language_info": {
   "codemirror_mode": {
    "name": "ipython",
    "version": 3
   },
   "file_extension": ".py",
   "mimetype": "text/x-python",
   "name": "python",
   "nbconvert_exporter": "python",
   "pygments_lexer": "ipython3",
   "version": "3.12.0"
  }
 },
 "nbformat": 4,
 "nbformat_minor": 2
}
